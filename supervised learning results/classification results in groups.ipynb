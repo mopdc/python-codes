{
 "cells": [
  {
   "cell_type": "markdown",
   "metadata": {
    "toc": true
   },
   "source": [
    "<h1>Table of Contents<span class=\"tocSkip\"></span></h1>\n",
    "<div class=\"toc\"><ul class=\"toc-item\"><li><span><a href=\"#Preparação\" data-toc-modified-id=\"Preparação-1\"><span class=\"toc-item-num\">1&nbsp;&nbsp;</span>Preparação</a></span><ul class=\"toc-item\"><li><span><a href=\"#Libraries\" data-toc-modified-id=\"Libraries-1.1\"><span class=\"toc-item-num\">1.1&nbsp;&nbsp;</span>Libraries</a></span></li><li><span><a href=\"#Funções\" data-toc-modified-id=\"Funções-1.2\"><span class=\"toc-item-num\">1.2&nbsp;&nbsp;</span>Funções</a></span></li><li><span><a href=\"#Criando-dados-e-aplicando-modelo\" data-toc-modified-id=\"Criando-dados-e-aplicando-modelo-1.3\"><span class=\"toc-item-num\">1.3&nbsp;&nbsp;</span>Criando dados e aplicando modelo</a></span></li></ul></li><li><span><a href=\"#Análises-Gráficas\" data-toc-modified-id=\"Análises-Gráficas-2\"><span class=\"toc-item-num\">2&nbsp;&nbsp;</span>Análises Gráficas</a></span><ul class=\"toc-item\"><li><span><a href=\"#Precisão-por-faixa---Barras-empilhadas\" data-toc-modified-id=\"Precisão-por-faixa---Barras-empilhadas-2.1\"><span class=\"toc-item-num\">2.1&nbsp;&nbsp;</span>Precisão por faixa - Barras empilhadas</a></span></li><li><span><a href=\"#Métricas-com-variação-de-ponto-de-corte-ou-quantis\" data-toc-modified-id=\"Métricas-com-variação-de-ponto-de-corte-ou-quantis-2.2\"><span class=\"toc-item-num\">2.2&nbsp;&nbsp;</span>Métricas com variação de ponto de corte ou quantis</a></span><ul class=\"toc-item\"><li><span><a href=\"#Gráfico-com-Precisão-e-volumes-respectivos-analisados\" data-toc-modified-id=\"Gráfico-com-Precisão-e-volumes-respectivos-analisados-2.2.1\"><span class=\"toc-item-num\">2.2.1&nbsp;&nbsp;</span>Gráfico com Precisão e volumes respectivos analisados</a></span></li><li><span><a href=\"#Gráfico-único-com-Precisão,-Recall,-F1\" data-toc-modified-id=\"Gráfico-único-com-Precisão,-Recall,-F1-2.2.2\"><span class=\"toc-item-num\">2.2.2&nbsp;&nbsp;</span>Gráfico único com Precisão, Recall, F1</a></span></li></ul></li></ul></li></ul></div>"
   ]
  },
  {
   "cell_type": "markdown",
   "metadata": {},
   "source": [
    "# Preparação"
   ]
  },
  {
   "cell_type": "markdown",
   "metadata": {
    "ExecuteTime": {
     "end_time": "2020-07-02T23:10:45.486983Z",
     "start_time": "2020-07-02T23:10:45.472500Z"
    },
    "heading_collapsed": true
   },
   "source": [
    "## Libraries"
   ]
  },
  {
   "cell_type": "code",
   "execution_count": 1,
   "metadata": {
    "ExecuteTime": {
     "end_time": "2020-07-03T03:24:39.769929Z",
     "start_time": "2020-07-03T03:24:37.780253Z"
    },
    "hidden": true
   },
   "outputs": [],
   "source": [
    "import pandas as pd\n",
    "import numpy as np\n",
    "from numpy.random import normal\n",
    "from random import seed, choices\n",
    "from itertools import product\n",
    "from tqdm import tqdm_notebook\n",
    "from datetime import datetime, timedelta\n",
    "from sklearn.metrics import make_scorer, f1_score, fbeta_score, roc_auc_score, auc, roc_curve, precision_score, recall_score, classification_report, confusion_matrix, accuracy_score\n",
    "from textwrap import wrap\n",
    "\n",
    "# Importando funções para plotly\n",
    "import plotly.graph_objects as go\n",
    "import plotly.figure_factory as ff\n",
    "from plotly.offline import plot\n",
    "from plotly.subplots import make_subplots\n",
    "import sys\n",
    "import os\n",
    "import warnings\n",
    "if not sys.warnoptions:\n",
    "    warnings.simplefilter('ignore')\n",
    "    os.environ['PYTHONWARNINGS'] = 'ignore'\n",
    "\n",
    "################################################\n",
    "# Pasta raíz, onde está esse arquivo\n",
    "#path = os.path.abspath(os.getcwd())\n",
    "\n",
    "# Setando caminhos\n",
    "#pathout = os.path.join(path, 'Graficos')\n",
    "################################################\n",
    "\n",
    "# Importando pacotes\n"
   ]
  },
  {
   "cell_type": "code",
   "execution_count": 2,
   "metadata": {
    "ExecuteTime": {
     "end_time": "2020-07-03T03:24:39.776911Z",
     "start_time": "2020-07-03T03:24:39.772922Z"
    },
    "hidden": true
   },
   "outputs": [],
   "source": [
    "#dados1 = pd.read_csv('teste1.csv',sep=';',decimal=',')\n",
    "#dados2 = pd.read_csv('teste2.csv',sep=';',decimal=',')\n",
    "#print(dados1.head(4))\n",
    "#print(dados2.head(4))"
   ]
  },
  {
   "cell_type": "markdown",
   "metadata": {
    "ExecuteTime": {
     "end_time": "2020-07-02T23:27:14.072640Z",
     "start_time": "2020-07-02T23:27:14.066657Z"
    },
    "heading_collapsed": true
   },
   "source": [
    "## Funções"
   ]
  },
  {
   "cell_type": "code",
   "execution_count": 3,
   "metadata": {
    "ExecuteTime": {
     "end_time": "2020-07-03T03:24:39.813848Z",
     "start_time": "2020-07-03T03:24:39.778906Z"
    },
    "hidden": true
   },
   "outputs": [],
   "source": [
    "def probability_groups (n_groups, train_probs, y_train, test_probs, y_test):\n",
    "    '''\n",
    "    n_groups: number of groups to split train/test data \n",
    "    train_probs: train data probability given by models\n",
    "    y_train: train data real class\n",
    "    test_probs: test data probability given by models\n",
    "    y_test: test data real class   \n",
    "    \n",
    "    '''\n",
    "    ser, bins = pd.qcut(train_probs, n_groups, retbins = True)\n",
    "    bins2 = bins.copy()\n",
    "    \n",
    "    bins2[0] = 0\n",
    "    bins2[n_groups] = 1\n",
    "    train_table = pd.DataFrame(pd.crosstab(ser, y_train))\n",
    "    train_table.columns = ['N_0', 'N_1']\n",
    "    train_table['total'] = train_table.N_0 + train_table.N_1\n",
    "    train_table['P_1'] = np.round(train_table['N_1'] / train_table['total'],2)\n",
    "    train_table['P_0'] = np.round(train_table['N_0'] / train_table['total'],2)\n",
    "\n",
    "    train_table['P_total'] = np.round((train_table['total'] / sum(train_table.total) ), 2)\n",
    "    train_group = ser.copy()\n",
    "\n",
    "    test_group = pd.cut(test_probs, bins=bins2, labels=False, include_lowest=True)\n",
    "    test_table = pd.DataFrame(pd.crosstab(test_group, y_test))\n",
    "    \n",
    "    \n",
    "    test_table.columns = ['N_0', 'N_1']\n",
    "    test_table['total'] = test_table.N_0 + test_table.N_1\n",
    "    test_table['P_1'] = np.round(test_table['N_1'] / test_table['total'],2)\n",
    "    test_table['P_0'] = np.round(test_table['N_0'] / test_table['total'],2)\n",
    "\n",
    "    test_table['P_total'] = np.round((test_table['total'] / sum(test_table.total) ), 2)\n",
    "    \n",
    "    print ('original bins: {}' .format(bins))\n",
    "    print ('modified bins: {}' .format(bins2))\n",
    "    #print(test_table)\n",
    "    \n",
    "    \n",
    "    train_table.reset_index(inplace=True)\n",
    "    train_table.rename(columns={train_table.columns[0]: \"intervalos\" }, inplace=True)\n",
    "    test_table.reset_index(inplace=True)\n",
    "    test_table.iloc[:,0] = test_table.iloc[:,0].apply(lambda x: x+1)\n",
    "\n",
    "    test_table.rename(columns={test_table.columns[0]: \"intervalos\" }, inplace=True)\n",
    "    \n",
    "    return (train_table, test_table, train_group, test_group)\n",
    "\n",
    "\n",
    "def table_percentis_recall_precision (data, name_prob1 , name_true, quantiles_or_thresholds, type_info = 'threshold'):\n",
    "    '''\n",
    "    data: dataframe with predict probabilities and real classes;\n",
    "    name_prob1: column with probability given by model.;\n",
    "    name_true: column with real class;\n",
    "    quantiles_or_thresholds: list with values to split scores;\n",
    "    type_info: type of analyze -  quantiles or threshold.\n",
    "    \n",
    "    '''\n",
    "    data.sort_values(by = name_prob1, inplace=True, ascending=False)\n",
    "    data.reset_index(inplace=True, drop=True)\n",
    "    results = pd.DataFrame()\n",
    "    \n",
    "    if type_info == 'quantiles':\n",
    "        for i, q in enumerate(quantiles_or_thresholds):\n",
    "            tam1 = round(data.shape[0]*q)\n",
    "            tam0 = data.shape[0] - tam1\n",
    "            pred = np.concatenate((np.repeat(1,tam1), np.repeat(0,tam0)), axis =0)\n",
    "\n",
    "            #print (data2[name_true])\n",
    "            recall = recall_score(data[name_true], pred)*100\n",
    "            precision = precision_score(data[name_true], pred)*100\n",
    "            f1 = f1_score(data[name_true], pred)*100\n",
    "            accuracy = accuracy_score(data[name_true], pred)*100\n",
    "            info = {\n",
    "                'percentil' : q*100,\n",
    "                'quantidade_preditos_faixa' : tam1,\n",
    "                'quantidade_real_faixa' : (precision/100)*tam1 ,\n",
    "                'ponto_de_corte' : min(data.loc[0:tam1,name_prob1]),\n",
    "                'recall' : \"%.1f\" % recall,\n",
    "                'precision': \"%.1f\" % precision,\n",
    "                'f1': \"%.1f\" % f1,\n",
    "                'accuracy' : \"%.1f\" % accuracy\n",
    "            }\n",
    "            resultados_aux = pd.DataFrame(info, index = [str(i)])\n",
    "                    #print(resultados_aux)\n",
    "            results = results.append(resultados_aux)\n",
    "        \n",
    "    else:\n",
    "        for i,threshold in enumerate(quantiles_or_thresholds):\n",
    "            tam1 = data[data[name_prob1] >= threshold].shape[0]\n",
    "            tam1  = round(tam1)\n",
    "            tam0 = data.shape[0] - tam1\n",
    "            pred = np.concatenate((np.repeat(1,tam1), np.repeat(0,tam0)), axis =0)\n",
    "            q = tam1/data.shape[0]\n",
    "            #print\n",
    "            #print (data2[name_true])\n",
    "            recall = recall_score(data[name_true], pred)*100\n",
    "            precision = precision_score(data[name_true], pred)*100\n",
    "            f1 = f1_score(data[name_true], pred)*100\n",
    "            accuracy = accuracy_score(data[name_true], pred)*100\n",
    "            info = {\n",
    "                'percentil' : round(q*100),\n",
    "                'quantidade_preditos_faixa' : tam1,\n",
    "                'quantidade_real_faixa' : (precision/100)*tam1 ,\n",
    "                'ponto_de_corte' : threshold,\n",
    "                'recall' : \"%.1f\" % recall,\n",
    "                'precision': \"%.1f\" % precision,\n",
    "                'f1': \"%.1f\" % f1,\n",
    "                'accuracy' : \"%.1f\" % accuracy\n",
    "            }\n",
    "            resultados_aux = pd.DataFrame(info, index=[str(i)])\n",
    "                    #print(resultados_aux)\n",
    "            results = results.append(resultados_aux)\n",
    "    #print(results)  \n",
    "    \n",
    "    results = results[['percentil', 'quantidade_preditos_faixa', 'quantidade_real_faixa', 'ponto_de_corte', 'recall', 'precision', 'f1', 'accuracy']]\n",
    "    results = results.round(2)\n",
    "\n",
    "    results['corte_perc'] = results.apply(lambda x: str(x['ponto_de_corte']) + ' - ' + str(x['percentil']) + '%', axis = 1)\n",
    "    return results"
   ]
  },
  {
   "cell_type": "markdown",
   "metadata": {
    "heading_collapsed": true
   },
   "source": [
    "## Criando dados e aplicando modelo"
   ]
  },
  {
   "cell_type": "code",
   "execution_count": 4,
   "metadata": {
    "ExecuteTime": {
     "end_time": "2020-07-03T03:24:39.948451Z",
     "start_time": "2020-07-03T03:24:39.819796Z"
    },
    "hidden": true
   },
   "outputs": [
    {
     "name": "stdout",
     "output_type": "stream",
     "text": [
      "True    1500\n",
      "dtype: int64\n"
     ]
    }
   ],
   "source": [
    "# Criando variável categórica\n",
    "uf = ['a'] * 400 + ['b'] * 800 + ['c'] * 300\n",
    "\n",
    "# Criando variável numérica\n",
    "seed(1)\n",
    "renda = np.random.uniform(low = 1, high = 10, size = len(uf))\n",
    "\n",
    "# Colocando em dataframe\n",
    "df = pd.DataFrame({'uf': uf, 'renda': renda})\n",
    "\n",
    "# Criando variável resposta\n",
    "seed(80)\n",
    "df['y'] = 3 + np.where(df['uf'] == 'a', 10, np.where(df['uf'] == 'b', 5, 0)) - 1.5 * df['renda']\n",
    "df['y'] = df['y'] + np.random.normal(loc = 0, scale = 1, size = len(renda))\n",
    "df['renda'] = df['renda'] + np.random.normal(loc = 0, scale = 4, size = len(renda))\n",
    "\n",
    "# Transformando as variáveis\n",
    "X = df[['renda']]\n",
    "X['a'] = np.where(df['uf'] == 'a', 1, 0)\n",
    "X['b'] = np.where(df['uf'] == 'b', 1, 0)\n",
    "\n",
    "# Variável de classificação\n",
    "df['y'] = ( 1 / (1 + np.exp(df['y'])) ).round(0)\n",
    "df['y'].value_counts()\n",
    "\n",
    "from sklearn.linear_model import LogisticRegression\n",
    "from sklearn.model_selection import train_test_split\n",
    "\n",
    "# Separando em treino, validação e out of time\n",
    "Xtr, Xte, ytr, yte = train_test_split(X, df['y'], stratify = df['y'], test_size = 0.2, random_state = 42)\n",
    "Xva, Xou, yva, you = train_test_split(Xte, yte, stratify = yte, test_size = 0.5, random_state = 42)\n",
    "\n",
    "# Treinando o modelo\n",
    "fit = LogisticRegression(random_state = 0).fit(Xtr, ytr)\n",
    "\n",
    "# Criando tabelas com dados originais e predicts\n",
    "tr = Xtr.copy()\n",
    "tr['y'] = ytr\n",
    "tr['ypred'] = fit.predict(Xtr)\n",
    "tr['yprob'] = fit.predict_proba(Xtr)[:,1]\n",
    "tr.drop(columns = Xtr.columns, inplace = True)\n",
    "tr['tipo'] = 'Treino'\n",
    "\n",
    "va = Xva.copy()\n",
    "va['y'] = yva\n",
    "va['ypred'] = fit.predict(Xva)\n",
    "va['yprob'] = fit.predict_proba(Xva)[:,1]\n",
    "va.drop(columns = Xva.columns, inplace = True)\n",
    "va['tipo'] = 'Validacao'\n",
    "\n",
    "ou = Xou.copy()\n",
    "ou['y'] = you\n",
    "ou['ypred'] = fit.predict(Xou)\n",
    "ou['yprob'] = fit.predict_proba(Xou)[:,1]\n",
    "ou.drop(columns = Xou.columns, inplace = True)\n",
    "ou['tipo'] = 'OutOfTime'\n",
    "\n",
    "# Unindo tudo para dar merge com base inicial\n",
    "fim = tr.append(va)\n",
    "fim = fim.append(ou)\n",
    "\n",
    "df.rename(columns = {'y': 'yold'}, inplace = True)\n",
    "fim = fim.merge(df, how = 'left', left_index = True, right_index = True)\n",
    "print( (fim['y'] == fim['yold']).value_counts() )\n",
    "fim.drop(columns = ['yold'], inplace = True)\n",
    "\n",
    "tr = fim[fim['tipo'] == 'Treino']\n",
    "va = fim[fim['tipo'] == 'Validacao']\n",
    "ou = fim[fim['tipo'] == 'OutOfTime']\n",
    "\n",
    "tr.reset_index(inplace = True, drop = True)\n",
    "va.reset_index(inplace = True, drop = True)\n",
    "ou.reset_index(inplace = True, drop = True)\n",
    "\n",
    "tr.index = pd.date_range(datetime.today(), periods = tr.shape[0]).tolist()\n",
    "va.index = pd.date_range(datetime.today(), periods = va.shape[0]).tolist()\n",
    "ou.index = pd.date_range(datetime.today(), periods = ou.shape[0]).tolist()"
   ]
  },
  {
   "cell_type": "markdown",
   "metadata": {
    "ExecuteTime": {
     "end_time": "2020-07-02T03:36:25.854841Z",
     "start_time": "2020-07-02T03:36:25.848860Z"
    }
   },
   "source": [
    "# Análises Gráficas"
   ]
  },
  {
   "cell_type": "markdown",
   "metadata": {},
   "source": [
    "## Precisão por faixa - Barras empilhadas"
   ]
  },
  {
   "cell_type": "code",
   "execution_count": 12,
   "metadata": {
    "ExecuteTime": {
     "end_time": "2020-07-03T03:29:00.205916Z",
     "start_time": "2020-07-03T03:29:00.179990Z"
    }
   },
   "outputs": [],
   "source": [
    "def stacked_barplot_probs (df,\n",
    "                           p_geral,\n",
    "                           name_axis_x = 'intervalos', \n",
    "                           name_cols_plot = ['P_1', 'P_0'], \n",
    "                           name_cols_N = ['total', 'P_total'],\n",
    "                           colors = ['rgb(229, 134, 6)', 'rgb(93, 105, 177)'],\n",
    "                           nomes_legenda = ['% Classe 1', '% Classe 0']\n",
    "                           ):\n",
    "    \n",
    "    fig = go.Figure()\n",
    "    # desenha o gráfico de barras empilhado para cada classe: colunas escolhidas em name_cols_plot\n",
    "    for i in range(len(name_cols_plot)):\n",
    "        fig.add_trace(\n",
    "            go.Bar(x=[str(j) for j in df[name_axis_x].values.tolist()] , \n",
    "            name = nomes_legenda[i], \n",
    "            y=df[name_cols_plot[i]], \n",
    "            text = ['{:,.0f}%'.format(i2*100) for i2 in df[name_cols_plot[i]].values.tolist()], \n",
    "            textposition='inside',  \n",
    "            textfont_size=16,\n",
    "            #orientation='h',\n",
    "            marker=dict(\n",
    "                color=colors[i],\n",
    "                line=dict(color='rgb(248, 248, 249)'), #width=1)\n",
    "            ))\n",
    "        )\n",
    "           \n",
    "    # intuito é escrever as labels da coluna 'name_col_2', com respectivos  volumes em cima.\n",
    "    # a localização depende somente do ylim do eixo y secundário abaixo.\n",
    "    fig.add_trace(go.Scatter(x= [str(j) for j in df[name_axis_x].values.tolist()], \n",
    "                                 y= df[name_cols_N[0]],\n",
    "                                 text = ['{:,.0f}'.format(i2) for i2 in df[name_cols_N[0]].values.tolist()],\n",
    "                                 textposition='top center',\n",
    "                                 mode = 'lines+text',\n",
    "                                 marker=dict(color='white'),\n",
    "                                 textfont=dict(\n",
    "                                    #family=\"sans serif\",\n",
    "                                    size=13,\n",
    "                                    color=\"gray\"\n",
    "                                 ),\n",
    "                                showlegend=False, yaxis=\"y2\"))\n",
    "        \n",
    "    fig.add_trace(go.Scatter(x= [str(j) for j in df[name_axis_x].values.tolist()], \n",
    "                                 y= df[name_cols_N[1]],\n",
    "                                 text = [' {:,.0f}%'.format(i2*100) for i2 in df[name_cols_N[1]].values.tolist()],\n",
    "                                 textposition='top center',\n",
    "                                 mode = 'lines+text',\n",
    "                                 marker=dict(color='white'),\n",
    "                                 textfont=dict(\n",
    "                                    #family=\"sans serif\",\n",
    "                                    size=13,\n",
    "                                    color=\"gray\"\n",
    "                                 ),\n",
    "                                showlegend=False, yaxis=\"y3\"))        \n",
    "\n",
    "\n",
    "    # escrever o balanceamento da classe - colocar a anotação do balanceamento na altura correspondente no gráfico\n",
    "    fig.add_annotation(\n",
    "        x=df.shape[0]-0.6,\n",
    "        y=p_geral,\n",
    "        xref=\"x\",\n",
    "        yref=\"y\",\n",
    "        text=\"% classe 1 geral: {:,.0f}%\".format(p_geral*100),\n",
    "        showarrow=True,\n",
    "        font=dict(\n",
    "            #family=\"Courier New, monospace\",\n",
    "            #size=16,\n",
    "            color=\"white\"\n",
    "            ),\n",
    "        align=\"center\",\n",
    "        arrowhead=2,\n",
    "        arrowsize=1,\n",
    "        arrowwidth=2,\n",
    "        arrowcolor=\"#636363\",\n",
    "        ax=90,\n",
    "        ay=0,\n",
    "        bordercolor=\"#c7c7c7\",\n",
    "        borderwidth=2,\n",
    "        borderpad=4,\n",
    "        bgcolor=\"gray\",\n",
    "        opacity=0.8\n",
    "        )\n",
    "\n",
    "    # layouts - adicional\n",
    "    fig.update_layout(barmode='stack',\n",
    "        title_text=\"Título\",\n",
    "        plot_bgcolor='white',\n",
    "        legend_title=' ',\n",
    "        xaxis=dict(\n",
    "            title='Intervalos de probabilidade',\n",
    "            titlefont_size=18,\n",
    "            tickangle = 0,\n",
    "            tickfont_size=8,\n",
    "        ),\n",
    "        legend=dict(x=0.84, y=0.9)\n",
    "        #transition_duration=100\n",
    "    )\n",
    "    \n",
    "    fig.update_layout(\n",
    "        yaxis=dict(\n",
    "            #title=\"yaxis title\",\n",
    "            range=[0,1.3],\n",
    "            showticklabels=False\n",
    "        ),\n",
    "        yaxis2=dict(\n",
    "            #title=\"yaxis2 title\",\n",
    "            anchor=\"x\",\n",
    "            overlaying=\"y\",\n",
    "            #side=\"left\",\n",
    "            #position=0.15,\n",
    "            range=[-100,(df[name_cols_N[0]].max())*1.45],\n",
    "            showticklabels=False\n",
    "        ),\n",
    "        yaxis3=dict(\n",
    "            #title=\"yaxis2 title\",\n",
    "            anchor=\"x\",\n",
    "            overlaying=\"y\",\n",
    "            #side=\"left\",\n",
    "            #position=0.15,\n",
    "            range=[-10,2],\n",
    "            showticklabels=False\n",
    "        )\n",
    "    )\n",
    "\n",
    "    return fig"
   ]
  },
  {
   "cell_type": "code",
   "execution_count": 13,
   "metadata": {
    "ExecuteTime": {
     "end_time": "2020-07-03T03:29:00.928981Z",
     "start_time": "2020-07-03T03:29:00.653720Z"
    }
   },
   "outputs": [
    {
     "name": "stdout",
     "output_type": "stream",
     "text": [
      "original bins: [0.00516991 0.09234908 0.26527958 0.44116578 0.58855572 0.74107164\n",
      " 0.85812314 0.99508469]\n",
      "modified bins: [0.         0.09234908 0.26527958 0.44116578 0.58855572 0.74107164\n",
      " 0.85812314 1.        ]\n"
     ]
    },
    {
     "data": {
      "application/vnd.plotly.v1+json": {
       "config": {
        "plotlyServerURL": "https://plot.ly"
       },
       "data": [
        {
         "marker": {
          "color": "rgb(229, 134, 6)",
          "line": {
           "color": "rgb(248, 248, 249)"
          }
         },
         "name": "% Classe 1",
         "text": [
          "6%",
          "16%",
          "29%",
          "51%",
          "70%",
          "83%",
          "92%"
         ],
         "textfont": {
          "size": 16
         },
         "textposition": "inside",
         "type": "bar",
         "x": [
          "(0.00417, 0.0923]",
          "(0.0923, 0.265]",
          "(0.265, 0.441]",
          "(0.441, 0.589]",
          "(0.589, 0.741]",
          "(0.741, 0.858]",
          "(0.858, 0.995]"
         ],
         "y": [
          0.06,
          0.16,
          0.29,
          0.51,
          0.7,
          0.83,
          0.92
         ]
        },
        {
         "marker": {
          "color": "rgb(93, 105, 177)",
          "line": {
           "color": "rgb(248, 248, 249)"
          }
         },
         "name": "% Classe 0",
         "text": [
          "94%",
          "84%",
          "71%",
          "49%",
          "30%",
          "17%",
          "8%"
         ],
         "textfont": {
          "size": 16
         },
         "textposition": "inside",
         "type": "bar",
         "x": [
          "(0.00417, 0.0923]",
          "(0.0923, 0.265]",
          "(0.265, 0.441]",
          "(0.441, 0.589]",
          "(0.589, 0.741]",
          "(0.741, 0.858]",
          "(0.858, 0.995]"
         ],
         "y": [
          0.94,
          0.84,
          0.71,
          0.49,
          0.3,
          0.17,
          0.08
         ]
        },
        {
         "marker": {
          "color": "white"
         },
         "mode": "lines+text",
         "showlegend": false,
         "text": [
          "172",
          "171",
          "171",
          "172",
          "171",
          "171",
          "172"
         ],
         "textfont": {
          "color": "gray",
          "size": 13
         },
         "textposition": "top center",
         "type": "scatter",
         "x": [
          "(0.00417, 0.0923]",
          "(0.0923, 0.265]",
          "(0.265, 0.441]",
          "(0.441, 0.589]",
          "(0.589, 0.741]",
          "(0.741, 0.858]",
          "(0.858, 0.995]"
         ],
         "y": [
          172,
          171,
          171,
          172,
          171,
          171,
          172
         ],
         "yaxis": "y2"
        },
        {
         "marker": {
          "color": "white"
         },
         "mode": "lines+text",
         "showlegend": false,
         "text": [
          " 14%",
          " 14%",
          " 14%",
          " 14%",
          " 14%",
          " 14%",
          " 14%"
         ],
         "textfont": {
          "color": "gray",
          "size": 13
         },
         "textposition": "top center",
         "type": "scatter",
         "x": [
          "(0.00417, 0.0923]",
          "(0.0923, 0.265]",
          "(0.265, 0.441]",
          "(0.441, 0.589]",
          "(0.589, 0.741]",
          "(0.741, 0.858]",
          "(0.858, 0.995]"
         ],
         "y": [
          0.14,
          0.14,
          0.14,
          0.14,
          0.14,
          0.14,
          0.14
         ],
         "yaxis": "y3"
        }
       ],
       "layout": {
        "annotations": [
         {
          "align": "center",
          "arrowcolor": "#636363",
          "arrowhead": 2,
          "arrowsize": 1,
          "arrowwidth": 2,
          "ax": 90,
          "ay": 0,
          "bgcolor": "gray",
          "bordercolor": "#c7c7c7",
          "borderpad": 4,
          "borderwidth": 2,
          "font": {
           "color": "white"
          },
          "opacity": 0.8,
          "showarrow": true,
          "text": "% classe 1 geral: 50%",
          "x": 6.4,
          "xref": "x",
          "y": 0.49583333333333335,
          "yref": "y"
         }
        ],
        "barmode": "stack",
        "legend": {
         "title": {
          "text": " "
         },
         "x": 0.84,
         "y": 0.9
        },
        "plot_bgcolor": "white",
        "template": {
         "data": {
          "bar": [
           {
            "error_x": {
             "color": "#2a3f5f"
            },
            "error_y": {
             "color": "#2a3f5f"
            },
            "marker": {
             "line": {
              "color": "#E5ECF6",
              "width": 0.5
             }
            },
            "type": "bar"
           }
          ],
          "barpolar": [
           {
            "marker": {
             "line": {
              "color": "#E5ECF6",
              "width": 0.5
             }
            },
            "type": "barpolar"
           }
          ],
          "carpet": [
           {
            "aaxis": {
             "endlinecolor": "#2a3f5f",
             "gridcolor": "white",
             "linecolor": "white",
             "minorgridcolor": "white",
             "startlinecolor": "#2a3f5f"
            },
            "baxis": {
             "endlinecolor": "#2a3f5f",
             "gridcolor": "white",
             "linecolor": "white",
             "minorgridcolor": "white",
             "startlinecolor": "#2a3f5f"
            },
            "type": "carpet"
           }
          ],
          "choropleth": [
           {
            "colorbar": {
             "outlinewidth": 0,
             "ticks": ""
            },
            "type": "choropleth"
           }
          ],
          "contour": [
           {
            "colorbar": {
             "outlinewidth": 0,
             "ticks": ""
            },
            "colorscale": [
             [
              0,
              "#0d0887"
             ],
             [
              0.1111111111111111,
              "#46039f"
             ],
             [
              0.2222222222222222,
              "#7201a8"
             ],
             [
              0.3333333333333333,
              "#9c179e"
             ],
             [
              0.4444444444444444,
              "#bd3786"
             ],
             [
              0.5555555555555556,
              "#d8576b"
             ],
             [
              0.6666666666666666,
              "#ed7953"
             ],
             [
              0.7777777777777778,
              "#fb9f3a"
             ],
             [
              0.8888888888888888,
              "#fdca26"
             ],
             [
              1,
              "#f0f921"
             ]
            ],
            "type": "contour"
           }
          ],
          "contourcarpet": [
           {
            "colorbar": {
             "outlinewidth": 0,
             "ticks": ""
            },
            "type": "contourcarpet"
           }
          ],
          "heatmap": [
           {
            "colorbar": {
             "outlinewidth": 0,
             "ticks": ""
            },
            "colorscale": [
             [
              0,
              "#0d0887"
             ],
             [
              0.1111111111111111,
              "#46039f"
             ],
             [
              0.2222222222222222,
              "#7201a8"
             ],
             [
              0.3333333333333333,
              "#9c179e"
             ],
             [
              0.4444444444444444,
              "#bd3786"
             ],
             [
              0.5555555555555556,
              "#d8576b"
             ],
             [
              0.6666666666666666,
              "#ed7953"
             ],
             [
              0.7777777777777778,
              "#fb9f3a"
             ],
             [
              0.8888888888888888,
              "#fdca26"
             ],
             [
              1,
              "#f0f921"
             ]
            ],
            "type": "heatmap"
           }
          ],
          "heatmapgl": [
           {
            "colorbar": {
             "outlinewidth": 0,
             "ticks": ""
            },
            "colorscale": [
             [
              0,
              "#0d0887"
             ],
             [
              0.1111111111111111,
              "#46039f"
             ],
             [
              0.2222222222222222,
              "#7201a8"
             ],
             [
              0.3333333333333333,
              "#9c179e"
             ],
             [
              0.4444444444444444,
              "#bd3786"
             ],
             [
              0.5555555555555556,
              "#d8576b"
             ],
             [
              0.6666666666666666,
              "#ed7953"
             ],
             [
              0.7777777777777778,
              "#fb9f3a"
             ],
             [
              0.8888888888888888,
              "#fdca26"
             ],
             [
              1,
              "#f0f921"
             ]
            ],
            "type": "heatmapgl"
           }
          ],
          "histogram": [
           {
            "marker": {
             "colorbar": {
              "outlinewidth": 0,
              "ticks": ""
             }
            },
            "type": "histogram"
           }
          ],
          "histogram2d": [
           {
            "colorbar": {
             "outlinewidth": 0,
             "ticks": ""
            },
            "colorscale": [
             [
              0,
              "#0d0887"
             ],
             [
              0.1111111111111111,
              "#46039f"
             ],
             [
              0.2222222222222222,
              "#7201a8"
             ],
             [
              0.3333333333333333,
              "#9c179e"
             ],
             [
              0.4444444444444444,
              "#bd3786"
             ],
             [
              0.5555555555555556,
              "#d8576b"
             ],
             [
              0.6666666666666666,
              "#ed7953"
             ],
             [
              0.7777777777777778,
              "#fb9f3a"
             ],
             [
              0.8888888888888888,
              "#fdca26"
             ],
             [
              1,
              "#f0f921"
             ]
            ],
            "type": "histogram2d"
           }
          ],
          "histogram2dcontour": [
           {
            "colorbar": {
             "outlinewidth": 0,
             "ticks": ""
            },
            "colorscale": [
             [
              0,
              "#0d0887"
             ],
             [
              0.1111111111111111,
              "#46039f"
             ],
             [
              0.2222222222222222,
              "#7201a8"
             ],
             [
              0.3333333333333333,
              "#9c179e"
             ],
             [
              0.4444444444444444,
              "#bd3786"
             ],
             [
              0.5555555555555556,
              "#d8576b"
             ],
             [
              0.6666666666666666,
              "#ed7953"
             ],
             [
              0.7777777777777778,
              "#fb9f3a"
             ],
             [
              0.8888888888888888,
              "#fdca26"
             ],
             [
              1,
              "#f0f921"
             ]
            ],
            "type": "histogram2dcontour"
           }
          ],
          "mesh3d": [
           {
            "colorbar": {
             "outlinewidth": 0,
             "ticks": ""
            },
            "type": "mesh3d"
           }
          ],
          "parcoords": [
           {
            "line": {
             "colorbar": {
              "outlinewidth": 0,
              "ticks": ""
             }
            },
            "type": "parcoords"
           }
          ],
          "pie": [
           {
            "automargin": true,
            "type": "pie"
           }
          ],
          "scatter": [
           {
            "marker": {
             "colorbar": {
              "outlinewidth": 0,
              "ticks": ""
             }
            },
            "type": "scatter"
           }
          ],
          "scatter3d": [
           {
            "line": {
             "colorbar": {
              "outlinewidth": 0,
              "ticks": ""
             }
            },
            "marker": {
             "colorbar": {
              "outlinewidth": 0,
              "ticks": ""
             }
            },
            "type": "scatter3d"
           }
          ],
          "scattercarpet": [
           {
            "marker": {
             "colorbar": {
              "outlinewidth": 0,
              "ticks": ""
             }
            },
            "type": "scattercarpet"
           }
          ],
          "scattergeo": [
           {
            "marker": {
             "colorbar": {
              "outlinewidth": 0,
              "ticks": ""
             }
            },
            "type": "scattergeo"
           }
          ],
          "scattergl": [
           {
            "marker": {
             "colorbar": {
              "outlinewidth": 0,
              "ticks": ""
             }
            },
            "type": "scattergl"
           }
          ],
          "scattermapbox": [
           {
            "marker": {
             "colorbar": {
              "outlinewidth": 0,
              "ticks": ""
             }
            },
            "type": "scattermapbox"
           }
          ],
          "scatterpolar": [
           {
            "marker": {
             "colorbar": {
              "outlinewidth": 0,
              "ticks": ""
             }
            },
            "type": "scatterpolar"
           }
          ],
          "scatterpolargl": [
           {
            "marker": {
             "colorbar": {
              "outlinewidth": 0,
              "ticks": ""
             }
            },
            "type": "scatterpolargl"
           }
          ],
          "scatterternary": [
           {
            "marker": {
             "colorbar": {
              "outlinewidth": 0,
              "ticks": ""
             }
            },
            "type": "scatterternary"
           }
          ],
          "surface": [
           {
            "colorbar": {
             "outlinewidth": 0,
             "ticks": ""
            },
            "colorscale": [
             [
              0,
              "#0d0887"
             ],
             [
              0.1111111111111111,
              "#46039f"
             ],
             [
              0.2222222222222222,
              "#7201a8"
             ],
             [
              0.3333333333333333,
              "#9c179e"
             ],
             [
              0.4444444444444444,
              "#bd3786"
             ],
             [
              0.5555555555555556,
              "#d8576b"
             ],
             [
              0.6666666666666666,
              "#ed7953"
             ],
             [
              0.7777777777777778,
              "#fb9f3a"
             ],
             [
              0.8888888888888888,
              "#fdca26"
             ],
             [
              1,
              "#f0f921"
             ]
            ],
            "type": "surface"
           }
          ],
          "table": [
           {
            "cells": {
             "fill": {
              "color": "#EBF0F8"
             },
             "line": {
              "color": "white"
             }
            },
            "header": {
             "fill": {
              "color": "#C8D4E3"
             },
             "line": {
              "color": "white"
             }
            },
            "type": "table"
           }
          ]
         },
         "layout": {
          "annotationdefaults": {
           "arrowcolor": "#2a3f5f",
           "arrowhead": 0,
           "arrowwidth": 1
          },
          "coloraxis": {
           "colorbar": {
            "outlinewidth": 0,
            "ticks": ""
           }
          },
          "colorscale": {
           "diverging": [
            [
             0,
             "#8e0152"
            ],
            [
             0.1,
             "#c51b7d"
            ],
            [
             0.2,
             "#de77ae"
            ],
            [
             0.3,
             "#f1b6da"
            ],
            [
             0.4,
             "#fde0ef"
            ],
            [
             0.5,
             "#f7f7f7"
            ],
            [
             0.6,
             "#e6f5d0"
            ],
            [
             0.7,
             "#b8e186"
            ],
            [
             0.8,
             "#7fbc41"
            ],
            [
             0.9,
             "#4d9221"
            ],
            [
             1,
             "#276419"
            ]
           ],
           "sequential": [
            [
             0,
             "#0d0887"
            ],
            [
             0.1111111111111111,
             "#46039f"
            ],
            [
             0.2222222222222222,
             "#7201a8"
            ],
            [
             0.3333333333333333,
             "#9c179e"
            ],
            [
             0.4444444444444444,
             "#bd3786"
            ],
            [
             0.5555555555555556,
             "#d8576b"
            ],
            [
             0.6666666666666666,
             "#ed7953"
            ],
            [
             0.7777777777777778,
             "#fb9f3a"
            ],
            [
             0.8888888888888888,
             "#fdca26"
            ],
            [
             1,
             "#f0f921"
            ]
           ],
           "sequentialminus": [
            [
             0,
             "#0d0887"
            ],
            [
             0.1111111111111111,
             "#46039f"
            ],
            [
             0.2222222222222222,
             "#7201a8"
            ],
            [
             0.3333333333333333,
             "#9c179e"
            ],
            [
             0.4444444444444444,
             "#bd3786"
            ],
            [
             0.5555555555555556,
             "#d8576b"
            ],
            [
             0.6666666666666666,
             "#ed7953"
            ],
            [
             0.7777777777777778,
             "#fb9f3a"
            ],
            [
             0.8888888888888888,
             "#fdca26"
            ],
            [
             1,
             "#f0f921"
            ]
           ]
          },
          "colorway": [
           "#636efa",
           "#EF553B",
           "#00cc96",
           "#ab63fa",
           "#FFA15A",
           "#19d3f3",
           "#FF6692",
           "#B6E880",
           "#FF97FF",
           "#FECB52"
          ],
          "font": {
           "color": "#2a3f5f"
          },
          "geo": {
           "bgcolor": "white",
           "lakecolor": "white",
           "landcolor": "#E5ECF6",
           "showlakes": true,
           "showland": true,
           "subunitcolor": "white"
          },
          "hoverlabel": {
           "align": "left"
          },
          "hovermode": "closest",
          "mapbox": {
           "style": "light"
          },
          "paper_bgcolor": "white",
          "plot_bgcolor": "#E5ECF6",
          "polar": {
           "angularaxis": {
            "gridcolor": "white",
            "linecolor": "white",
            "ticks": ""
           },
           "bgcolor": "#E5ECF6",
           "radialaxis": {
            "gridcolor": "white",
            "linecolor": "white",
            "ticks": ""
           }
          },
          "scene": {
           "xaxis": {
            "backgroundcolor": "#E5ECF6",
            "gridcolor": "white",
            "gridwidth": 2,
            "linecolor": "white",
            "showbackground": true,
            "ticks": "",
            "zerolinecolor": "white"
           },
           "yaxis": {
            "backgroundcolor": "#E5ECF6",
            "gridcolor": "white",
            "gridwidth": 2,
            "linecolor": "white",
            "showbackground": true,
            "ticks": "",
            "zerolinecolor": "white"
           },
           "zaxis": {
            "backgroundcolor": "#E5ECF6",
            "gridcolor": "white",
            "gridwidth": 2,
            "linecolor": "white",
            "showbackground": true,
            "ticks": "",
            "zerolinecolor": "white"
           }
          },
          "shapedefaults": {
           "line": {
            "color": "#2a3f5f"
           }
          },
          "ternary": {
           "aaxis": {
            "gridcolor": "white",
            "linecolor": "white",
            "ticks": ""
           },
           "baxis": {
            "gridcolor": "white",
            "linecolor": "white",
            "ticks": ""
           },
           "bgcolor": "#E5ECF6",
           "caxis": {
            "gridcolor": "white",
            "linecolor": "white",
            "ticks": ""
           }
          },
          "title": {
           "x": 0.05
          },
          "xaxis": {
           "automargin": true,
           "gridcolor": "white",
           "linecolor": "white",
           "ticks": "",
           "title": {
            "standoff": 15
           },
           "zerolinecolor": "white",
           "zerolinewidth": 2
          },
          "yaxis": {
           "automargin": true,
           "gridcolor": "white",
           "linecolor": "white",
           "ticks": "",
           "title": {
            "standoff": 15
           },
           "zerolinecolor": "white",
           "zerolinewidth": 2
          }
         }
        },
        "title": {
         "text": "Título"
        },
        "xaxis": {
         "tickangle": 0,
         "tickfont": {
          "size": 8
         },
         "title": {
          "font": {
           "size": 18
          },
          "text": "Intervalos de probabilidade"
         }
        },
        "yaxis": {
         "range": [
          0,
          1.3
         ],
         "showticklabels": false
        },
        "yaxis2": {
         "anchor": "x",
         "overlaying": "y",
         "range": [
          -100,
          249.4
         ],
         "showticklabels": false
        },
        "yaxis3": {
         "anchor": "x",
         "overlaying": "y",
         "range": [
          -10,
          2
         ],
         "showticklabels": false
        }
       }
      },
      "text/html": [
       "<div>\n",
       "        \n",
       "        \n",
       "            <div id=\"94a0fc51-9392-4481-ae5c-967ae9f97452\" class=\"plotly-graph-div\" style=\"height:525px; width:100%;\"></div>\n",
       "            <script type=\"text/javascript\">\n",
       "                require([\"plotly\"], function(Plotly) {\n",
       "                    window.PLOTLYENV=window.PLOTLYENV || {};\n",
       "                    \n",
       "                if (document.getElementById(\"94a0fc51-9392-4481-ae5c-967ae9f97452\")) {\n",
       "                    Plotly.newPlot(\n",
       "                        '94a0fc51-9392-4481-ae5c-967ae9f97452',\n",
       "                        [{\"marker\": {\"color\": \"rgb(229, 134, 6)\", \"line\": {\"color\": \"rgb(248, 248, 249)\"}}, \"name\": \"% Classe 1\", \"text\": [\"6%\", \"16%\", \"29%\", \"51%\", \"70%\", \"83%\", \"92%\"], \"textfont\": {\"size\": 16}, \"textposition\": \"inside\", \"type\": \"bar\", \"x\": [\"(0.00417, 0.0923]\", \"(0.0923, 0.265]\", \"(0.265, 0.441]\", \"(0.441, 0.589]\", \"(0.589, 0.741]\", \"(0.741, 0.858]\", \"(0.858, 0.995]\"], \"y\": [0.06, 0.16, 0.29, 0.51, 0.7, 0.83, 0.92]}, {\"marker\": {\"color\": \"rgb(93, 105, 177)\", \"line\": {\"color\": \"rgb(248, 248, 249)\"}}, \"name\": \"% Classe 0\", \"text\": [\"94%\", \"84%\", \"71%\", \"49%\", \"30%\", \"17%\", \"8%\"], \"textfont\": {\"size\": 16}, \"textposition\": \"inside\", \"type\": \"bar\", \"x\": [\"(0.00417, 0.0923]\", \"(0.0923, 0.265]\", \"(0.265, 0.441]\", \"(0.441, 0.589]\", \"(0.589, 0.741]\", \"(0.741, 0.858]\", \"(0.858, 0.995]\"], \"y\": [0.94, 0.84, 0.71, 0.49, 0.3, 0.17, 0.08]}, {\"marker\": {\"color\": \"white\"}, \"mode\": \"lines+text\", \"showlegend\": false, \"text\": [\"172\", \"171\", \"171\", \"172\", \"171\", \"171\", \"172\"], \"textfont\": {\"color\": \"gray\", \"size\": 13}, \"textposition\": \"top center\", \"type\": \"scatter\", \"x\": [\"(0.00417, 0.0923]\", \"(0.0923, 0.265]\", \"(0.265, 0.441]\", \"(0.441, 0.589]\", \"(0.589, 0.741]\", \"(0.741, 0.858]\", \"(0.858, 0.995]\"], \"y\": [172, 171, 171, 172, 171, 171, 172], \"yaxis\": \"y2\"}, {\"marker\": {\"color\": \"white\"}, \"mode\": \"lines+text\", \"showlegend\": false, \"text\": [\" 14%\", \" 14%\", \" 14%\", \" 14%\", \" 14%\", \" 14%\", \" 14%\"], \"textfont\": {\"color\": \"gray\", \"size\": 13}, \"textposition\": \"top center\", \"type\": \"scatter\", \"x\": [\"(0.00417, 0.0923]\", \"(0.0923, 0.265]\", \"(0.265, 0.441]\", \"(0.441, 0.589]\", \"(0.589, 0.741]\", \"(0.741, 0.858]\", \"(0.858, 0.995]\"], \"y\": [0.14, 0.14, 0.14, 0.14, 0.14, 0.14, 0.14], \"yaxis\": \"y3\"}],\n",
       "                        {\"annotations\": [{\"align\": \"center\", \"arrowcolor\": \"#636363\", \"arrowhead\": 2, \"arrowsize\": 1, \"arrowwidth\": 2, \"ax\": 90, \"ay\": 0, \"bgcolor\": \"gray\", \"bordercolor\": \"#c7c7c7\", \"borderpad\": 4, \"borderwidth\": 2, \"font\": {\"color\": \"white\"}, \"opacity\": 0.8, \"showarrow\": true, \"text\": \"% classe 1 geral: 50%\", \"x\": 6.4, \"xref\": \"x\", \"y\": 0.49583333333333335, \"yref\": \"y\"}], \"barmode\": \"stack\", \"legend\": {\"title\": {\"text\": \" \"}, \"x\": 0.84, \"y\": 0.9}, \"plot_bgcolor\": \"white\", \"template\": {\"data\": {\"bar\": [{\"error_x\": {\"color\": \"#2a3f5f\"}, \"error_y\": {\"color\": \"#2a3f5f\"}, \"marker\": {\"line\": {\"color\": \"#E5ECF6\", \"width\": 0.5}}, \"type\": \"bar\"}], \"barpolar\": [{\"marker\": {\"line\": {\"color\": \"#E5ECF6\", \"width\": 0.5}}, \"type\": \"barpolar\"}], \"carpet\": [{\"aaxis\": {\"endlinecolor\": \"#2a3f5f\", \"gridcolor\": \"white\", \"linecolor\": \"white\", \"minorgridcolor\": \"white\", \"startlinecolor\": \"#2a3f5f\"}, \"baxis\": {\"endlinecolor\": \"#2a3f5f\", \"gridcolor\": \"white\", \"linecolor\": \"white\", \"minorgridcolor\": \"white\", \"startlinecolor\": \"#2a3f5f\"}, \"type\": \"carpet\"}], \"choropleth\": [{\"colorbar\": {\"outlinewidth\": 0, \"ticks\": \"\"}, \"type\": \"choropleth\"}], \"contour\": [{\"colorbar\": {\"outlinewidth\": 0, \"ticks\": \"\"}, \"colorscale\": [[0.0, \"#0d0887\"], [0.1111111111111111, \"#46039f\"], [0.2222222222222222, \"#7201a8\"], [0.3333333333333333, \"#9c179e\"], [0.4444444444444444, \"#bd3786\"], [0.5555555555555556, \"#d8576b\"], [0.6666666666666666, \"#ed7953\"], [0.7777777777777778, \"#fb9f3a\"], [0.8888888888888888, \"#fdca26\"], [1.0, \"#f0f921\"]], \"type\": \"contour\"}], \"contourcarpet\": [{\"colorbar\": {\"outlinewidth\": 0, \"ticks\": \"\"}, \"type\": \"contourcarpet\"}], \"heatmap\": [{\"colorbar\": {\"outlinewidth\": 0, \"ticks\": \"\"}, \"colorscale\": [[0.0, \"#0d0887\"], [0.1111111111111111, \"#46039f\"], [0.2222222222222222, \"#7201a8\"], [0.3333333333333333, \"#9c179e\"], [0.4444444444444444, \"#bd3786\"], [0.5555555555555556, \"#d8576b\"], [0.6666666666666666, \"#ed7953\"], [0.7777777777777778, \"#fb9f3a\"], [0.8888888888888888, \"#fdca26\"], [1.0, \"#f0f921\"]], \"type\": \"heatmap\"}], \"heatmapgl\": [{\"colorbar\": {\"outlinewidth\": 0, \"ticks\": \"\"}, \"colorscale\": [[0.0, \"#0d0887\"], [0.1111111111111111, \"#46039f\"], [0.2222222222222222, \"#7201a8\"], [0.3333333333333333, \"#9c179e\"], [0.4444444444444444, \"#bd3786\"], [0.5555555555555556, \"#d8576b\"], [0.6666666666666666, \"#ed7953\"], [0.7777777777777778, \"#fb9f3a\"], [0.8888888888888888, \"#fdca26\"], [1.0, \"#f0f921\"]], \"type\": \"heatmapgl\"}], \"histogram\": [{\"marker\": {\"colorbar\": {\"outlinewidth\": 0, \"ticks\": \"\"}}, \"type\": \"histogram\"}], \"histogram2d\": [{\"colorbar\": {\"outlinewidth\": 0, \"ticks\": \"\"}, \"colorscale\": [[0.0, \"#0d0887\"], [0.1111111111111111, \"#46039f\"], [0.2222222222222222, \"#7201a8\"], [0.3333333333333333, \"#9c179e\"], [0.4444444444444444, \"#bd3786\"], [0.5555555555555556, \"#d8576b\"], [0.6666666666666666, \"#ed7953\"], [0.7777777777777778, \"#fb9f3a\"], [0.8888888888888888, \"#fdca26\"], [1.0, \"#f0f921\"]], \"type\": \"histogram2d\"}], \"histogram2dcontour\": [{\"colorbar\": {\"outlinewidth\": 0, \"ticks\": \"\"}, \"colorscale\": [[0.0, \"#0d0887\"], [0.1111111111111111, \"#46039f\"], [0.2222222222222222, \"#7201a8\"], [0.3333333333333333, \"#9c179e\"], [0.4444444444444444, \"#bd3786\"], [0.5555555555555556, \"#d8576b\"], [0.6666666666666666, \"#ed7953\"], [0.7777777777777778, \"#fb9f3a\"], [0.8888888888888888, \"#fdca26\"], [1.0, \"#f0f921\"]], \"type\": \"histogram2dcontour\"}], \"mesh3d\": [{\"colorbar\": {\"outlinewidth\": 0, \"ticks\": \"\"}, \"type\": \"mesh3d\"}], \"parcoords\": [{\"line\": {\"colorbar\": {\"outlinewidth\": 0, \"ticks\": \"\"}}, \"type\": \"parcoords\"}], \"pie\": [{\"automargin\": true, \"type\": \"pie\"}], \"scatter\": [{\"marker\": {\"colorbar\": {\"outlinewidth\": 0, \"ticks\": \"\"}}, \"type\": \"scatter\"}], \"scatter3d\": [{\"line\": {\"colorbar\": {\"outlinewidth\": 0, \"ticks\": \"\"}}, \"marker\": {\"colorbar\": {\"outlinewidth\": 0, \"ticks\": \"\"}}, \"type\": \"scatter3d\"}], \"scattercarpet\": [{\"marker\": {\"colorbar\": {\"outlinewidth\": 0, \"ticks\": \"\"}}, \"type\": \"scattercarpet\"}], \"scattergeo\": [{\"marker\": {\"colorbar\": {\"outlinewidth\": 0, \"ticks\": \"\"}}, \"type\": \"scattergeo\"}], \"scattergl\": [{\"marker\": {\"colorbar\": {\"outlinewidth\": 0, \"ticks\": \"\"}}, \"type\": \"scattergl\"}], \"scattermapbox\": [{\"marker\": {\"colorbar\": {\"outlinewidth\": 0, \"ticks\": \"\"}}, \"type\": \"scattermapbox\"}], \"scatterpolar\": [{\"marker\": {\"colorbar\": {\"outlinewidth\": 0, \"ticks\": \"\"}}, \"type\": \"scatterpolar\"}], \"scatterpolargl\": [{\"marker\": {\"colorbar\": {\"outlinewidth\": 0, \"ticks\": \"\"}}, \"type\": \"scatterpolargl\"}], \"scatterternary\": [{\"marker\": {\"colorbar\": {\"outlinewidth\": 0, \"ticks\": \"\"}}, \"type\": \"scatterternary\"}], \"surface\": [{\"colorbar\": {\"outlinewidth\": 0, \"ticks\": \"\"}, \"colorscale\": [[0.0, \"#0d0887\"], [0.1111111111111111, \"#46039f\"], [0.2222222222222222, \"#7201a8\"], [0.3333333333333333, \"#9c179e\"], [0.4444444444444444, \"#bd3786\"], [0.5555555555555556, \"#d8576b\"], [0.6666666666666666, \"#ed7953\"], [0.7777777777777778, \"#fb9f3a\"], [0.8888888888888888, \"#fdca26\"], [1.0, \"#f0f921\"]], \"type\": \"surface\"}], \"table\": [{\"cells\": {\"fill\": {\"color\": \"#EBF0F8\"}, \"line\": {\"color\": \"white\"}}, \"header\": {\"fill\": {\"color\": \"#C8D4E3\"}, \"line\": {\"color\": \"white\"}}, \"type\": \"table\"}]}, \"layout\": {\"annotationdefaults\": {\"arrowcolor\": \"#2a3f5f\", \"arrowhead\": 0, \"arrowwidth\": 1}, \"coloraxis\": {\"colorbar\": {\"outlinewidth\": 0, \"ticks\": \"\"}}, \"colorscale\": {\"diverging\": [[0, \"#8e0152\"], [0.1, \"#c51b7d\"], [0.2, \"#de77ae\"], [0.3, \"#f1b6da\"], [0.4, \"#fde0ef\"], [0.5, \"#f7f7f7\"], [0.6, \"#e6f5d0\"], [0.7, \"#b8e186\"], [0.8, \"#7fbc41\"], [0.9, \"#4d9221\"], [1, \"#276419\"]], \"sequential\": [[0.0, \"#0d0887\"], [0.1111111111111111, \"#46039f\"], [0.2222222222222222, \"#7201a8\"], [0.3333333333333333, \"#9c179e\"], [0.4444444444444444, \"#bd3786\"], [0.5555555555555556, \"#d8576b\"], [0.6666666666666666, \"#ed7953\"], [0.7777777777777778, \"#fb9f3a\"], [0.8888888888888888, \"#fdca26\"], [1.0, \"#f0f921\"]], \"sequentialminus\": [[0.0, \"#0d0887\"], [0.1111111111111111, \"#46039f\"], [0.2222222222222222, \"#7201a8\"], [0.3333333333333333, \"#9c179e\"], [0.4444444444444444, \"#bd3786\"], [0.5555555555555556, \"#d8576b\"], [0.6666666666666666, \"#ed7953\"], [0.7777777777777778, \"#fb9f3a\"], [0.8888888888888888, \"#fdca26\"], [1.0, \"#f0f921\"]]}, \"colorway\": [\"#636efa\", \"#EF553B\", \"#00cc96\", \"#ab63fa\", \"#FFA15A\", \"#19d3f3\", \"#FF6692\", \"#B6E880\", \"#FF97FF\", \"#FECB52\"], \"font\": {\"color\": \"#2a3f5f\"}, \"geo\": {\"bgcolor\": \"white\", \"lakecolor\": \"white\", \"landcolor\": \"#E5ECF6\", \"showlakes\": true, \"showland\": true, \"subunitcolor\": \"white\"}, \"hoverlabel\": {\"align\": \"left\"}, \"hovermode\": \"closest\", \"mapbox\": {\"style\": \"light\"}, \"paper_bgcolor\": \"white\", \"plot_bgcolor\": \"#E5ECF6\", \"polar\": {\"angularaxis\": {\"gridcolor\": \"white\", \"linecolor\": \"white\", \"ticks\": \"\"}, \"bgcolor\": \"#E5ECF6\", \"radialaxis\": {\"gridcolor\": \"white\", \"linecolor\": \"white\", \"ticks\": \"\"}}, \"scene\": {\"xaxis\": {\"backgroundcolor\": \"#E5ECF6\", \"gridcolor\": \"white\", \"gridwidth\": 2, \"linecolor\": \"white\", \"showbackground\": true, \"ticks\": \"\", \"zerolinecolor\": \"white\"}, \"yaxis\": {\"backgroundcolor\": \"#E5ECF6\", \"gridcolor\": \"white\", \"gridwidth\": 2, \"linecolor\": \"white\", \"showbackground\": true, \"ticks\": \"\", \"zerolinecolor\": \"white\"}, \"zaxis\": {\"backgroundcolor\": \"#E5ECF6\", \"gridcolor\": \"white\", \"gridwidth\": 2, \"linecolor\": \"white\", \"showbackground\": true, \"ticks\": \"\", \"zerolinecolor\": \"white\"}}, \"shapedefaults\": {\"line\": {\"color\": \"#2a3f5f\"}}, \"ternary\": {\"aaxis\": {\"gridcolor\": \"white\", \"linecolor\": \"white\", \"ticks\": \"\"}, \"baxis\": {\"gridcolor\": \"white\", \"linecolor\": \"white\", \"ticks\": \"\"}, \"bgcolor\": \"#E5ECF6\", \"caxis\": {\"gridcolor\": \"white\", \"linecolor\": \"white\", \"ticks\": \"\"}}, \"title\": {\"x\": 0.05}, \"xaxis\": {\"automargin\": true, \"gridcolor\": \"white\", \"linecolor\": \"white\", \"ticks\": \"\", \"title\": {\"standoff\": 15}, \"zerolinecolor\": \"white\", \"zerolinewidth\": 2}, \"yaxis\": {\"automargin\": true, \"gridcolor\": \"white\", \"linecolor\": \"white\", \"ticks\": \"\", \"title\": {\"standoff\": 15}, \"zerolinecolor\": \"white\", \"zerolinewidth\": 2}}}, \"title\": {\"text\": \"T\\u00edtulo\"}, \"xaxis\": {\"tickangle\": 0, \"tickfont\": {\"size\": 8}, \"title\": {\"font\": {\"size\": 18}, \"text\": \"Intervalos de probabilidade\"}}, \"yaxis\": {\"range\": [0, 1.3], \"showticklabels\": false}, \"yaxis2\": {\"anchor\": \"x\", \"overlaying\": \"y\", \"range\": [-100, 249.4], \"showticklabels\": false}, \"yaxis3\": {\"anchor\": \"x\", \"overlaying\": \"y\", \"range\": [-10, 2], \"showticklabels\": false}},\n",
       "                        {\"responsive\": true}\n",
       "                    ).then(function(){\n",
       "                            \n",
       "var gd = document.getElementById('94a0fc51-9392-4481-ae5c-967ae9f97452');\n",
       "var x = new MutationObserver(function (mutations, observer) {{\n",
       "        var display = window.getComputedStyle(gd).display;\n",
       "        if (!display || display === 'none') {{\n",
       "            console.log([gd, 'removed!']);\n",
       "            Plotly.purge(gd);\n",
       "            observer.disconnect();\n",
       "        }}\n",
       "}});\n",
       "\n",
       "// Listen for the removal of the full notebook cells\n",
       "var notebookContainer = gd.closest('#notebook-container');\n",
       "if (notebookContainer) {{\n",
       "    x.observe(notebookContainer, {childList: true});\n",
       "}}\n",
       "\n",
       "// Listen for the clearing of the current output cell\n",
       "var outputEl = gd.closest('.output');\n",
       "if (outputEl) {{\n",
       "    x.observe(outputEl, {childList: true});\n",
       "}}\n",
       "\n",
       "                        })\n",
       "                };\n",
       "                });\n",
       "            </script>\n",
       "        </div>"
      ]
     },
     "metadata": {},
     "output_type": "display_data"
    }
   ],
   "source": [
    "train_table, test_table, train_group, test_group = probability_groups(7, tr.yprob, tr.y, va.yprob, va.y)\n",
    "stacked_barplot_probs(train_table, tr.y.mean())"
   ]
  },
  {
   "cell_type": "markdown",
   "metadata": {},
   "source": [
    "## Métricas com variação de ponto de corte ou quantis"
   ]
  },
  {
   "cell_type": "code",
   "execution_count": 7,
   "metadata": {
    "ExecuteTime": {
     "end_time": "2020-07-03T03:24:40.953799Z",
     "start_time": "2020-07-03T03:24:40.869987Z"
    }
   },
   "outputs": [
    {
     "data": {
      "text/html": [
       "<div>\n",
       "<style scoped>\n",
       "    .dataframe tbody tr th:only-of-type {\n",
       "        vertical-align: middle;\n",
       "    }\n",
       "\n",
       "    .dataframe tbody tr th {\n",
       "        vertical-align: top;\n",
       "    }\n",
       "\n",
       "    .dataframe thead th {\n",
       "        text-align: right;\n",
       "    }\n",
       "</style>\n",
       "<table border=\"1\" class=\"dataframe\">\n",
       "  <thead>\n",
       "    <tr style=\"text-align: right;\">\n",
       "      <th></th>\n",
       "      <th>percentil</th>\n",
       "      <th>quantidade_preditos_faixa</th>\n",
       "      <th>quantidade_real_faixa</th>\n",
       "      <th>ponto_de_corte</th>\n",
       "      <th>recall</th>\n",
       "      <th>precision</th>\n",
       "      <th>f1</th>\n",
       "      <th>accuracy</th>\n",
       "      <th>corte_perc</th>\n",
       "    </tr>\n",
       "  </thead>\n",
       "  <tbody>\n",
       "    <tr>\n",
       "      <th>0</th>\n",
       "      <td>100</td>\n",
       "      <td>1200</td>\n",
       "      <td>595.0</td>\n",
       "      <td>0.0</td>\n",
       "      <td>100.0</td>\n",
       "      <td>49.6</td>\n",
       "      <td>66.3</td>\n",
       "      <td>49.6</td>\n",
       "      <td>0.0 - 100%</td>\n",
       "    </tr>\n",
       "    <tr>\n",
       "      <th>1</th>\n",
       "      <td>85</td>\n",
       "      <td>1019</td>\n",
       "      <td>584.0</td>\n",
       "      <td>0.1</td>\n",
       "      <td>98.2</td>\n",
       "      <td>57.3</td>\n",
       "      <td>72.4</td>\n",
       "      <td>62.8</td>\n",
       "      <td>0.1 - 85%</td>\n",
       "    </tr>\n",
       "    <tr>\n",
       "      <th>2</th>\n",
       "      <td>76</td>\n",
       "      <td>914</td>\n",
       "      <td>567.0</td>\n",
       "      <td>0.2</td>\n",
       "      <td>95.3</td>\n",
       "      <td>62.0</td>\n",
       "      <td>75.1</td>\n",
       "      <td>68.8</td>\n",
       "      <td>0.2 - 76%</td>\n",
       "    </tr>\n",
       "    <tr>\n",
       "      <th>3</th>\n",
       "      <td>68</td>\n",
       "      <td>817</td>\n",
       "      <td>546.0</td>\n",
       "      <td>0.3</td>\n",
       "      <td>91.8</td>\n",
       "      <td>66.8</td>\n",
       "      <td>77.3</td>\n",
       "      <td>73.3</td>\n",
       "      <td>0.3 - 68%</td>\n",
       "    </tr>\n",
       "    <tr>\n",
       "      <th>4</th>\n",
       "      <td>60</td>\n",
       "      <td>720</td>\n",
       "      <td>519.0</td>\n",
       "      <td>0.4</td>\n",
       "      <td>87.2</td>\n",
       "      <td>72.1</td>\n",
       "      <td>78.9</td>\n",
       "      <td>76.9</td>\n",
       "      <td>0.4 - 60%</td>\n",
       "    </tr>\n",
       "    <tr>\n",
       "      <th>5</th>\n",
       "      <td>52</td>\n",
       "      <td>618</td>\n",
       "      <td>479.0</td>\n",
       "      <td>0.5</td>\n",
       "      <td>80.5</td>\n",
       "      <td>77.5</td>\n",
       "      <td>79.0</td>\n",
       "      <td>78.8</td>\n",
       "      <td>0.5 - 52%</td>\n",
       "    </tr>\n",
       "    <tr>\n",
       "      <th>6</th>\n",
       "      <td>42</td>\n",
       "      <td>502</td>\n",
       "      <td>414.0</td>\n",
       "      <td>0.6</td>\n",
       "      <td>69.6</td>\n",
       "      <td>82.5</td>\n",
       "      <td>75.5</td>\n",
       "      <td>77.6</td>\n",
       "      <td>0.6 - 42%</td>\n",
       "    </tr>\n",
       "    <tr>\n",
       "      <th>7</th>\n",
       "      <td>33</td>\n",
       "      <td>401</td>\n",
       "      <td>344.0</td>\n",
       "      <td>0.7</td>\n",
       "      <td>57.8</td>\n",
       "      <td>85.8</td>\n",
       "      <td>69.1</td>\n",
       "      <td>74.3</td>\n",
       "      <td>0.7 - 33%</td>\n",
       "    </tr>\n",
       "    <tr>\n",
       "      <th>8</th>\n",
       "      <td>22</td>\n",
       "      <td>260</td>\n",
       "      <td>237.0</td>\n",
       "      <td>0.8</td>\n",
       "      <td>39.8</td>\n",
       "      <td>91.2</td>\n",
       "      <td>55.4</td>\n",
       "      <td>68.2</td>\n",
       "      <td>0.8 - 22%</td>\n",
       "    </tr>\n",
       "    <tr>\n",
       "      <th>9</th>\n",
       "      <td>9</td>\n",
       "      <td>103</td>\n",
       "      <td>99.0</td>\n",
       "      <td>0.9</td>\n",
       "      <td>16.6</td>\n",
       "      <td>96.1</td>\n",
       "      <td>28.4</td>\n",
       "      <td>58.3</td>\n",
       "      <td>0.9 - 9%</td>\n",
       "    </tr>\n",
       "  </tbody>\n",
       "</table>\n",
       "</div>"
      ],
      "text/plain": [
       "   percentil  quantidade_preditos_faixa  quantidade_real_faixa  \\\n",
       "0        100                       1200                  595.0   \n",
       "1         85                       1019                  584.0   \n",
       "2         76                        914                  567.0   \n",
       "3         68                        817                  546.0   \n",
       "4         60                        720                  519.0   \n",
       "5         52                        618                  479.0   \n",
       "6         42                        502                  414.0   \n",
       "7         33                        401                  344.0   \n",
       "8         22                        260                  237.0   \n",
       "9          9                        103                   99.0   \n",
       "\n",
       "   ponto_de_corte recall precision    f1 accuracy  corte_perc  \n",
       "0             0.0  100.0      49.6  66.3     49.6  0.0 - 100%  \n",
       "1             0.1   98.2      57.3  72.4     62.8   0.1 - 85%  \n",
       "2             0.2   95.3      62.0  75.1     68.8   0.2 - 76%  \n",
       "3             0.3   91.8      66.8  77.3     73.3   0.3 - 68%  \n",
       "4             0.4   87.2      72.1  78.9     76.9   0.4 - 60%  \n",
       "5             0.5   80.5      77.5  79.0     78.8   0.5 - 52%  \n",
       "6             0.6   69.6      82.5  75.5     77.6   0.6 - 42%  \n",
       "7             0.7   57.8      85.8  69.1     74.3   0.7 - 33%  \n",
       "8             0.8   39.8      91.2  55.4     68.2   0.8 - 22%  \n",
       "9             0.9   16.6      96.1  28.4     58.3    0.9 - 9%  "
      ]
     },
     "execution_count": 7,
     "metadata": {},
     "output_type": "execute_result"
    }
   ],
   "source": [
    "#tabela_percentis_recall_precision(dados1, 'prob_treino', 'prob_resp', [0.1,0.2,0.3], type_info = 'quantiles')\n",
    "df_metrics = table_percentis_recall_precision(tr, 'yprob', 'y', np.arange(0,1,0.1), type_info = 'threshold')\n",
    "df_metrics"
   ]
  },
  {
   "cell_type": "markdown",
   "metadata": {},
   "source": [
    "### Gráfico com Precisão e volumes respectivos analisados"
   ]
  },
  {
   "cell_type": "code",
   "execution_count": 8,
   "metadata": {
    "ExecuteTime": {
     "end_time": "2020-07-03T03:24:40.973711Z",
     "start_time": "2020-07-03T03:24:40.955758Z"
    }
   },
   "outputs": [],
   "source": [
    "def PlotPrecision (df, \n",
    "                   nomes_legenda = ['precision', '# Preditos', '# Real'],\n",
    "                   colors = ['rgb(236,112,20)', 'rgb(102, 163, 255)', 'rgb(0, 102, 255)'],\n",
    "                   yaxis = [None, 'y2', 'y2'],\n",
    "                   thresholds = [0.5]\n",
    "                  ):\n",
    "\n",
    "    cols_plot = ['precision', 'quantidade_preditos_faixa', 'quantidade_real_faixa']\n",
    "    line_size = [1.5,1.5,1.5]\n",
    "    fig = go.Figure()\n",
    "    # DESENHAR AS 3 LINHAS\n",
    "    eixo_x = ['<br>'.join(wrap(str(j),width=5)) for j in df['corte_perc'].values.tolist()]\n",
    "    for i, col in enumerate(cols_plot):\n",
    "        fig.add_trace(go.Scatter(x = eixo_x,\n",
    "                             y = df[col],\n",
    "                             #text = tab_plot[cols_plot[0]],\n",
    "                             #textposition = 'top center',\n",
    "                             yaxis = yaxis[i],\n",
    "                             mode = 'lines',\n",
    "                             #name = 'Precisão',\n",
    "                             name = nomes_legenda[i],\n",
    "                             line=dict(color=colors[i], width=line_size[i]),\n",
    "                            ))\n",
    "    annotations=[]\n",
    "    for th in thresholds:\n",
    "        df_marks = df[df['ponto_de_corte'] == th]\n",
    "        for i, col in enumerate(cols_plot):\n",
    "            # MARCAR AS BOLINHAS\n",
    "            fig.add_trace(go.Scatter(\n",
    "                        x=[eixo_x[int(df_marks.index[0])]],\n",
    "                        y=[df_marks[col][0]],\n",
    "                        yaxis = yaxis[i],\n",
    "                        name = '',\n",
    "                        mode='markers',\n",
    "                        marker=dict(color=colors[i], size=12),\n",
    "                        showlegend=False))\n",
    "\n",
    "        for i2, col in enumerate(cols_plot):\n",
    "            #MARCA TEXO NAS BOLINHAS\n",
    "            if col == 'precision':\n",
    "                texto = '{:,.0f}%'.format(float(df_marks[col][0]))\n",
    "            else:\n",
    "                texto = '{:,.0f}'.format(float(df_marks[col][0]))\n",
    "            annotations.append(dict(yref= yaxis[i2], \n",
    "                                    x=eixo_x[int(df_marks.index[0])], \n",
    "                                    y=float(df_marks[col][0])+1.0,\n",
    "                                    font = dict(color = colors[i2], size=16),\n",
    "                                    text = texto, \n",
    "                                    xanchor='center', yanchor='bottom', showarrow=False))\n",
    "\n",
    "    fig.update_layout(\n",
    "        yaxis=dict(\n",
    "            title=\"Precisão (%)\",\n",
    "            titlefont=dict(\n",
    "                color = colors[0]\n",
    "            ),\n",
    "            tickfont=dict(\n",
    "                color = colors[0]\n",
    "            ),\n",
    "            range=[0,100],\n",
    "            dtick = 10,\n",
    "            showticklabels=True\n",
    "        ),\n",
    "        yaxis2=dict(\n",
    "            #title=\"yaxis2 title\",\n",
    "            titlefont=dict(\n",
    "                color= colors[2]\n",
    "            ),\n",
    "            tickfont=dict(\n",
    "                color= colors[2]\n",
    "            ),\n",
    "            #anchor=\"x\",\n",
    "            overlaying=\"y\",\n",
    "            side=\"right\",\n",
    "            #position=0.15,\n",
    "            range=[0,1200],\n",
    "            showticklabels=True\n",
    "        ))\n",
    "\n",
    "    # layouts - adicional\n",
    "    fig.update_layout(\n",
    "            title_text=\"Insira o título\",\n",
    "            plot_bgcolor='white',\n",
    "            legend_title=' ',\n",
    "            xaxis=dict(\n",
    "                showline=True,\n",
    "                linecolor='rgb(204,204,204)',\n",
    "                #titlefont = dict(color = 'rgb(204,204,204)'),\n",
    "                title='Pontos de corte',\n",
    "                titlefont_size=18,\n",
    "                tickangle = 0,\n",
    "                tickfont_size=10,\n",
    "                ticks='outside',\n",
    "                tickfont=dict(\n",
    "                size=12,\n",
    "                color='rgb(82,82,82)',\n",
    "                ),   \n",
    "            ),\n",
    "            yaxis = dict(\n",
    "                titlefont_size=16\n",
    "            ),\n",
    "            annotations = annotations,\n",
    "            legend=dict(x = 0.025,y = 0.025,\n",
    "                        title = '',\n",
    "                        bgcolor=\"white\",\n",
    "                        bordercolor=\"gray\",\n",
    "                        borderwidth=1.5)\n",
    "            #transition_duration=100\n",
    "            )\n",
    "    return fig"
   ]
  },
  {
   "cell_type": "code",
   "execution_count": 9,
   "metadata": {
    "ExecuteTime": {
     "end_time": "2020-07-03T03:24:41.229027Z",
     "start_time": "2020-07-03T03:24:40.974737Z"
    }
   },
   "outputs": [
    {
     "data": {
      "application/vnd.plotly.v1+json": {
       "config": {
        "plotlyServerURL": "https://plot.ly"
       },
       "data": [
        {
         "line": {
          "color": "rgb(236,112,20)",
          "width": 1.5
         },
         "mode": "lines",
         "name": "precision",
         "type": "scatter",
         "x": [
          "0.0 -<br>100%",
          "0.1 -<br>85%",
          "0.2 -<br>76%",
          "0.3 -<br>68%",
          "0.4 -<br>60%",
          "0.5 -<br>52%",
          "0.6 -<br>42%",
          "0.7 -<br>33%",
          "0.8 -<br>22%",
          "0.9 -<br>9%"
         ],
         "y": [
          "49.6",
          "57.3",
          "62.0",
          "66.8",
          "72.1",
          "77.5",
          "82.5",
          "85.8",
          "91.2",
          "96.1"
         ]
        },
        {
         "line": {
          "color": "rgb(102, 163, 255)",
          "width": 1.5
         },
         "mode": "lines",
         "name": "# Preditos",
         "type": "scatter",
         "x": [
          "0.0 -<br>100%",
          "0.1 -<br>85%",
          "0.2 -<br>76%",
          "0.3 -<br>68%",
          "0.4 -<br>60%",
          "0.5 -<br>52%",
          "0.6 -<br>42%",
          "0.7 -<br>33%",
          "0.8 -<br>22%",
          "0.9 -<br>9%"
         ],
         "y": [
          1200,
          1019,
          914,
          817,
          720,
          618,
          502,
          401,
          260,
          103
         ],
         "yaxis": "y2"
        },
        {
         "line": {
          "color": "rgb(0, 102, 255)",
          "width": 1.5
         },
         "mode": "lines",
         "name": "# Real",
         "type": "scatter",
         "x": [
          "0.0 -<br>100%",
          "0.1 -<br>85%",
          "0.2 -<br>76%",
          "0.3 -<br>68%",
          "0.4 -<br>60%",
          "0.5 -<br>52%",
          "0.6 -<br>42%",
          "0.7 -<br>33%",
          "0.8 -<br>22%",
          "0.9 -<br>9%"
         ],
         "y": [
          595,
          584,
          567,
          546,
          519,
          479,
          414,
          344,
          237,
          99
         ],
         "yaxis": "y2"
        },
        {
         "marker": {
          "color": "rgb(236,112,20)",
          "size": 12
         },
         "mode": "markers",
         "name": "",
         "showlegend": false,
         "type": "scatter",
         "x": [
          "0.2 -<br>76%"
         ],
         "y": [
          "62.0"
         ]
        },
        {
         "marker": {
          "color": "rgb(102, 163, 255)",
          "size": 12
         },
         "mode": "markers",
         "name": "",
         "showlegend": false,
         "type": "scatter",
         "x": [
          "0.2 -<br>76%"
         ],
         "y": [
          914
         ],
         "yaxis": "y2"
        },
        {
         "marker": {
          "color": "rgb(0, 102, 255)",
          "size": 12
         },
         "mode": "markers",
         "name": "",
         "showlegend": false,
         "type": "scatter",
         "x": [
          "0.2 -<br>76%"
         ],
         "y": [
          567
         ],
         "yaxis": "y2"
        },
        {
         "marker": {
          "color": "rgb(236,112,20)",
          "size": 12
         },
         "mode": "markers",
         "name": "",
         "showlegend": false,
         "type": "scatter",
         "x": [
          "0.5 -<br>52%"
         ],
         "y": [
          "77.5"
         ]
        },
        {
         "marker": {
          "color": "rgb(102, 163, 255)",
          "size": 12
         },
         "mode": "markers",
         "name": "",
         "showlegend": false,
         "type": "scatter",
         "x": [
          "0.5 -<br>52%"
         ],
         "y": [
          618
         ],
         "yaxis": "y2"
        },
        {
         "marker": {
          "color": "rgb(0, 102, 255)",
          "size": 12
         },
         "mode": "markers",
         "name": "",
         "showlegend": false,
         "type": "scatter",
         "x": [
          "0.5 -<br>52%"
         ],
         "y": [
          479
         ],
         "yaxis": "y2"
        },
        {
         "marker": {
          "color": "rgb(236,112,20)",
          "size": 12
         },
         "mode": "markers",
         "name": "",
         "showlegend": false,
         "type": "scatter",
         "x": [
          "0.6 -<br>42%"
         ],
         "y": [
          "82.5"
         ]
        },
        {
         "marker": {
          "color": "rgb(102, 163, 255)",
          "size": 12
         },
         "mode": "markers",
         "name": "",
         "showlegend": false,
         "type": "scatter",
         "x": [
          "0.6 -<br>42%"
         ],
         "y": [
          502
         ],
         "yaxis": "y2"
        },
        {
         "marker": {
          "color": "rgb(0, 102, 255)",
          "size": 12
         },
         "mode": "markers",
         "name": "",
         "showlegend": false,
         "type": "scatter",
         "x": [
          "0.6 -<br>42%"
         ],
         "y": [
          414
         ],
         "yaxis": "y2"
        }
       ],
       "layout": {
        "annotations": [
         {
          "font": {
           "color": "rgb(236,112,20)",
           "size": 16
          },
          "showarrow": false,
          "text": "62%",
          "x": "0.2 -<br>76%",
          "xanchor": "center",
          "y": 63,
          "yanchor": "bottom"
         },
         {
          "font": {
           "color": "rgb(102, 163, 255)",
           "size": 16
          },
          "showarrow": false,
          "text": "914",
          "x": "0.2 -<br>76%",
          "xanchor": "center",
          "y": 915,
          "yanchor": "bottom",
          "yref": "y2"
         },
         {
          "font": {
           "color": "rgb(0, 102, 255)",
           "size": 16
          },
          "showarrow": false,
          "text": "567",
          "x": "0.2 -<br>76%",
          "xanchor": "center",
          "y": 568,
          "yanchor": "bottom",
          "yref": "y2"
         },
         {
          "font": {
           "color": "rgb(236,112,20)",
           "size": 16
          },
          "showarrow": false,
          "text": "78%",
          "x": "0.5 -<br>52%",
          "xanchor": "center",
          "y": 78.5,
          "yanchor": "bottom"
         },
         {
          "font": {
           "color": "rgb(102, 163, 255)",
           "size": 16
          },
          "showarrow": false,
          "text": "618",
          "x": "0.5 -<br>52%",
          "xanchor": "center",
          "y": 619,
          "yanchor": "bottom",
          "yref": "y2"
         },
         {
          "font": {
           "color": "rgb(0, 102, 255)",
           "size": 16
          },
          "showarrow": false,
          "text": "479",
          "x": "0.5 -<br>52%",
          "xanchor": "center",
          "y": 480,
          "yanchor": "bottom",
          "yref": "y2"
         },
         {
          "font": {
           "color": "rgb(236,112,20)",
           "size": 16
          },
          "showarrow": false,
          "text": "82%",
          "x": "0.6 -<br>42%",
          "xanchor": "center",
          "y": 83.5,
          "yanchor": "bottom"
         },
         {
          "font": {
           "color": "rgb(102, 163, 255)",
           "size": 16
          },
          "showarrow": false,
          "text": "502",
          "x": "0.6 -<br>42%",
          "xanchor": "center",
          "y": 503,
          "yanchor": "bottom",
          "yref": "y2"
         },
         {
          "font": {
           "color": "rgb(0, 102, 255)",
           "size": 16
          },
          "showarrow": false,
          "text": "414",
          "x": "0.6 -<br>42%",
          "xanchor": "center",
          "y": 415,
          "yanchor": "bottom",
          "yref": "y2"
         }
        ],
        "legend": {
         "bgcolor": "white",
         "bordercolor": "gray",
         "borderwidth": 1.5,
         "title": {
          "text": ""
         },
         "x": 0.025,
         "y": 0.025
        },
        "plot_bgcolor": "white",
        "template": {
         "data": {
          "bar": [
           {
            "error_x": {
             "color": "#2a3f5f"
            },
            "error_y": {
             "color": "#2a3f5f"
            },
            "marker": {
             "line": {
              "color": "#E5ECF6",
              "width": 0.5
             }
            },
            "type": "bar"
           }
          ],
          "barpolar": [
           {
            "marker": {
             "line": {
              "color": "#E5ECF6",
              "width": 0.5
             }
            },
            "type": "barpolar"
           }
          ],
          "carpet": [
           {
            "aaxis": {
             "endlinecolor": "#2a3f5f",
             "gridcolor": "white",
             "linecolor": "white",
             "minorgridcolor": "white",
             "startlinecolor": "#2a3f5f"
            },
            "baxis": {
             "endlinecolor": "#2a3f5f",
             "gridcolor": "white",
             "linecolor": "white",
             "minorgridcolor": "white",
             "startlinecolor": "#2a3f5f"
            },
            "type": "carpet"
           }
          ],
          "choropleth": [
           {
            "colorbar": {
             "outlinewidth": 0,
             "ticks": ""
            },
            "type": "choropleth"
           }
          ],
          "contour": [
           {
            "colorbar": {
             "outlinewidth": 0,
             "ticks": ""
            },
            "colorscale": [
             [
              0,
              "#0d0887"
             ],
             [
              0.1111111111111111,
              "#46039f"
             ],
             [
              0.2222222222222222,
              "#7201a8"
             ],
             [
              0.3333333333333333,
              "#9c179e"
             ],
             [
              0.4444444444444444,
              "#bd3786"
             ],
             [
              0.5555555555555556,
              "#d8576b"
             ],
             [
              0.6666666666666666,
              "#ed7953"
             ],
             [
              0.7777777777777778,
              "#fb9f3a"
             ],
             [
              0.8888888888888888,
              "#fdca26"
             ],
             [
              1,
              "#f0f921"
             ]
            ],
            "type": "contour"
           }
          ],
          "contourcarpet": [
           {
            "colorbar": {
             "outlinewidth": 0,
             "ticks": ""
            },
            "type": "contourcarpet"
           }
          ],
          "heatmap": [
           {
            "colorbar": {
             "outlinewidth": 0,
             "ticks": ""
            },
            "colorscale": [
             [
              0,
              "#0d0887"
             ],
             [
              0.1111111111111111,
              "#46039f"
             ],
             [
              0.2222222222222222,
              "#7201a8"
             ],
             [
              0.3333333333333333,
              "#9c179e"
             ],
             [
              0.4444444444444444,
              "#bd3786"
             ],
             [
              0.5555555555555556,
              "#d8576b"
             ],
             [
              0.6666666666666666,
              "#ed7953"
             ],
             [
              0.7777777777777778,
              "#fb9f3a"
             ],
             [
              0.8888888888888888,
              "#fdca26"
             ],
             [
              1,
              "#f0f921"
             ]
            ],
            "type": "heatmap"
           }
          ],
          "heatmapgl": [
           {
            "colorbar": {
             "outlinewidth": 0,
             "ticks": ""
            },
            "colorscale": [
             [
              0,
              "#0d0887"
             ],
             [
              0.1111111111111111,
              "#46039f"
             ],
             [
              0.2222222222222222,
              "#7201a8"
             ],
             [
              0.3333333333333333,
              "#9c179e"
             ],
             [
              0.4444444444444444,
              "#bd3786"
             ],
             [
              0.5555555555555556,
              "#d8576b"
             ],
             [
              0.6666666666666666,
              "#ed7953"
             ],
             [
              0.7777777777777778,
              "#fb9f3a"
             ],
             [
              0.8888888888888888,
              "#fdca26"
             ],
             [
              1,
              "#f0f921"
             ]
            ],
            "type": "heatmapgl"
           }
          ],
          "histogram": [
           {
            "marker": {
             "colorbar": {
              "outlinewidth": 0,
              "ticks": ""
             }
            },
            "type": "histogram"
           }
          ],
          "histogram2d": [
           {
            "colorbar": {
             "outlinewidth": 0,
             "ticks": ""
            },
            "colorscale": [
             [
              0,
              "#0d0887"
             ],
             [
              0.1111111111111111,
              "#46039f"
             ],
             [
              0.2222222222222222,
              "#7201a8"
             ],
             [
              0.3333333333333333,
              "#9c179e"
             ],
             [
              0.4444444444444444,
              "#bd3786"
             ],
             [
              0.5555555555555556,
              "#d8576b"
             ],
             [
              0.6666666666666666,
              "#ed7953"
             ],
             [
              0.7777777777777778,
              "#fb9f3a"
             ],
             [
              0.8888888888888888,
              "#fdca26"
             ],
             [
              1,
              "#f0f921"
             ]
            ],
            "type": "histogram2d"
           }
          ],
          "histogram2dcontour": [
           {
            "colorbar": {
             "outlinewidth": 0,
             "ticks": ""
            },
            "colorscale": [
             [
              0,
              "#0d0887"
             ],
             [
              0.1111111111111111,
              "#46039f"
             ],
             [
              0.2222222222222222,
              "#7201a8"
             ],
             [
              0.3333333333333333,
              "#9c179e"
             ],
             [
              0.4444444444444444,
              "#bd3786"
             ],
             [
              0.5555555555555556,
              "#d8576b"
             ],
             [
              0.6666666666666666,
              "#ed7953"
             ],
             [
              0.7777777777777778,
              "#fb9f3a"
             ],
             [
              0.8888888888888888,
              "#fdca26"
             ],
             [
              1,
              "#f0f921"
             ]
            ],
            "type": "histogram2dcontour"
           }
          ],
          "mesh3d": [
           {
            "colorbar": {
             "outlinewidth": 0,
             "ticks": ""
            },
            "type": "mesh3d"
           }
          ],
          "parcoords": [
           {
            "line": {
             "colorbar": {
              "outlinewidth": 0,
              "ticks": ""
             }
            },
            "type": "parcoords"
           }
          ],
          "pie": [
           {
            "automargin": true,
            "type": "pie"
           }
          ],
          "scatter": [
           {
            "marker": {
             "colorbar": {
              "outlinewidth": 0,
              "ticks": ""
             }
            },
            "type": "scatter"
           }
          ],
          "scatter3d": [
           {
            "line": {
             "colorbar": {
              "outlinewidth": 0,
              "ticks": ""
             }
            },
            "marker": {
             "colorbar": {
              "outlinewidth": 0,
              "ticks": ""
             }
            },
            "type": "scatter3d"
           }
          ],
          "scattercarpet": [
           {
            "marker": {
             "colorbar": {
              "outlinewidth": 0,
              "ticks": ""
             }
            },
            "type": "scattercarpet"
           }
          ],
          "scattergeo": [
           {
            "marker": {
             "colorbar": {
              "outlinewidth": 0,
              "ticks": ""
             }
            },
            "type": "scattergeo"
           }
          ],
          "scattergl": [
           {
            "marker": {
             "colorbar": {
              "outlinewidth": 0,
              "ticks": ""
             }
            },
            "type": "scattergl"
           }
          ],
          "scattermapbox": [
           {
            "marker": {
             "colorbar": {
              "outlinewidth": 0,
              "ticks": ""
             }
            },
            "type": "scattermapbox"
           }
          ],
          "scatterpolar": [
           {
            "marker": {
             "colorbar": {
              "outlinewidth": 0,
              "ticks": ""
             }
            },
            "type": "scatterpolar"
           }
          ],
          "scatterpolargl": [
           {
            "marker": {
             "colorbar": {
              "outlinewidth": 0,
              "ticks": ""
             }
            },
            "type": "scatterpolargl"
           }
          ],
          "scatterternary": [
           {
            "marker": {
             "colorbar": {
              "outlinewidth": 0,
              "ticks": ""
             }
            },
            "type": "scatterternary"
           }
          ],
          "surface": [
           {
            "colorbar": {
             "outlinewidth": 0,
             "ticks": ""
            },
            "colorscale": [
             [
              0,
              "#0d0887"
             ],
             [
              0.1111111111111111,
              "#46039f"
             ],
             [
              0.2222222222222222,
              "#7201a8"
             ],
             [
              0.3333333333333333,
              "#9c179e"
             ],
             [
              0.4444444444444444,
              "#bd3786"
             ],
             [
              0.5555555555555556,
              "#d8576b"
             ],
             [
              0.6666666666666666,
              "#ed7953"
             ],
             [
              0.7777777777777778,
              "#fb9f3a"
             ],
             [
              0.8888888888888888,
              "#fdca26"
             ],
             [
              1,
              "#f0f921"
             ]
            ],
            "type": "surface"
           }
          ],
          "table": [
           {
            "cells": {
             "fill": {
              "color": "#EBF0F8"
             },
             "line": {
              "color": "white"
             }
            },
            "header": {
             "fill": {
              "color": "#C8D4E3"
             },
             "line": {
              "color": "white"
             }
            },
            "type": "table"
           }
          ]
         },
         "layout": {
          "annotationdefaults": {
           "arrowcolor": "#2a3f5f",
           "arrowhead": 0,
           "arrowwidth": 1
          },
          "coloraxis": {
           "colorbar": {
            "outlinewidth": 0,
            "ticks": ""
           }
          },
          "colorscale": {
           "diverging": [
            [
             0,
             "#8e0152"
            ],
            [
             0.1,
             "#c51b7d"
            ],
            [
             0.2,
             "#de77ae"
            ],
            [
             0.3,
             "#f1b6da"
            ],
            [
             0.4,
             "#fde0ef"
            ],
            [
             0.5,
             "#f7f7f7"
            ],
            [
             0.6,
             "#e6f5d0"
            ],
            [
             0.7,
             "#b8e186"
            ],
            [
             0.8,
             "#7fbc41"
            ],
            [
             0.9,
             "#4d9221"
            ],
            [
             1,
             "#276419"
            ]
           ],
           "sequential": [
            [
             0,
             "#0d0887"
            ],
            [
             0.1111111111111111,
             "#46039f"
            ],
            [
             0.2222222222222222,
             "#7201a8"
            ],
            [
             0.3333333333333333,
             "#9c179e"
            ],
            [
             0.4444444444444444,
             "#bd3786"
            ],
            [
             0.5555555555555556,
             "#d8576b"
            ],
            [
             0.6666666666666666,
             "#ed7953"
            ],
            [
             0.7777777777777778,
             "#fb9f3a"
            ],
            [
             0.8888888888888888,
             "#fdca26"
            ],
            [
             1,
             "#f0f921"
            ]
           ],
           "sequentialminus": [
            [
             0,
             "#0d0887"
            ],
            [
             0.1111111111111111,
             "#46039f"
            ],
            [
             0.2222222222222222,
             "#7201a8"
            ],
            [
             0.3333333333333333,
             "#9c179e"
            ],
            [
             0.4444444444444444,
             "#bd3786"
            ],
            [
             0.5555555555555556,
             "#d8576b"
            ],
            [
             0.6666666666666666,
             "#ed7953"
            ],
            [
             0.7777777777777778,
             "#fb9f3a"
            ],
            [
             0.8888888888888888,
             "#fdca26"
            ],
            [
             1,
             "#f0f921"
            ]
           ]
          },
          "colorway": [
           "#636efa",
           "#EF553B",
           "#00cc96",
           "#ab63fa",
           "#FFA15A",
           "#19d3f3",
           "#FF6692",
           "#B6E880",
           "#FF97FF",
           "#FECB52"
          ],
          "font": {
           "color": "#2a3f5f"
          },
          "geo": {
           "bgcolor": "white",
           "lakecolor": "white",
           "landcolor": "#E5ECF6",
           "showlakes": true,
           "showland": true,
           "subunitcolor": "white"
          },
          "hoverlabel": {
           "align": "left"
          },
          "hovermode": "closest",
          "mapbox": {
           "style": "light"
          },
          "paper_bgcolor": "white",
          "plot_bgcolor": "#E5ECF6",
          "polar": {
           "angularaxis": {
            "gridcolor": "white",
            "linecolor": "white",
            "ticks": ""
           },
           "bgcolor": "#E5ECF6",
           "radialaxis": {
            "gridcolor": "white",
            "linecolor": "white",
            "ticks": ""
           }
          },
          "scene": {
           "xaxis": {
            "backgroundcolor": "#E5ECF6",
            "gridcolor": "white",
            "gridwidth": 2,
            "linecolor": "white",
            "showbackground": true,
            "ticks": "",
            "zerolinecolor": "white"
           },
           "yaxis": {
            "backgroundcolor": "#E5ECF6",
            "gridcolor": "white",
            "gridwidth": 2,
            "linecolor": "white",
            "showbackground": true,
            "ticks": "",
            "zerolinecolor": "white"
           },
           "zaxis": {
            "backgroundcolor": "#E5ECF6",
            "gridcolor": "white",
            "gridwidth": 2,
            "linecolor": "white",
            "showbackground": true,
            "ticks": "",
            "zerolinecolor": "white"
           }
          },
          "shapedefaults": {
           "line": {
            "color": "#2a3f5f"
           }
          },
          "ternary": {
           "aaxis": {
            "gridcolor": "white",
            "linecolor": "white",
            "ticks": ""
           },
           "baxis": {
            "gridcolor": "white",
            "linecolor": "white",
            "ticks": ""
           },
           "bgcolor": "#E5ECF6",
           "caxis": {
            "gridcolor": "white",
            "linecolor": "white",
            "ticks": ""
           }
          },
          "title": {
           "x": 0.05
          },
          "xaxis": {
           "automargin": true,
           "gridcolor": "white",
           "linecolor": "white",
           "ticks": "",
           "title": {
            "standoff": 15
           },
           "zerolinecolor": "white",
           "zerolinewidth": 2
          },
          "yaxis": {
           "automargin": true,
           "gridcolor": "white",
           "linecolor": "white",
           "ticks": "",
           "title": {
            "standoff": 15
           },
           "zerolinecolor": "white",
           "zerolinewidth": 2
          }
         }
        },
        "title": {
         "text": "Insira o título"
        },
        "xaxis": {
         "linecolor": "rgb(204,204,204)",
         "showline": true,
         "tickangle": 0,
         "tickfont": {
          "color": "rgb(82,82,82)",
          "size": 12
         },
         "ticks": "outside",
         "title": {
          "font": {
           "size": 18
          },
          "text": "Pontos de corte"
         }
        },
        "yaxis": {
         "dtick": 10,
         "range": [
          0,
          100
         ],
         "showticklabels": true,
         "tickfont": {
          "color": "rgb(236,112,20)"
         },
         "title": {
          "font": {
           "color": "rgb(236,112,20)",
           "size": 16
          },
          "text": "Precisão (%)"
         }
        },
        "yaxis2": {
         "overlaying": "y",
         "range": [
          0,
          1200
         ],
         "showticklabels": true,
         "side": "right",
         "tickfont": {
          "color": "rgb(0, 102, 255)"
         },
         "title": {
          "font": {
           "color": "rgb(0, 102, 255)"
          }
         }
        }
       }
      },
      "text/html": [
       "<div>\n",
       "        \n",
       "        \n",
       "            <div id=\"d3e4e679-d127-4c96-b9a2-478e501adbd2\" class=\"plotly-graph-div\" style=\"height:525px; width:100%;\"></div>\n",
       "            <script type=\"text/javascript\">\n",
       "                require([\"plotly\"], function(Plotly) {\n",
       "                    window.PLOTLYENV=window.PLOTLYENV || {};\n",
       "                    \n",
       "                if (document.getElementById(\"d3e4e679-d127-4c96-b9a2-478e501adbd2\")) {\n",
       "                    Plotly.newPlot(\n",
       "                        'd3e4e679-d127-4c96-b9a2-478e501adbd2',\n",
       "                        [{\"line\": {\"color\": \"rgb(236,112,20)\", \"width\": 1.5}, \"mode\": \"lines\", \"name\": \"precision\", \"type\": \"scatter\", \"x\": [\"0.0 -<br>100%\", \"0.1 -<br>85%\", \"0.2 -<br>76%\", \"0.3 -<br>68%\", \"0.4 -<br>60%\", \"0.5 -<br>52%\", \"0.6 -<br>42%\", \"0.7 -<br>33%\", \"0.8 -<br>22%\", \"0.9 -<br>9%\"], \"y\": [\"49.6\", \"57.3\", \"62.0\", \"66.8\", \"72.1\", \"77.5\", \"82.5\", \"85.8\", \"91.2\", \"96.1\"]}, {\"line\": {\"color\": \"rgb(102, 163, 255)\", \"width\": 1.5}, \"mode\": \"lines\", \"name\": \"# Preditos\", \"type\": \"scatter\", \"x\": [\"0.0 -<br>100%\", \"0.1 -<br>85%\", \"0.2 -<br>76%\", \"0.3 -<br>68%\", \"0.4 -<br>60%\", \"0.5 -<br>52%\", \"0.6 -<br>42%\", \"0.7 -<br>33%\", \"0.8 -<br>22%\", \"0.9 -<br>9%\"], \"y\": [1200, 1019, 914, 817, 720, 618, 502, 401, 260, 103], \"yaxis\": \"y2\"}, {\"line\": {\"color\": \"rgb(0, 102, 255)\", \"width\": 1.5}, \"mode\": \"lines\", \"name\": \"# Real\", \"type\": \"scatter\", \"x\": [\"0.0 -<br>100%\", \"0.1 -<br>85%\", \"0.2 -<br>76%\", \"0.3 -<br>68%\", \"0.4 -<br>60%\", \"0.5 -<br>52%\", \"0.6 -<br>42%\", \"0.7 -<br>33%\", \"0.8 -<br>22%\", \"0.9 -<br>9%\"], \"y\": [595.0, 584.0, 567.0, 546.0, 519.0, 479.0, 414.0, 344.0, 237.0, 99.0], \"yaxis\": \"y2\"}, {\"marker\": {\"color\": \"rgb(236,112,20)\", \"size\": 12}, \"mode\": \"markers\", \"name\": \"\", \"showlegend\": false, \"type\": \"scatter\", \"x\": [\"0.2 -<br>76%\"], \"y\": [\"62.0\"]}, {\"marker\": {\"color\": \"rgb(102, 163, 255)\", \"size\": 12}, \"mode\": \"markers\", \"name\": \"\", \"showlegend\": false, \"type\": \"scatter\", \"x\": [\"0.2 -<br>76%\"], \"y\": [914], \"yaxis\": \"y2\"}, {\"marker\": {\"color\": \"rgb(0, 102, 255)\", \"size\": 12}, \"mode\": \"markers\", \"name\": \"\", \"showlegend\": false, \"type\": \"scatter\", \"x\": [\"0.2 -<br>76%\"], \"y\": [567.0], \"yaxis\": \"y2\"}, {\"marker\": {\"color\": \"rgb(236,112,20)\", \"size\": 12}, \"mode\": \"markers\", \"name\": \"\", \"showlegend\": false, \"type\": \"scatter\", \"x\": [\"0.5 -<br>52%\"], \"y\": [\"77.5\"]}, {\"marker\": {\"color\": \"rgb(102, 163, 255)\", \"size\": 12}, \"mode\": \"markers\", \"name\": \"\", \"showlegend\": false, \"type\": \"scatter\", \"x\": [\"0.5 -<br>52%\"], \"y\": [618], \"yaxis\": \"y2\"}, {\"marker\": {\"color\": \"rgb(0, 102, 255)\", \"size\": 12}, \"mode\": \"markers\", \"name\": \"\", \"showlegend\": false, \"type\": \"scatter\", \"x\": [\"0.5 -<br>52%\"], \"y\": [479.0], \"yaxis\": \"y2\"}, {\"marker\": {\"color\": \"rgb(236,112,20)\", \"size\": 12}, \"mode\": \"markers\", \"name\": \"\", \"showlegend\": false, \"type\": \"scatter\", \"x\": [\"0.6 -<br>42%\"], \"y\": [\"82.5\"]}, {\"marker\": {\"color\": \"rgb(102, 163, 255)\", \"size\": 12}, \"mode\": \"markers\", \"name\": \"\", \"showlegend\": false, \"type\": \"scatter\", \"x\": [\"0.6 -<br>42%\"], \"y\": [502], \"yaxis\": \"y2\"}, {\"marker\": {\"color\": \"rgb(0, 102, 255)\", \"size\": 12}, \"mode\": \"markers\", \"name\": \"\", \"showlegend\": false, \"type\": \"scatter\", \"x\": [\"0.6 -<br>42%\"], \"y\": [414.0], \"yaxis\": \"y2\"}],\n",
       "                        {\"annotations\": [{\"font\": {\"color\": \"rgb(236,112,20)\", \"size\": 16}, \"showarrow\": false, \"text\": \"62%\", \"x\": \"0.2 -<br>76%\", \"xanchor\": \"center\", \"y\": 63.0, \"yanchor\": \"bottom\"}, {\"font\": {\"color\": \"rgb(102, 163, 255)\", \"size\": 16}, \"showarrow\": false, \"text\": \"914\", \"x\": \"0.2 -<br>76%\", \"xanchor\": \"center\", \"y\": 915.0, \"yanchor\": \"bottom\", \"yref\": \"y2\"}, {\"font\": {\"color\": \"rgb(0, 102, 255)\", \"size\": 16}, \"showarrow\": false, \"text\": \"567\", \"x\": \"0.2 -<br>76%\", \"xanchor\": \"center\", \"y\": 568.0, \"yanchor\": \"bottom\", \"yref\": \"y2\"}, {\"font\": {\"color\": \"rgb(236,112,20)\", \"size\": 16}, \"showarrow\": false, \"text\": \"78%\", \"x\": \"0.5 -<br>52%\", \"xanchor\": \"center\", \"y\": 78.5, \"yanchor\": \"bottom\"}, {\"font\": {\"color\": \"rgb(102, 163, 255)\", \"size\": 16}, \"showarrow\": false, \"text\": \"618\", \"x\": \"0.5 -<br>52%\", \"xanchor\": \"center\", \"y\": 619.0, \"yanchor\": \"bottom\", \"yref\": \"y2\"}, {\"font\": {\"color\": \"rgb(0, 102, 255)\", \"size\": 16}, \"showarrow\": false, \"text\": \"479\", \"x\": \"0.5 -<br>52%\", \"xanchor\": \"center\", \"y\": 480.0, \"yanchor\": \"bottom\", \"yref\": \"y2\"}, {\"font\": {\"color\": \"rgb(236,112,20)\", \"size\": 16}, \"showarrow\": false, \"text\": \"82%\", \"x\": \"0.6 -<br>42%\", \"xanchor\": \"center\", \"y\": 83.5, \"yanchor\": \"bottom\"}, {\"font\": {\"color\": \"rgb(102, 163, 255)\", \"size\": 16}, \"showarrow\": false, \"text\": \"502\", \"x\": \"0.6 -<br>42%\", \"xanchor\": \"center\", \"y\": 503.0, \"yanchor\": \"bottom\", \"yref\": \"y2\"}, {\"font\": {\"color\": \"rgb(0, 102, 255)\", \"size\": 16}, \"showarrow\": false, \"text\": \"414\", \"x\": \"0.6 -<br>42%\", \"xanchor\": \"center\", \"y\": 415.0, \"yanchor\": \"bottom\", \"yref\": \"y2\"}], \"legend\": {\"bgcolor\": \"white\", \"bordercolor\": \"gray\", \"borderwidth\": 1.5, \"title\": {\"text\": \"\"}, \"x\": 0.025, \"y\": 0.025}, \"plot_bgcolor\": \"white\", \"template\": {\"data\": {\"bar\": [{\"error_x\": {\"color\": \"#2a3f5f\"}, \"error_y\": {\"color\": \"#2a3f5f\"}, \"marker\": {\"line\": {\"color\": \"#E5ECF6\", \"width\": 0.5}}, \"type\": \"bar\"}], \"barpolar\": [{\"marker\": {\"line\": {\"color\": \"#E5ECF6\", \"width\": 0.5}}, \"type\": \"barpolar\"}], \"carpet\": [{\"aaxis\": {\"endlinecolor\": \"#2a3f5f\", \"gridcolor\": \"white\", \"linecolor\": \"white\", \"minorgridcolor\": \"white\", \"startlinecolor\": \"#2a3f5f\"}, \"baxis\": {\"endlinecolor\": \"#2a3f5f\", \"gridcolor\": \"white\", \"linecolor\": \"white\", \"minorgridcolor\": \"white\", \"startlinecolor\": \"#2a3f5f\"}, \"type\": \"carpet\"}], \"choropleth\": [{\"colorbar\": {\"outlinewidth\": 0, \"ticks\": \"\"}, \"type\": \"choropleth\"}], \"contour\": [{\"colorbar\": {\"outlinewidth\": 0, \"ticks\": \"\"}, \"colorscale\": [[0.0, \"#0d0887\"], [0.1111111111111111, \"#46039f\"], [0.2222222222222222, \"#7201a8\"], [0.3333333333333333, \"#9c179e\"], [0.4444444444444444, \"#bd3786\"], [0.5555555555555556, \"#d8576b\"], [0.6666666666666666, \"#ed7953\"], [0.7777777777777778, \"#fb9f3a\"], [0.8888888888888888, \"#fdca26\"], [1.0, \"#f0f921\"]], \"type\": \"contour\"}], \"contourcarpet\": [{\"colorbar\": {\"outlinewidth\": 0, \"ticks\": \"\"}, \"type\": \"contourcarpet\"}], \"heatmap\": [{\"colorbar\": {\"outlinewidth\": 0, \"ticks\": \"\"}, \"colorscale\": [[0.0, \"#0d0887\"], [0.1111111111111111, \"#46039f\"], [0.2222222222222222, \"#7201a8\"], [0.3333333333333333, \"#9c179e\"], [0.4444444444444444, \"#bd3786\"], [0.5555555555555556, \"#d8576b\"], [0.6666666666666666, \"#ed7953\"], [0.7777777777777778, \"#fb9f3a\"], [0.8888888888888888, \"#fdca26\"], [1.0, \"#f0f921\"]], \"type\": \"heatmap\"}], \"heatmapgl\": [{\"colorbar\": {\"outlinewidth\": 0, \"ticks\": \"\"}, \"colorscale\": [[0.0, \"#0d0887\"], [0.1111111111111111, \"#46039f\"], [0.2222222222222222, \"#7201a8\"], [0.3333333333333333, \"#9c179e\"], [0.4444444444444444, \"#bd3786\"], [0.5555555555555556, \"#d8576b\"], [0.6666666666666666, \"#ed7953\"], [0.7777777777777778, \"#fb9f3a\"], [0.8888888888888888, \"#fdca26\"], [1.0, \"#f0f921\"]], \"type\": \"heatmapgl\"}], \"histogram\": [{\"marker\": {\"colorbar\": {\"outlinewidth\": 0, \"ticks\": \"\"}}, \"type\": \"histogram\"}], \"histogram2d\": [{\"colorbar\": {\"outlinewidth\": 0, \"ticks\": \"\"}, \"colorscale\": [[0.0, \"#0d0887\"], [0.1111111111111111, \"#46039f\"], [0.2222222222222222, \"#7201a8\"], [0.3333333333333333, \"#9c179e\"], [0.4444444444444444, \"#bd3786\"], [0.5555555555555556, \"#d8576b\"], [0.6666666666666666, \"#ed7953\"], [0.7777777777777778, \"#fb9f3a\"], [0.8888888888888888, \"#fdca26\"], [1.0, \"#f0f921\"]], \"type\": \"histogram2d\"}], \"histogram2dcontour\": [{\"colorbar\": {\"outlinewidth\": 0, \"ticks\": \"\"}, \"colorscale\": [[0.0, \"#0d0887\"], [0.1111111111111111, \"#46039f\"], [0.2222222222222222, \"#7201a8\"], [0.3333333333333333, \"#9c179e\"], [0.4444444444444444, \"#bd3786\"], [0.5555555555555556, \"#d8576b\"], [0.6666666666666666, \"#ed7953\"], [0.7777777777777778, \"#fb9f3a\"], [0.8888888888888888, \"#fdca26\"], [1.0, \"#f0f921\"]], \"type\": \"histogram2dcontour\"}], \"mesh3d\": [{\"colorbar\": {\"outlinewidth\": 0, \"ticks\": \"\"}, \"type\": \"mesh3d\"}], \"parcoords\": [{\"line\": {\"colorbar\": {\"outlinewidth\": 0, \"ticks\": \"\"}}, \"type\": \"parcoords\"}], \"pie\": [{\"automargin\": true, \"type\": \"pie\"}], \"scatter\": [{\"marker\": {\"colorbar\": {\"outlinewidth\": 0, \"ticks\": \"\"}}, \"type\": \"scatter\"}], \"scatter3d\": [{\"line\": {\"colorbar\": {\"outlinewidth\": 0, \"ticks\": \"\"}}, \"marker\": {\"colorbar\": {\"outlinewidth\": 0, \"ticks\": \"\"}}, \"type\": \"scatter3d\"}], \"scattercarpet\": [{\"marker\": {\"colorbar\": {\"outlinewidth\": 0, \"ticks\": \"\"}}, \"type\": \"scattercarpet\"}], \"scattergeo\": [{\"marker\": {\"colorbar\": {\"outlinewidth\": 0, \"ticks\": \"\"}}, \"type\": \"scattergeo\"}], \"scattergl\": [{\"marker\": {\"colorbar\": {\"outlinewidth\": 0, \"ticks\": \"\"}}, \"type\": \"scattergl\"}], \"scattermapbox\": [{\"marker\": {\"colorbar\": {\"outlinewidth\": 0, \"ticks\": \"\"}}, \"type\": \"scattermapbox\"}], \"scatterpolar\": [{\"marker\": {\"colorbar\": {\"outlinewidth\": 0, \"ticks\": \"\"}}, \"type\": \"scatterpolar\"}], \"scatterpolargl\": [{\"marker\": {\"colorbar\": {\"outlinewidth\": 0, \"ticks\": \"\"}}, \"type\": \"scatterpolargl\"}], \"scatterternary\": [{\"marker\": {\"colorbar\": {\"outlinewidth\": 0, \"ticks\": \"\"}}, \"type\": \"scatterternary\"}], \"surface\": [{\"colorbar\": {\"outlinewidth\": 0, \"ticks\": \"\"}, \"colorscale\": [[0.0, \"#0d0887\"], [0.1111111111111111, \"#46039f\"], [0.2222222222222222, \"#7201a8\"], [0.3333333333333333, \"#9c179e\"], [0.4444444444444444, \"#bd3786\"], [0.5555555555555556, \"#d8576b\"], [0.6666666666666666, \"#ed7953\"], [0.7777777777777778, \"#fb9f3a\"], [0.8888888888888888, \"#fdca26\"], [1.0, \"#f0f921\"]], \"type\": \"surface\"}], \"table\": [{\"cells\": {\"fill\": {\"color\": \"#EBF0F8\"}, \"line\": {\"color\": \"white\"}}, \"header\": {\"fill\": {\"color\": \"#C8D4E3\"}, \"line\": {\"color\": \"white\"}}, \"type\": \"table\"}]}, \"layout\": {\"annotationdefaults\": {\"arrowcolor\": \"#2a3f5f\", \"arrowhead\": 0, \"arrowwidth\": 1}, \"coloraxis\": {\"colorbar\": {\"outlinewidth\": 0, \"ticks\": \"\"}}, \"colorscale\": {\"diverging\": [[0, \"#8e0152\"], [0.1, \"#c51b7d\"], [0.2, \"#de77ae\"], [0.3, \"#f1b6da\"], [0.4, \"#fde0ef\"], [0.5, \"#f7f7f7\"], [0.6, \"#e6f5d0\"], [0.7, \"#b8e186\"], [0.8, \"#7fbc41\"], [0.9, \"#4d9221\"], [1, \"#276419\"]], \"sequential\": [[0.0, \"#0d0887\"], [0.1111111111111111, \"#46039f\"], [0.2222222222222222, \"#7201a8\"], [0.3333333333333333, \"#9c179e\"], [0.4444444444444444, \"#bd3786\"], [0.5555555555555556, \"#d8576b\"], [0.6666666666666666, \"#ed7953\"], [0.7777777777777778, \"#fb9f3a\"], [0.8888888888888888, \"#fdca26\"], [1.0, \"#f0f921\"]], \"sequentialminus\": [[0.0, \"#0d0887\"], [0.1111111111111111, \"#46039f\"], [0.2222222222222222, \"#7201a8\"], [0.3333333333333333, \"#9c179e\"], [0.4444444444444444, \"#bd3786\"], [0.5555555555555556, \"#d8576b\"], [0.6666666666666666, \"#ed7953\"], [0.7777777777777778, \"#fb9f3a\"], [0.8888888888888888, \"#fdca26\"], [1.0, \"#f0f921\"]]}, \"colorway\": [\"#636efa\", \"#EF553B\", \"#00cc96\", \"#ab63fa\", \"#FFA15A\", \"#19d3f3\", \"#FF6692\", \"#B6E880\", \"#FF97FF\", \"#FECB52\"], \"font\": {\"color\": \"#2a3f5f\"}, \"geo\": {\"bgcolor\": \"white\", \"lakecolor\": \"white\", \"landcolor\": \"#E5ECF6\", \"showlakes\": true, \"showland\": true, \"subunitcolor\": \"white\"}, \"hoverlabel\": {\"align\": \"left\"}, \"hovermode\": \"closest\", \"mapbox\": {\"style\": \"light\"}, \"paper_bgcolor\": \"white\", \"plot_bgcolor\": \"#E5ECF6\", \"polar\": {\"angularaxis\": {\"gridcolor\": \"white\", \"linecolor\": \"white\", \"ticks\": \"\"}, \"bgcolor\": \"#E5ECF6\", \"radialaxis\": {\"gridcolor\": \"white\", \"linecolor\": \"white\", \"ticks\": \"\"}}, \"scene\": {\"xaxis\": {\"backgroundcolor\": \"#E5ECF6\", \"gridcolor\": \"white\", \"gridwidth\": 2, \"linecolor\": \"white\", \"showbackground\": true, \"ticks\": \"\", \"zerolinecolor\": \"white\"}, \"yaxis\": {\"backgroundcolor\": \"#E5ECF6\", \"gridcolor\": \"white\", \"gridwidth\": 2, \"linecolor\": \"white\", \"showbackground\": true, \"ticks\": \"\", \"zerolinecolor\": \"white\"}, \"zaxis\": {\"backgroundcolor\": \"#E5ECF6\", \"gridcolor\": \"white\", \"gridwidth\": 2, \"linecolor\": \"white\", \"showbackground\": true, \"ticks\": \"\", \"zerolinecolor\": \"white\"}}, \"shapedefaults\": {\"line\": {\"color\": \"#2a3f5f\"}}, \"ternary\": {\"aaxis\": {\"gridcolor\": \"white\", \"linecolor\": \"white\", \"ticks\": \"\"}, \"baxis\": {\"gridcolor\": \"white\", \"linecolor\": \"white\", \"ticks\": \"\"}, \"bgcolor\": \"#E5ECF6\", \"caxis\": {\"gridcolor\": \"white\", \"linecolor\": \"white\", \"ticks\": \"\"}}, \"title\": {\"x\": 0.05}, \"xaxis\": {\"automargin\": true, \"gridcolor\": \"white\", \"linecolor\": \"white\", \"ticks\": \"\", \"title\": {\"standoff\": 15}, \"zerolinecolor\": \"white\", \"zerolinewidth\": 2}, \"yaxis\": {\"automargin\": true, \"gridcolor\": \"white\", \"linecolor\": \"white\", \"ticks\": \"\", \"title\": {\"standoff\": 15}, \"zerolinecolor\": \"white\", \"zerolinewidth\": 2}}}, \"title\": {\"text\": \"Insira o t\\u00edtulo\"}, \"xaxis\": {\"linecolor\": \"rgb(204,204,204)\", \"showline\": true, \"tickangle\": 0, \"tickfont\": {\"color\": \"rgb(82,82,82)\", \"size\": 12}, \"ticks\": \"outside\", \"title\": {\"font\": {\"size\": 18}, \"text\": \"Pontos de corte\"}}, \"yaxis\": {\"dtick\": 10, \"range\": [0, 100], \"showticklabels\": true, \"tickfont\": {\"color\": \"rgb(236,112,20)\"}, \"title\": {\"font\": {\"color\": \"rgb(236,112,20)\", \"size\": 16}, \"text\": \"Precis\\u00e3o (%)\"}}, \"yaxis2\": {\"overlaying\": \"y\", \"range\": [0, 1200], \"showticklabels\": true, \"side\": \"right\", \"tickfont\": {\"color\": \"rgb(0, 102, 255)\"}, \"title\": {\"font\": {\"color\": \"rgb(0, 102, 255)\"}}}},\n",
       "                        {\"responsive\": true}\n",
       "                    ).then(function(){\n",
       "                            \n",
       "var gd = document.getElementById('d3e4e679-d127-4c96-b9a2-478e501adbd2');\n",
       "var x = new MutationObserver(function (mutations, observer) {{\n",
       "        var display = window.getComputedStyle(gd).display;\n",
       "        if (!display || display === 'none') {{\n",
       "            console.log([gd, 'removed!']);\n",
       "            Plotly.purge(gd);\n",
       "            observer.disconnect();\n",
       "        }}\n",
       "}});\n",
       "\n",
       "// Listen for the removal of the full notebook cells\n",
       "var notebookContainer = gd.closest('#notebook-container');\n",
       "if (notebookContainer) {{\n",
       "    x.observe(notebookContainer, {childList: true});\n",
       "}}\n",
       "\n",
       "// Listen for the clearing of the current output cell\n",
       "var outputEl = gd.closest('.output');\n",
       "if (outputEl) {{\n",
       "    x.observe(outputEl, {childList: true});\n",
       "}}\n",
       "\n",
       "                        })\n",
       "                };\n",
       "                });\n",
       "            </script>\n",
       "        </div>"
      ]
     },
     "metadata": {},
     "output_type": "display_data"
    }
   ],
   "source": [
    "PlotPrecision(df_metrics, thresholds = [0.2, 0.5, 0.6])"
   ]
  },
  {
   "cell_type": "markdown",
   "metadata": {},
   "source": [
    "### Gráfico único com Precisão, Recall, F1"
   ]
  },
  {
   "cell_type": "code",
   "execution_count": 10,
   "metadata": {
    "ExecuteTime": {
     "end_time": "2020-07-03T03:24:41.239999Z",
     "start_time": "2020-07-03T03:24:41.230024Z"
    }
   },
   "outputs": [],
   "source": [
    "def PlotPrecisionRecallF1 (df, \n",
    "                   cols_plot = ['precision', 'recall', 'f1'],\n",
    "                   nomes_legenda = ['precision', 'recall', 'f1-score'],\n",
    "                   colors = ['rgb(236,112,20)', 'rgb(102, 163, 255)', 'rgb(128,0,0)'],\n",
    "                   ):\n",
    "    '''\n",
    "    funciona se quiser colocar só precisao e recall em cols_plot;\n",
    "    '''\n",
    "    line_size = [1.5,1.5,1.5]\n",
    "    fig = go.Figure()\n",
    "    # DESENHAR AS 3 LINHAS\n",
    "    eixo_x = ['<br>'.join(wrap(str(j),width=5)) for j in df['corte_perc'].values.tolist()]\n",
    "    for i, col in enumerate(cols_plot):\n",
    "        fig.add_trace(go.Scatter(x = eixo_x,\n",
    "                             y = df[col],\n",
    "                             text = df[col],\n",
    "                             textposition = 'top center',\n",
    "                             mode = 'lines+markers+text',\n",
    "                             #name = 'Precisão',\n",
    "                             name = nomes_legenda[i],\n",
    "                             line=dict(color=colors[i], width=line_size[i]),\n",
    "                            ))    \n",
    "   # layouts - adicional\n",
    "    fig.update_layout(\n",
    "            title_text=\"Variação Precision e Recall por pontos de corte\",\n",
    "            plot_bgcolor='white',\n",
    "            xaxis=dict(\n",
    "                showline=True,\n",
    "                linecolor='rgb(204,204,204)',\n",
    "                #titlefont = dict(color = 'rgb(204,204,204)'),\n",
    "                title='Pontos de corte',\n",
    "                titlefont_size=18,\n",
    "                tickangle = 0,\n",
    "                tickfont_size=10,\n",
    "                ticks='outside',\n",
    "                tickfont=dict(\n",
    "                size=12,\n",
    "                color='rgb(82,82,82)',\n",
    "                ),   \n",
    "            ),\n",
    "            yaxis = dict(showticklabels=False),\n",
    "            legend=dict(x = 0.025,y = 0.025,\n",
    "                        title = '',\n",
    "                        bgcolor=\"white\")\n",
    "                        #bordercolor=\"gray\",\n",
    "                        #borderwidth=1.5)\n",
    "            #transition_duration=100\n",
    "            )\n",
    "    return fig"
   ]
  },
  {
   "cell_type": "code",
   "execution_count": 11,
   "metadata": {
    "ExecuteTime": {
     "end_time": "2020-07-03T03:24:41.380658Z",
     "start_time": "2020-07-03T03:24:41.241030Z"
    },
    "scrolled": false
   },
   "outputs": [
    {
     "data": {
      "application/vnd.plotly.v1+json": {
       "config": {
        "plotlyServerURL": "https://plot.ly"
       },
       "data": [
        {
         "line": {
          "color": "rgb(236,112,20)",
          "width": 1.5
         },
         "mode": "lines+markers+text",
         "name": "precision",
         "text": [
          "49.6",
          "57.3",
          "62.0",
          "66.8",
          "72.1",
          "77.5",
          "82.5",
          "85.8",
          "91.2",
          "96.1"
         ],
         "textposition": "top center",
         "type": "scatter",
         "x": [
          "0.0 -<br>100%",
          "0.1 -<br>85%",
          "0.2 -<br>76%",
          "0.3 -<br>68%",
          "0.4 -<br>60%",
          "0.5 -<br>52%",
          "0.6 -<br>42%",
          "0.7 -<br>33%",
          "0.8 -<br>22%",
          "0.9 -<br>9%"
         ],
         "y": [
          "49.6",
          "57.3",
          "62.0",
          "66.8",
          "72.1",
          "77.5",
          "82.5",
          "85.8",
          "91.2",
          "96.1"
         ]
        },
        {
         "line": {
          "color": "rgb(102, 163, 255)",
          "width": 1.5
         },
         "mode": "lines+markers+text",
         "name": "recall",
         "text": [
          "100.0",
          "98.2",
          "95.3",
          "91.8",
          "87.2",
          "80.5",
          "69.6",
          "57.8",
          "39.8",
          "16.6"
         ],
         "textposition": "top center",
         "type": "scatter",
         "x": [
          "0.0 -<br>100%",
          "0.1 -<br>85%",
          "0.2 -<br>76%",
          "0.3 -<br>68%",
          "0.4 -<br>60%",
          "0.5 -<br>52%",
          "0.6 -<br>42%",
          "0.7 -<br>33%",
          "0.8 -<br>22%",
          "0.9 -<br>9%"
         ],
         "y": [
          "100.0",
          "98.2",
          "95.3",
          "91.8",
          "87.2",
          "80.5",
          "69.6",
          "57.8",
          "39.8",
          "16.6"
         ]
        }
       ],
       "layout": {
        "legend": {
         "bgcolor": "white",
         "title": {
          "text": ""
         },
         "x": 0.025,
         "y": 0.025
        },
        "plot_bgcolor": "white",
        "template": {
         "data": {
          "bar": [
           {
            "error_x": {
             "color": "#2a3f5f"
            },
            "error_y": {
             "color": "#2a3f5f"
            },
            "marker": {
             "line": {
              "color": "#E5ECF6",
              "width": 0.5
             }
            },
            "type": "bar"
           }
          ],
          "barpolar": [
           {
            "marker": {
             "line": {
              "color": "#E5ECF6",
              "width": 0.5
             }
            },
            "type": "barpolar"
           }
          ],
          "carpet": [
           {
            "aaxis": {
             "endlinecolor": "#2a3f5f",
             "gridcolor": "white",
             "linecolor": "white",
             "minorgridcolor": "white",
             "startlinecolor": "#2a3f5f"
            },
            "baxis": {
             "endlinecolor": "#2a3f5f",
             "gridcolor": "white",
             "linecolor": "white",
             "minorgridcolor": "white",
             "startlinecolor": "#2a3f5f"
            },
            "type": "carpet"
           }
          ],
          "choropleth": [
           {
            "colorbar": {
             "outlinewidth": 0,
             "ticks": ""
            },
            "type": "choropleth"
           }
          ],
          "contour": [
           {
            "colorbar": {
             "outlinewidth": 0,
             "ticks": ""
            },
            "colorscale": [
             [
              0,
              "#0d0887"
             ],
             [
              0.1111111111111111,
              "#46039f"
             ],
             [
              0.2222222222222222,
              "#7201a8"
             ],
             [
              0.3333333333333333,
              "#9c179e"
             ],
             [
              0.4444444444444444,
              "#bd3786"
             ],
             [
              0.5555555555555556,
              "#d8576b"
             ],
             [
              0.6666666666666666,
              "#ed7953"
             ],
             [
              0.7777777777777778,
              "#fb9f3a"
             ],
             [
              0.8888888888888888,
              "#fdca26"
             ],
             [
              1,
              "#f0f921"
             ]
            ],
            "type": "contour"
           }
          ],
          "contourcarpet": [
           {
            "colorbar": {
             "outlinewidth": 0,
             "ticks": ""
            },
            "type": "contourcarpet"
           }
          ],
          "heatmap": [
           {
            "colorbar": {
             "outlinewidth": 0,
             "ticks": ""
            },
            "colorscale": [
             [
              0,
              "#0d0887"
             ],
             [
              0.1111111111111111,
              "#46039f"
             ],
             [
              0.2222222222222222,
              "#7201a8"
             ],
             [
              0.3333333333333333,
              "#9c179e"
             ],
             [
              0.4444444444444444,
              "#bd3786"
             ],
             [
              0.5555555555555556,
              "#d8576b"
             ],
             [
              0.6666666666666666,
              "#ed7953"
             ],
             [
              0.7777777777777778,
              "#fb9f3a"
             ],
             [
              0.8888888888888888,
              "#fdca26"
             ],
             [
              1,
              "#f0f921"
             ]
            ],
            "type": "heatmap"
           }
          ],
          "heatmapgl": [
           {
            "colorbar": {
             "outlinewidth": 0,
             "ticks": ""
            },
            "colorscale": [
             [
              0,
              "#0d0887"
             ],
             [
              0.1111111111111111,
              "#46039f"
             ],
             [
              0.2222222222222222,
              "#7201a8"
             ],
             [
              0.3333333333333333,
              "#9c179e"
             ],
             [
              0.4444444444444444,
              "#bd3786"
             ],
             [
              0.5555555555555556,
              "#d8576b"
             ],
             [
              0.6666666666666666,
              "#ed7953"
             ],
             [
              0.7777777777777778,
              "#fb9f3a"
             ],
             [
              0.8888888888888888,
              "#fdca26"
             ],
             [
              1,
              "#f0f921"
             ]
            ],
            "type": "heatmapgl"
           }
          ],
          "histogram": [
           {
            "marker": {
             "colorbar": {
              "outlinewidth": 0,
              "ticks": ""
             }
            },
            "type": "histogram"
           }
          ],
          "histogram2d": [
           {
            "colorbar": {
             "outlinewidth": 0,
             "ticks": ""
            },
            "colorscale": [
             [
              0,
              "#0d0887"
             ],
             [
              0.1111111111111111,
              "#46039f"
             ],
             [
              0.2222222222222222,
              "#7201a8"
             ],
             [
              0.3333333333333333,
              "#9c179e"
             ],
             [
              0.4444444444444444,
              "#bd3786"
             ],
             [
              0.5555555555555556,
              "#d8576b"
             ],
             [
              0.6666666666666666,
              "#ed7953"
             ],
             [
              0.7777777777777778,
              "#fb9f3a"
             ],
             [
              0.8888888888888888,
              "#fdca26"
             ],
             [
              1,
              "#f0f921"
             ]
            ],
            "type": "histogram2d"
           }
          ],
          "histogram2dcontour": [
           {
            "colorbar": {
             "outlinewidth": 0,
             "ticks": ""
            },
            "colorscale": [
             [
              0,
              "#0d0887"
             ],
             [
              0.1111111111111111,
              "#46039f"
             ],
             [
              0.2222222222222222,
              "#7201a8"
             ],
             [
              0.3333333333333333,
              "#9c179e"
             ],
             [
              0.4444444444444444,
              "#bd3786"
             ],
             [
              0.5555555555555556,
              "#d8576b"
             ],
             [
              0.6666666666666666,
              "#ed7953"
             ],
             [
              0.7777777777777778,
              "#fb9f3a"
             ],
             [
              0.8888888888888888,
              "#fdca26"
             ],
             [
              1,
              "#f0f921"
             ]
            ],
            "type": "histogram2dcontour"
           }
          ],
          "mesh3d": [
           {
            "colorbar": {
             "outlinewidth": 0,
             "ticks": ""
            },
            "type": "mesh3d"
           }
          ],
          "parcoords": [
           {
            "line": {
             "colorbar": {
              "outlinewidth": 0,
              "ticks": ""
             }
            },
            "type": "parcoords"
           }
          ],
          "pie": [
           {
            "automargin": true,
            "type": "pie"
           }
          ],
          "scatter": [
           {
            "marker": {
             "colorbar": {
              "outlinewidth": 0,
              "ticks": ""
             }
            },
            "type": "scatter"
           }
          ],
          "scatter3d": [
           {
            "line": {
             "colorbar": {
              "outlinewidth": 0,
              "ticks": ""
             }
            },
            "marker": {
             "colorbar": {
              "outlinewidth": 0,
              "ticks": ""
             }
            },
            "type": "scatter3d"
           }
          ],
          "scattercarpet": [
           {
            "marker": {
             "colorbar": {
              "outlinewidth": 0,
              "ticks": ""
             }
            },
            "type": "scattercarpet"
           }
          ],
          "scattergeo": [
           {
            "marker": {
             "colorbar": {
              "outlinewidth": 0,
              "ticks": ""
             }
            },
            "type": "scattergeo"
           }
          ],
          "scattergl": [
           {
            "marker": {
             "colorbar": {
              "outlinewidth": 0,
              "ticks": ""
             }
            },
            "type": "scattergl"
           }
          ],
          "scattermapbox": [
           {
            "marker": {
             "colorbar": {
              "outlinewidth": 0,
              "ticks": ""
             }
            },
            "type": "scattermapbox"
           }
          ],
          "scatterpolar": [
           {
            "marker": {
             "colorbar": {
              "outlinewidth": 0,
              "ticks": ""
             }
            },
            "type": "scatterpolar"
           }
          ],
          "scatterpolargl": [
           {
            "marker": {
             "colorbar": {
              "outlinewidth": 0,
              "ticks": ""
             }
            },
            "type": "scatterpolargl"
           }
          ],
          "scatterternary": [
           {
            "marker": {
             "colorbar": {
              "outlinewidth": 0,
              "ticks": ""
             }
            },
            "type": "scatterternary"
           }
          ],
          "surface": [
           {
            "colorbar": {
             "outlinewidth": 0,
             "ticks": ""
            },
            "colorscale": [
             [
              0,
              "#0d0887"
             ],
             [
              0.1111111111111111,
              "#46039f"
             ],
             [
              0.2222222222222222,
              "#7201a8"
             ],
             [
              0.3333333333333333,
              "#9c179e"
             ],
             [
              0.4444444444444444,
              "#bd3786"
             ],
             [
              0.5555555555555556,
              "#d8576b"
             ],
             [
              0.6666666666666666,
              "#ed7953"
             ],
             [
              0.7777777777777778,
              "#fb9f3a"
             ],
             [
              0.8888888888888888,
              "#fdca26"
             ],
             [
              1,
              "#f0f921"
             ]
            ],
            "type": "surface"
           }
          ],
          "table": [
           {
            "cells": {
             "fill": {
              "color": "#EBF0F8"
             },
             "line": {
              "color": "white"
             }
            },
            "header": {
             "fill": {
              "color": "#C8D4E3"
             },
             "line": {
              "color": "white"
             }
            },
            "type": "table"
           }
          ]
         },
         "layout": {
          "annotationdefaults": {
           "arrowcolor": "#2a3f5f",
           "arrowhead": 0,
           "arrowwidth": 1
          },
          "coloraxis": {
           "colorbar": {
            "outlinewidth": 0,
            "ticks": ""
           }
          },
          "colorscale": {
           "diverging": [
            [
             0,
             "#8e0152"
            ],
            [
             0.1,
             "#c51b7d"
            ],
            [
             0.2,
             "#de77ae"
            ],
            [
             0.3,
             "#f1b6da"
            ],
            [
             0.4,
             "#fde0ef"
            ],
            [
             0.5,
             "#f7f7f7"
            ],
            [
             0.6,
             "#e6f5d0"
            ],
            [
             0.7,
             "#b8e186"
            ],
            [
             0.8,
             "#7fbc41"
            ],
            [
             0.9,
             "#4d9221"
            ],
            [
             1,
             "#276419"
            ]
           ],
           "sequential": [
            [
             0,
             "#0d0887"
            ],
            [
             0.1111111111111111,
             "#46039f"
            ],
            [
             0.2222222222222222,
             "#7201a8"
            ],
            [
             0.3333333333333333,
             "#9c179e"
            ],
            [
             0.4444444444444444,
             "#bd3786"
            ],
            [
             0.5555555555555556,
             "#d8576b"
            ],
            [
             0.6666666666666666,
             "#ed7953"
            ],
            [
             0.7777777777777778,
             "#fb9f3a"
            ],
            [
             0.8888888888888888,
             "#fdca26"
            ],
            [
             1,
             "#f0f921"
            ]
           ],
           "sequentialminus": [
            [
             0,
             "#0d0887"
            ],
            [
             0.1111111111111111,
             "#46039f"
            ],
            [
             0.2222222222222222,
             "#7201a8"
            ],
            [
             0.3333333333333333,
             "#9c179e"
            ],
            [
             0.4444444444444444,
             "#bd3786"
            ],
            [
             0.5555555555555556,
             "#d8576b"
            ],
            [
             0.6666666666666666,
             "#ed7953"
            ],
            [
             0.7777777777777778,
             "#fb9f3a"
            ],
            [
             0.8888888888888888,
             "#fdca26"
            ],
            [
             1,
             "#f0f921"
            ]
           ]
          },
          "colorway": [
           "#636efa",
           "#EF553B",
           "#00cc96",
           "#ab63fa",
           "#FFA15A",
           "#19d3f3",
           "#FF6692",
           "#B6E880",
           "#FF97FF",
           "#FECB52"
          ],
          "font": {
           "color": "#2a3f5f"
          },
          "geo": {
           "bgcolor": "white",
           "lakecolor": "white",
           "landcolor": "#E5ECF6",
           "showlakes": true,
           "showland": true,
           "subunitcolor": "white"
          },
          "hoverlabel": {
           "align": "left"
          },
          "hovermode": "closest",
          "mapbox": {
           "style": "light"
          },
          "paper_bgcolor": "white",
          "plot_bgcolor": "#E5ECF6",
          "polar": {
           "angularaxis": {
            "gridcolor": "white",
            "linecolor": "white",
            "ticks": ""
           },
           "bgcolor": "#E5ECF6",
           "radialaxis": {
            "gridcolor": "white",
            "linecolor": "white",
            "ticks": ""
           }
          },
          "scene": {
           "xaxis": {
            "backgroundcolor": "#E5ECF6",
            "gridcolor": "white",
            "gridwidth": 2,
            "linecolor": "white",
            "showbackground": true,
            "ticks": "",
            "zerolinecolor": "white"
           },
           "yaxis": {
            "backgroundcolor": "#E5ECF6",
            "gridcolor": "white",
            "gridwidth": 2,
            "linecolor": "white",
            "showbackground": true,
            "ticks": "",
            "zerolinecolor": "white"
           },
           "zaxis": {
            "backgroundcolor": "#E5ECF6",
            "gridcolor": "white",
            "gridwidth": 2,
            "linecolor": "white",
            "showbackground": true,
            "ticks": "",
            "zerolinecolor": "white"
           }
          },
          "shapedefaults": {
           "line": {
            "color": "#2a3f5f"
           }
          },
          "ternary": {
           "aaxis": {
            "gridcolor": "white",
            "linecolor": "white",
            "ticks": ""
           },
           "baxis": {
            "gridcolor": "white",
            "linecolor": "white",
            "ticks": ""
           },
           "bgcolor": "#E5ECF6",
           "caxis": {
            "gridcolor": "white",
            "linecolor": "white",
            "ticks": ""
           }
          },
          "title": {
           "x": 0.05
          },
          "xaxis": {
           "automargin": true,
           "gridcolor": "white",
           "linecolor": "white",
           "ticks": "",
           "title": {
            "standoff": 15
           },
           "zerolinecolor": "white",
           "zerolinewidth": 2
          },
          "yaxis": {
           "automargin": true,
           "gridcolor": "white",
           "linecolor": "white",
           "ticks": "",
           "title": {
            "standoff": 15
           },
           "zerolinecolor": "white",
           "zerolinewidth": 2
          }
         }
        },
        "title": {
         "text": "Variação Precision e Recall por pontos de corte"
        },
        "xaxis": {
         "linecolor": "rgb(204,204,204)",
         "showline": true,
         "tickangle": 0,
         "tickfont": {
          "color": "rgb(82,82,82)",
          "size": 12
         },
         "ticks": "outside",
         "title": {
          "font": {
           "size": 18
          },
          "text": "Pontos de corte"
         }
        },
        "yaxis": {
         "showticklabels": false
        }
       }
      },
      "text/html": [
       "<div>\n",
       "        \n",
       "        \n",
       "            <div id=\"fe3d2288-62ba-4b4e-a1cd-6cc190ecea60\" class=\"plotly-graph-div\" style=\"height:525px; width:100%;\"></div>\n",
       "            <script type=\"text/javascript\">\n",
       "                require([\"plotly\"], function(Plotly) {\n",
       "                    window.PLOTLYENV=window.PLOTLYENV || {};\n",
       "                    \n",
       "                if (document.getElementById(\"fe3d2288-62ba-4b4e-a1cd-6cc190ecea60\")) {\n",
       "                    Plotly.newPlot(\n",
       "                        'fe3d2288-62ba-4b4e-a1cd-6cc190ecea60',\n",
       "                        [{\"line\": {\"color\": \"rgb(236,112,20)\", \"width\": 1.5}, \"mode\": \"lines+markers+text\", \"name\": \"precision\", \"text\": [\"49.6\", \"57.3\", \"62.0\", \"66.8\", \"72.1\", \"77.5\", \"82.5\", \"85.8\", \"91.2\", \"96.1\"], \"textposition\": \"top center\", \"type\": \"scatter\", \"x\": [\"0.0 -<br>100%\", \"0.1 -<br>85%\", \"0.2 -<br>76%\", \"0.3 -<br>68%\", \"0.4 -<br>60%\", \"0.5 -<br>52%\", \"0.6 -<br>42%\", \"0.7 -<br>33%\", \"0.8 -<br>22%\", \"0.9 -<br>9%\"], \"y\": [\"49.6\", \"57.3\", \"62.0\", \"66.8\", \"72.1\", \"77.5\", \"82.5\", \"85.8\", \"91.2\", \"96.1\"]}, {\"line\": {\"color\": \"rgb(102, 163, 255)\", \"width\": 1.5}, \"mode\": \"lines+markers+text\", \"name\": \"recall\", \"text\": [\"100.0\", \"98.2\", \"95.3\", \"91.8\", \"87.2\", \"80.5\", \"69.6\", \"57.8\", \"39.8\", \"16.6\"], \"textposition\": \"top center\", \"type\": \"scatter\", \"x\": [\"0.0 -<br>100%\", \"0.1 -<br>85%\", \"0.2 -<br>76%\", \"0.3 -<br>68%\", \"0.4 -<br>60%\", \"0.5 -<br>52%\", \"0.6 -<br>42%\", \"0.7 -<br>33%\", \"0.8 -<br>22%\", \"0.9 -<br>9%\"], \"y\": [\"100.0\", \"98.2\", \"95.3\", \"91.8\", \"87.2\", \"80.5\", \"69.6\", \"57.8\", \"39.8\", \"16.6\"]}],\n",
       "                        {\"legend\": {\"bgcolor\": \"white\", \"title\": {\"text\": \"\"}, \"x\": 0.025, \"y\": 0.025}, \"plot_bgcolor\": \"white\", \"template\": {\"data\": {\"bar\": [{\"error_x\": {\"color\": \"#2a3f5f\"}, \"error_y\": {\"color\": \"#2a3f5f\"}, \"marker\": {\"line\": {\"color\": \"#E5ECF6\", \"width\": 0.5}}, \"type\": \"bar\"}], \"barpolar\": [{\"marker\": {\"line\": {\"color\": \"#E5ECF6\", \"width\": 0.5}}, \"type\": \"barpolar\"}], \"carpet\": [{\"aaxis\": {\"endlinecolor\": \"#2a3f5f\", \"gridcolor\": \"white\", \"linecolor\": \"white\", \"minorgridcolor\": \"white\", \"startlinecolor\": \"#2a3f5f\"}, \"baxis\": {\"endlinecolor\": \"#2a3f5f\", \"gridcolor\": \"white\", \"linecolor\": \"white\", \"minorgridcolor\": \"white\", \"startlinecolor\": \"#2a3f5f\"}, \"type\": \"carpet\"}], \"choropleth\": [{\"colorbar\": {\"outlinewidth\": 0, \"ticks\": \"\"}, \"type\": \"choropleth\"}], \"contour\": [{\"colorbar\": {\"outlinewidth\": 0, \"ticks\": \"\"}, \"colorscale\": [[0.0, \"#0d0887\"], [0.1111111111111111, \"#46039f\"], [0.2222222222222222, \"#7201a8\"], [0.3333333333333333, \"#9c179e\"], [0.4444444444444444, \"#bd3786\"], [0.5555555555555556, \"#d8576b\"], [0.6666666666666666, \"#ed7953\"], [0.7777777777777778, \"#fb9f3a\"], [0.8888888888888888, \"#fdca26\"], [1.0, \"#f0f921\"]], \"type\": \"contour\"}], \"contourcarpet\": [{\"colorbar\": {\"outlinewidth\": 0, \"ticks\": \"\"}, \"type\": \"contourcarpet\"}], \"heatmap\": [{\"colorbar\": {\"outlinewidth\": 0, \"ticks\": \"\"}, \"colorscale\": [[0.0, \"#0d0887\"], [0.1111111111111111, \"#46039f\"], [0.2222222222222222, \"#7201a8\"], [0.3333333333333333, \"#9c179e\"], [0.4444444444444444, \"#bd3786\"], [0.5555555555555556, \"#d8576b\"], [0.6666666666666666, \"#ed7953\"], [0.7777777777777778, \"#fb9f3a\"], [0.8888888888888888, \"#fdca26\"], [1.0, \"#f0f921\"]], \"type\": \"heatmap\"}], \"heatmapgl\": [{\"colorbar\": {\"outlinewidth\": 0, \"ticks\": \"\"}, \"colorscale\": [[0.0, \"#0d0887\"], [0.1111111111111111, \"#46039f\"], [0.2222222222222222, \"#7201a8\"], [0.3333333333333333, \"#9c179e\"], [0.4444444444444444, \"#bd3786\"], [0.5555555555555556, \"#d8576b\"], [0.6666666666666666, \"#ed7953\"], [0.7777777777777778, \"#fb9f3a\"], [0.8888888888888888, \"#fdca26\"], [1.0, \"#f0f921\"]], \"type\": \"heatmapgl\"}], \"histogram\": [{\"marker\": {\"colorbar\": {\"outlinewidth\": 0, \"ticks\": \"\"}}, \"type\": \"histogram\"}], \"histogram2d\": [{\"colorbar\": {\"outlinewidth\": 0, \"ticks\": \"\"}, \"colorscale\": [[0.0, \"#0d0887\"], [0.1111111111111111, \"#46039f\"], [0.2222222222222222, \"#7201a8\"], [0.3333333333333333, \"#9c179e\"], [0.4444444444444444, \"#bd3786\"], [0.5555555555555556, \"#d8576b\"], [0.6666666666666666, \"#ed7953\"], [0.7777777777777778, \"#fb9f3a\"], [0.8888888888888888, \"#fdca26\"], [1.0, \"#f0f921\"]], \"type\": \"histogram2d\"}], \"histogram2dcontour\": [{\"colorbar\": {\"outlinewidth\": 0, \"ticks\": \"\"}, \"colorscale\": [[0.0, \"#0d0887\"], [0.1111111111111111, \"#46039f\"], [0.2222222222222222, \"#7201a8\"], [0.3333333333333333, \"#9c179e\"], [0.4444444444444444, \"#bd3786\"], [0.5555555555555556, \"#d8576b\"], [0.6666666666666666, \"#ed7953\"], [0.7777777777777778, \"#fb9f3a\"], [0.8888888888888888, \"#fdca26\"], [1.0, \"#f0f921\"]], \"type\": \"histogram2dcontour\"}], \"mesh3d\": [{\"colorbar\": {\"outlinewidth\": 0, \"ticks\": \"\"}, \"type\": \"mesh3d\"}], \"parcoords\": [{\"line\": {\"colorbar\": {\"outlinewidth\": 0, \"ticks\": \"\"}}, \"type\": \"parcoords\"}], \"pie\": [{\"automargin\": true, \"type\": \"pie\"}], \"scatter\": [{\"marker\": {\"colorbar\": {\"outlinewidth\": 0, \"ticks\": \"\"}}, \"type\": \"scatter\"}], \"scatter3d\": [{\"line\": {\"colorbar\": {\"outlinewidth\": 0, \"ticks\": \"\"}}, \"marker\": {\"colorbar\": {\"outlinewidth\": 0, \"ticks\": \"\"}}, \"type\": \"scatter3d\"}], \"scattercarpet\": [{\"marker\": {\"colorbar\": {\"outlinewidth\": 0, \"ticks\": \"\"}}, \"type\": \"scattercarpet\"}], \"scattergeo\": [{\"marker\": {\"colorbar\": {\"outlinewidth\": 0, \"ticks\": \"\"}}, \"type\": \"scattergeo\"}], \"scattergl\": [{\"marker\": {\"colorbar\": {\"outlinewidth\": 0, \"ticks\": \"\"}}, \"type\": \"scattergl\"}], \"scattermapbox\": [{\"marker\": {\"colorbar\": {\"outlinewidth\": 0, \"ticks\": \"\"}}, \"type\": \"scattermapbox\"}], \"scatterpolar\": [{\"marker\": {\"colorbar\": {\"outlinewidth\": 0, \"ticks\": \"\"}}, \"type\": \"scatterpolar\"}], \"scatterpolargl\": [{\"marker\": {\"colorbar\": {\"outlinewidth\": 0, \"ticks\": \"\"}}, \"type\": \"scatterpolargl\"}], \"scatterternary\": [{\"marker\": {\"colorbar\": {\"outlinewidth\": 0, \"ticks\": \"\"}}, \"type\": \"scatterternary\"}], \"surface\": [{\"colorbar\": {\"outlinewidth\": 0, \"ticks\": \"\"}, \"colorscale\": [[0.0, \"#0d0887\"], [0.1111111111111111, \"#46039f\"], [0.2222222222222222, \"#7201a8\"], [0.3333333333333333, \"#9c179e\"], [0.4444444444444444, \"#bd3786\"], [0.5555555555555556, \"#d8576b\"], [0.6666666666666666, \"#ed7953\"], [0.7777777777777778, \"#fb9f3a\"], [0.8888888888888888, \"#fdca26\"], [1.0, \"#f0f921\"]], \"type\": \"surface\"}], \"table\": [{\"cells\": {\"fill\": {\"color\": \"#EBF0F8\"}, \"line\": {\"color\": \"white\"}}, \"header\": {\"fill\": {\"color\": \"#C8D4E3\"}, \"line\": {\"color\": \"white\"}}, \"type\": \"table\"}]}, \"layout\": {\"annotationdefaults\": {\"arrowcolor\": \"#2a3f5f\", \"arrowhead\": 0, \"arrowwidth\": 1}, \"coloraxis\": {\"colorbar\": {\"outlinewidth\": 0, \"ticks\": \"\"}}, \"colorscale\": {\"diverging\": [[0, \"#8e0152\"], [0.1, \"#c51b7d\"], [0.2, \"#de77ae\"], [0.3, \"#f1b6da\"], [0.4, \"#fde0ef\"], [0.5, \"#f7f7f7\"], [0.6, \"#e6f5d0\"], [0.7, \"#b8e186\"], [0.8, \"#7fbc41\"], [0.9, \"#4d9221\"], [1, \"#276419\"]], \"sequential\": [[0.0, \"#0d0887\"], [0.1111111111111111, \"#46039f\"], [0.2222222222222222, \"#7201a8\"], [0.3333333333333333, \"#9c179e\"], [0.4444444444444444, \"#bd3786\"], [0.5555555555555556, \"#d8576b\"], [0.6666666666666666, \"#ed7953\"], [0.7777777777777778, \"#fb9f3a\"], [0.8888888888888888, \"#fdca26\"], [1.0, \"#f0f921\"]], \"sequentialminus\": [[0.0, \"#0d0887\"], [0.1111111111111111, \"#46039f\"], [0.2222222222222222, \"#7201a8\"], [0.3333333333333333, \"#9c179e\"], [0.4444444444444444, \"#bd3786\"], [0.5555555555555556, \"#d8576b\"], [0.6666666666666666, \"#ed7953\"], [0.7777777777777778, \"#fb9f3a\"], [0.8888888888888888, \"#fdca26\"], [1.0, \"#f0f921\"]]}, \"colorway\": [\"#636efa\", \"#EF553B\", \"#00cc96\", \"#ab63fa\", \"#FFA15A\", \"#19d3f3\", \"#FF6692\", \"#B6E880\", \"#FF97FF\", \"#FECB52\"], \"font\": {\"color\": \"#2a3f5f\"}, \"geo\": {\"bgcolor\": \"white\", \"lakecolor\": \"white\", \"landcolor\": \"#E5ECF6\", \"showlakes\": true, \"showland\": true, \"subunitcolor\": \"white\"}, \"hoverlabel\": {\"align\": \"left\"}, \"hovermode\": \"closest\", \"mapbox\": {\"style\": \"light\"}, \"paper_bgcolor\": \"white\", \"plot_bgcolor\": \"#E5ECF6\", \"polar\": {\"angularaxis\": {\"gridcolor\": \"white\", \"linecolor\": \"white\", \"ticks\": \"\"}, \"bgcolor\": \"#E5ECF6\", \"radialaxis\": {\"gridcolor\": \"white\", \"linecolor\": \"white\", \"ticks\": \"\"}}, \"scene\": {\"xaxis\": {\"backgroundcolor\": \"#E5ECF6\", \"gridcolor\": \"white\", \"gridwidth\": 2, \"linecolor\": \"white\", \"showbackground\": true, \"ticks\": \"\", \"zerolinecolor\": \"white\"}, \"yaxis\": {\"backgroundcolor\": \"#E5ECF6\", \"gridcolor\": \"white\", \"gridwidth\": 2, \"linecolor\": \"white\", \"showbackground\": true, \"ticks\": \"\", \"zerolinecolor\": \"white\"}, \"zaxis\": {\"backgroundcolor\": \"#E5ECF6\", \"gridcolor\": \"white\", \"gridwidth\": 2, \"linecolor\": \"white\", \"showbackground\": true, \"ticks\": \"\", \"zerolinecolor\": \"white\"}}, \"shapedefaults\": {\"line\": {\"color\": \"#2a3f5f\"}}, \"ternary\": {\"aaxis\": {\"gridcolor\": \"white\", \"linecolor\": \"white\", \"ticks\": \"\"}, \"baxis\": {\"gridcolor\": \"white\", \"linecolor\": \"white\", \"ticks\": \"\"}, \"bgcolor\": \"#E5ECF6\", \"caxis\": {\"gridcolor\": \"white\", \"linecolor\": \"white\", \"ticks\": \"\"}}, \"title\": {\"x\": 0.05}, \"xaxis\": {\"automargin\": true, \"gridcolor\": \"white\", \"linecolor\": \"white\", \"ticks\": \"\", \"title\": {\"standoff\": 15}, \"zerolinecolor\": \"white\", \"zerolinewidth\": 2}, \"yaxis\": {\"automargin\": true, \"gridcolor\": \"white\", \"linecolor\": \"white\", \"ticks\": \"\", \"title\": {\"standoff\": 15}, \"zerolinecolor\": \"white\", \"zerolinewidth\": 2}}}, \"title\": {\"text\": \"Varia\\u00e7\\u00e3o Precision e Recall por pontos de corte\"}, \"xaxis\": {\"linecolor\": \"rgb(204,204,204)\", \"showline\": true, \"tickangle\": 0, \"tickfont\": {\"color\": \"rgb(82,82,82)\", \"size\": 12}, \"ticks\": \"outside\", \"title\": {\"font\": {\"size\": 18}, \"text\": \"Pontos de corte\"}}, \"yaxis\": {\"showticklabels\": false}},\n",
       "                        {\"responsive\": true}\n",
       "                    ).then(function(){\n",
       "                            \n",
       "var gd = document.getElementById('fe3d2288-62ba-4b4e-a1cd-6cc190ecea60');\n",
       "var x = new MutationObserver(function (mutations, observer) {{\n",
       "        var display = window.getComputedStyle(gd).display;\n",
       "        if (!display || display === 'none') {{\n",
       "            console.log([gd, 'removed!']);\n",
       "            Plotly.purge(gd);\n",
       "            observer.disconnect();\n",
       "        }}\n",
       "}});\n",
       "\n",
       "// Listen for the removal of the full notebook cells\n",
       "var notebookContainer = gd.closest('#notebook-container');\n",
       "if (notebookContainer) {{\n",
       "    x.observe(notebookContainer, {childList: true});\n",
       "}}\n",
       "\n",
       "// Listen for the clearing of the current output cell\n",
       "var outputEl = gd.closest('.output');\n",
       "if (outputEl) {{\n",
       "    x.observe(outputEl, {childList: true});\n",
       "}}\n",
       "\n",
       "                        })\n",
       "                };\n",
       "                });\n",
       "            </script>\n",
       "        </div>"
      ]
     },
     "metadata": {},
     "output_type": "display_data"
    }
   ],
   "source": [
    "PlotPrecisionRecallF1(df_metrics, cols_plot = ['precision', 'recall'])"
   ]
  },
  {
   "cell_type": "code",
   "execution_count": null,
   "metadata": {},
   "outputs": [],
   "source": []
  }
 ],
 "metadata": {
  "kernelspec": {
   "display_name": "Python 3",
   "language": "python",
   "name": "python3"
  },
  "language_info": {
   "codemirror_mode": {
    "name": "ipython",
    "version": 3
   },
   "file_extension": ".py",
   "mimetype": "text/x-python",
   "name": "python",
   "nbconvert_exporter": "python",
   "pygments_lexer": "ipython3",
   "version": "3.7.1"
  },
  "toc": {
   "base_numbering": 1,
   "nav_menu": {},
   "number_sections": true,
   "sideBar": true,
   "skip_h1_title": false,
   "title_cell": "Table of Contents",
   "title_sidebar": "Contents",
   "toc_cell": true,
   "toc_position": {
    "height": "calc(100% - 180px)",
    "left": "10px",
    "top": "150px",
    "width": "165px"
   },
   "toc_section_display": true,
   "toc_window_display": true
  }
 },
 "nbformat": 4,
 "nbformat_minor": 2
}

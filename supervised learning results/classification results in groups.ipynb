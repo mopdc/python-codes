{
 "cells": [
  {
   "cell_type": "markdown",
   "metadata": {
    "toc": true
   },
   "source": [
    "<h1>Table of Contents<span class=\"tocSkip\"></span></h1>\n",
    "<div class=\"toc\"><ul class=\"toc-item\"><li><ul class=\"toc-item\"><li><span><a href=\"#The-purpose-of-this-program-is-creating-two-functions:\" data-toc-modified-id=\"The-purpose-of-this-program-is-creating-two-functions:-0.1\"><span class=\"toc-item-num\">0.1&nbsp;&nbsp;</span>The purpose of this program is creating two functions:</a></span></li></ul></li><li><span><a href=\"#import-data\" data-toc-modified-id=\"import-data-1\"><span class=\"toc-item-num\">1&nbsp;&nbsp;</span>import data</a></span></li></ul></div>"
   ]
  },
  {
   "cell_type": "markdown",
   "metadata": {},
   "source": [
    "#### The purpose of this program is creating two functions:\n",
    "The first one, learns with the train data and splits data in *n* groups with the same length, and applies these intervals to the test data.\n",
    "The second one draw the plot with this information.\n",
    "\n",
    "So, we can see if the behaviour of the groups is the same in both datas.\n",
    "It's useful when the application of the model is in all the data, in different thresholds."
   ]
  },
  {
   "cell_type": "markdown",
   "metadata": {},
   "source": [
    "### import data"
   ]
  },
  {
   "cell_type": "code",
   "execution_count": 62,
   "metadata": {
    "ExecuteTime": {
     "end_time": "2020-07-01T03:17:08.851243Z",
     "start_time": "2020-07-01T03:17:08.842382Z"
    }
   },
   "outputs": [],
   "source": [
    "import plotly.graph_objects as go\n",
    "from plotly.subplots import make_subplots\n",
    "\n",
    "import numpy as np\n",
    "import pandas as pd"
   ]
  },
  {
   "cell_type": "code",
   "execution_count": 2,
   "metadata": {
    "ExecuteTime": {
     "end_time": "2020-07-01T02:19:20.108761Z",
     "start_time": "2020-07-01T02:19:20.064769Z"
    }
   },
   "outputs": [],
   "source": [
    "dados1 = pd.read_csv('teste1.csv',sep=';',decimal=',')\n",
    "dados2 = pd.read_csv('teste2.csv',sep=';',decimal=',')"
   ]
  },
  {
   "cell_type": "code",
   "execution_count": 20,
   "metadata": {
    "ExecuteTime": {
     "end_time": "2020-07-01T02:33:12.112896Z",
     "start_time": "2020-07-01T02:33:12.095077Z"
    }
   },
   "outputs": [
    {
     "name": "stdout",
     "output_type": "stream",
     "text": [
      "    Id  prob_treino  prob_resp\n",
      "0  121          0.1          1\n",
      "1  112          0.1          1\n",
      "2   41          0.1          1\n",
      "3  173          0.1          1\n",
      "   Id  prob_teste  pred_teste\n",
      "0   1    0.641170           1\n",
      "1   2    0.546631           1\n",
      "2   3    0.239751           1\n",
      "3   4    0.869883           1\n"
     ]
    }
   ],
   "source": [
    "print(dados1.head(4))\n",
    "print(dados2.head(4))"
   ]
  },
  {
   "cell_type": "code",
   "execution_count": 29,
   "metadata": {
    "ExecuteTime": {
     "end_time": "2020-07-01T02:34:21.759569Z",
     "start_time": "2020-07-01T02:34:21.737965Z"
    }
   },
   "outputs": [],
   "source": [
    "def probability_groups (n_groups, train_probs, y_train, test_probs, y_test):\n",
    "    ser, bins = pd.qcut(train_probs, n_groups, retbins = True)\n",
    "    bins2 = bins.copy()\n",
    "    bins2[0] = 0\n",
    "    bins2[n_groups] = 1\n",
    "    train_table = pd.DataFrame(pd.crosstab(ser, y_train))\n",
    "    train_table.columns = ['N_0', 'N_1']\n",
    "    train_table['total'] = train_table.N_0 + train_table.N_1\n",
    "    train_table['P_1'] = np.round(train_table['N_1'] / train_table['total'],2)\n",
    "    train_table['P_0'] = np.round(train_table['N_0'] / train_table['total'],2)\n",
    "\n",
    "    train_table['P_total'] = np.round((train_table['total'] / sum(train_table.total) ), 2)\n",
    "    train_group = ser.copy()\n",
    "    \n",
    "    test_group = pd.cut(test_probs, bins=bins2, labels=False, include_lowest=True)\n",
    "    test_table = pd.DataFrame(pd.crosstab(test_group, y_test))\n",
    "    test_table.columns = ['N_0', 'N_1']\n",
    "    test_table['total'] = test_table.N_0 + test_table.N_1\n",
    "    test_table['P_1'] = np.round(test_table['N_1'] / test_table['total'],2)\n",
    "    test_table['P_0'] = np.round(test_table['N_0'] / test_table['total'],2)\n",
    "\n",
    "    test_table['P_total'] = np.round((test_table['total'] / sum(test_table.total) ), 2)\n",
    "    \n",
    "    print ('original bins: {}' .format(bins))\n",
    "    print ('modified bins: {}' .format(bins2))\n",
    "    print(test_table)\n",
    "    return (train_table, test_table, train_group, test_group)"
   ]
  },
  {
   "cell_type": "code",
   "execution_count": 30,
   "metadata": {
    "ExecuteTime": {
     "end_time": "2020-07-01T02:34:22.120773Z",
     "start_time": "2020-07-01T02:34:22.047960Z"
    }
   },
   "outputs": [
    {
     "name": "stdout",
     "output_type": "stream",
     "text": [
      "original bins: [0.0044222  0.10299859 0.20452673 0.33989183 0.51575841 0.62815722\n",
      " 0.78905976 0.94410692]\n",
      "modified bins: [0.         0.10299859 0.20452673 0.33989183 0.51575841 0.62815722\n",
      " 0.78905976 1.        ]\n",
      "            N_0  N_1  total   P_1   P_0  P_total\n",
      "prob_teste                                      \n",
      "0            11   14     25  0.56  0.44     0.10\n",
      "1             5   13     18  0.72  0.28     0.07\n",
      "2             9   18     27  0.67  0.33     0.11\n",
      "3            19   29     48  0.60  0.40     0.19\n",
      "4            13   26     39  0.67  0.33     0.16\n",
      "5             9   33     42  0.79  0.21     0.17\n",
      "6            13   38     51  0.75  0.25     0.20\n"
     ]
    }
   ],
   "source": [
    "train_table, test_table, train_group, test_group = probability_groups(7, dados1.prob_treino, dados1.prob_resp, dados2.prob_teste, dados2.pred_teste)\n"
   ]
  },
  {
   "cell_type": "code",
   "execution_count": 31,
   "metadata": {
    "ExecuteTime": {
     "end_time": "2020-07-01T02:34:22.547654Z",
     "start_time": "2020-07-01T02:34:22.535756Z"
    }
   },
   "outputs": [],
   "source": [
    "train_table = train_table.reset_index()\n",
    "train_table.rename(columns = {'prob_treino' : 'intervalos'}, inplace=True)"
   ]
  },
  {
   "cell_type": "code",
   "execution_count": 53,
   "metadata": {
    "ExecuteTime": {
     "end_time": "2020-07-01T02:44:02.983114Z",
     "start_time": "2020-07-01T02:44:02.950065Z"
    }
   },
   "outputs": [
    {
     "data": {
      "text/html": [
       "<div>\n",
       "<style scoped>\n",
       "    .dataframe tbody tr th:only-of-type {\n",
       "        vertical-align: middle;\n",
       "    }\n",
       "\n",
       "    .dataframe tbody tr th {\n",
       "        vertical-align: top;\n",
       "    }\n",
       "\n",
       "    .dataframe thead th {\n",
       "        text-align: right;\n",
       "    }\n",
       "</style>\n",
       "<table border=\"1\" class=\"dataframe\">\n",
       "  <thead>\n",
       "    <tr style=\"text-align: right;\">\n",
       "      <th></th>\n",
       "      <th>intervalos</th>\n",
       "      <th>N_0</th>\n",
       "      <th>N_1</th>\n",
       "      <th>total</th>\n",
       "      <th>P_1</th>\n",
       "      <th>P_0</th>\n",
       "      <th>P_total</th>\n",
       "    </tr>\n",
       "  </thead>\n",
       "  <tbody>\n",
       "    <tr>\n",
       "      <th>0</th>\n",
       "      <td>(0.0034200000000000003, 0.103]</td>\n",
       "      <td>12</td>\n",
       "      <td>24</td>\n",
       "      <td>36</td>\n",
       "      <td>0.67</td>\n",
       "      <td>0.33</td>\n",
       "      <td>0.14</td>\n",
       "    </tr>\n",
       "    <tr>\n",
       "      <th>1</th>\n",
       "      <td>(0.103, 0.205]</td>\n",
       "      <td>15</td>\n",
       "      <td>21</td>\n",
       "      <td>36</td>\n",
       "      <td>0.58</td>\n",
       "      <td>0.42</td>\n",
       "      <td>0.14</td>\n",
       "    </tr>\n",
       "    <tr>\n",
       "      <th>2</th>\n",
       "      <td>(0.205, 0.34]</td>\n",
       "      <td>12</td>\n",
       "      <td>23</td>\n",
       "      <td>35</td>\n",
       "      <td>0.66</td>\n",
       "      <td>0.34</td>\n",
       "      <td>0.14</td>\n",
       "    </tr>\n",
       "    <tr>\n",
       "      <th>3</th>\n",
       "      <td>(0.34, 0.516]</td>\n",
       "      <td>10</td>\n",
       "      <td>26</td>\n",
       "      <td>36</td>\n",
       "      <td>0.72</td>\n",
       "      <td>0.28</td>\n",
       "      <td>0.14</td>\n",
       "    </tr>\n",
       "    <tr>\n",
       "      <th>4</th>\n",
       "      <td>(0.516, 0.628]</td>\n",
       "      <td>10</td>\n",
       "      <td>25</td>\n",
       "      <td>35</td>\n",
       "      <td>0.71</td>\n",
       "      <td>0.29</td>\n",
       "      <td>0.14</td>\n",
       "    </tr>\n",
       "    <tr>\n",
       "      <th>5</th>\n",
       "      <td>(0.628, 0.789]</td>\n",
       "      <td>9</td>\n",
       "      <td>27</td>\n",
       "      <td>36</td>\n",
       "      <td>0.75</td>\n",
       "      <td>0.25</td>\n",
       "      <td>0.14</td>\n",
       "    </tr>\n",
       "    <tr>\n",
       "      <th>6</th>\n",
       "      <td>(0.789, 0.944]</td>\n",
       "      <td>11</td>\n",
       "      <td>25</td>\n",
       "      <td>36</td>\n",
       "      <td>0.69</td>\n",
       "      <td>0.31</td>\n",
       "      <td>0.14</td>\n",
       "    </tr>\n",
       "  </tbody>\n",
       "</table>\n",
       "</div>"
      ],
      "text/plain": [
       "                       intervalos  N_0  N_1  total   P_1   P_0  P_total\n",
       "0  (0.0034200000000000003, 0.103]   12   24     36  0.67  0.33     0.14\n",
       "1                  (0.103, 0.205]   15   21     36  0.58  0.42     0.14\n",
       "2                   (0.205, 0.34]   12   23     35  0.66  0.34     0.14\n",
       "3                   (0.34, 0.516]   10   26     36  0.72  0.28     0.14\n",
       "4                  (0.516, 0.628]   10   25     35  0.71  0.29     0.14\n",
       "5                  (0.628, 0.789]    9   27     36  0.75  0.25     0.14\n",
       "6                  (0.789, 0.944]   11   25     36  0.69  0.31     0.14"
      ]
     },
     "execution_count": 53,
     "metadata": {},
     "output_type": "execute_result"
    }
   ],
   "source": [
    "train_table"
   ]
  },
  {
   "cell_type": "code",
   "execution_count": 236,
   "metadata": {
    "ExecuteTime": {
     "end_time": "2020-07-01T04:09:07.546021Z",
     "start_time": "2020-07-01T04:09:07.510691Z"
    }
   },
   "outputs": [],
   "source": [
    "def stacked_barplot_probs (df,\n",
    "                           name_axis_x = 'intervalos', \n",
    "                           name_cols_plot = ['P_1', 'P_0'], \n",
    "                           name_col_2 = 'P_total',\n",
    "                           colors = ['blue', 'darkblue'],\n",
    "                           nomes_legenda = ['% Classe 1', '% Classe 0'],\n",
    "                           ):\n",
    "    fig = make_subplots(specs=[[{\"secondary_y\": True}]])\n",
    "\n",
    "    #fig = go.Figure()\n",
    "\n",
    "    for i in range(len(name_cols_plot)):\n",
    "        fig.add_trace(\n",
    "            go.Bar(x=[str(j) for j in df[name_axis_x].values.tolist()] , \n",
    "            name = nomes_legenda[i], \n",
    "            y=df[name_cols_plot[i]], \n",
    "            text = ['{:,.0f}%'.format(i2*100) for i2 in df[name_cols_plot[i]].values.tolist()], \n",
    "            textposition='inside',  \n",
    "            textfont_size=16,\n",
    "            #orientation='h',\n",
    "            marker=dict(\n",
    "                color=colors[i],\n",
    "                line=dict(color='rgb(248, 248, 249)', width=2)\n",
    "            ))\n",
    "        )\n",
    "        \n",
    "    fig.add_trace(go.Scatter(x= [str(j) for j in df[name_axis_x].values.tolist()], \n",
    "                             y= df[name_col_2],\n",
    "                             text = ['{:,.0f}%'.format(i2*100) for i2 in df[name_col_2].values.tolist()],\n",
    "                             textposition='top center',\n",
    "                             mode = 'lines+text',\n",
    "                             marker=dict(color='white'),\n",
    "                             textfont=dict(\n",
    "                                #family=\"sans serif\",\n",
    "                                size=13,\n",
    "                                color=\"gray\"\n",
    "                             ),\n",
    "                            showlegend=False), secondary_y=True)\n",
    "\n",
    "    \n",
    "    fig.add_annotation(\n",
    "        x=6.25,\n",
    "        y=0.2,\n",
    "        xref=\"x\",\n",
    "        yref=\"y\",\n",
    "        text=\"% classe 1 geral: 20%\",\n",
    "        showarrow=True,\n",
    "        font=dict(\n",
    "            #family=\"Courier New, monospace\",\n",
    "            #size=16,\n",
    "            color=\"white\"\n",
    "            ),\n",
    "        align=\"center\",\n",
    "        arrowhead=2,\n",
    "        arrowsize=1,\n",
    "        arrowwidth=2,\n",
    "        arrowcolor=\"#636363\",\n",
    "        ax=90,\n",
    "        ay=0,\n",
    "        bordercolor=\"#c7c7c7\",\n",
    "        borderwidth=2,\n",
    "        borderpad=4,\n",
    "        bgcolor=\"gray\",\n",
    "        opacity=0.8\n",
    "        )\n",
    "    \n",
    "    fig.update_layout(barmode='stack',\n",
    "        title_text=\"Grafico 2\",\n",
    "        plot_bgcolor='white',\n",
    "        legend_title=' ',\n",
    "        xaxis=dict(\n",
    "            #title='Ggrafico1',\n",
    "            #titlefont_size=25\n",
    "            tickfont_size=14,\n",
    "        ),\n",
    "        legend=dict(x=0.78, y=0.9)\n",
    "        #transition_duration=100\n",
    "    )\n",
    "    fig['layout']['yaxis1'].update(showticklabels=False,range = [0,1.2],autorange=False)\n",
    "    fig['layout']['yaxis2'].update(showticklabels=False,range = [-10,2],autorange=False)\n",
    "\n",
    "    return fig"
   ]
  },
  {
   "cell_type": "code",
   "execution_count": 237,
   "metadata": {
    "ExecuteTime": {
     "end_time": "2020-07-01T04:09:08.321935Z",
     "start_time": "2020-07-01T04:09:07.943865Z"
    }
   },
   "outputs": [
    {
     "data": {
      "application/vnd.plotly.v1+json": {
       "config": {
        "plotlyServerURL": "https://plot.ly"
       },
       "data": [
        {
         "marker": {
          "color": "blue",
          "line": {
           "color": "rgb(248, 248, 249)",
           "width": 2
          }
         },
         "name": "% Classe 1",
         "text": [
          "67%",
          "58%",
          "66%",
          "72%",
          "71%",
          "75%",
          "69%"
         ],
         "textfont": {
          "size": 16
         },
         "textposition": "inside",
         "type": "bar",
         "x": [
          "(0.0034200000000000003, 0.103]",
          "(0.103, 0.205]",
          "(0.205, 0.34]",
          "(0.34, 0.516]",
          "(0.516, 0.628]",
          "(0.628, 0.789]",
          "(0.789, 0.944]"
         ],
         "y": [
          0.67,
          0.58,
          0.66,
          0.72,
          0.71,
          0.75,
          0.69
         ]
        },
        {
         "marker": {
          "color": "darkblue",
          "line": {
           "color": "rgb(248, 248, 249)",
           "width": 2
          }
         },
         "name": "% Classe 0",
         "text": [
          "33%",
          "42%",
          "34%",
          "28%",
          "29%",
          "25%",
          "31%"
         ],
         "textfont": {
          "size": 16
         },
         "textposition": "inside",
         "type": "bar",
         "x": [
          "(0.0034200000000000003, 0.103]",
          "(0.103, 0.205]",
          "(0.205, 0.34]",
          "(0.34, 0.516]",
          "(0.516, 0.628]",
          "(0.628, 0.789]",
          "(0.789, 0.944]"
         ],
         "y": [
          0.33,
          0.42,
          0.34,
          0.28,
          0.29,
          0.25,
          0.31
         ]
        },
        {
         "marker": {
          "color": "white"
         },
         "mode": "lines+text",
         "showlegend": false,
         "text": [
          "14%",
          "14%",
          "14%",
          "14%",
          "14%",
          "14%",
          "14%"
         ],
         "textfont": {
          "color": "gray",
          "size": 13
         },
         "textposition": "top center",
         "type": "scatter",
         "x": [
          "(0.0034200000000000003, 0.103]",
          "(0.103, 0.205]",
          "(0.205, 0.34]",
          "(0.34, 0.516]",
          "(0.516, 0.628]",
          "(0.628, 0.789]",
          "(0.789, 0.944]"
         ],
         "xaxis": "x",
         "y": [
          0.14,
          0.14,
          0.14,
          0.14,
          0.14,
          0.14,
          0.14
         ],
         "yaxis": "y2"
        }
       ],
       "layout": {
        "annotations": [
         {
          "align": "center",
          "arrowcolor": "#636363",
          "arrowhead": 2,
          "arrowsize": 1,
          "arrowwidth": 2,
          "ax": 90,
          "ay": 0,
          "bgcolor": "gray",
          "bordercolor": "#c7c7c7",
          "borderpad": 4,
          "borderwidth": 2,
          "font": {
           "color": "white"
          },
          "opacity": 0.8,
          "showarrow": true,
          "text": "% classe 1 geral: 20%",
          "x": 6.25,
          "xref": "x",
          "y": 0.2,
          "yref": "y"
         }
        ],
        "barmode": "stack",
        "legend": {
         "title": {
          "text": " "
         },
         "x": 0.78,
         "y": 0.9
        },
        "plot_bgcolor": "white",
        "template": {
         "data": {
          "bar": [
           {
            "error_x": {
             "color": "#2a3f5f"
            },
            "error_y": {
             "color": "#2a3f5f"
            },
            "marker": {
             "line": {
              "color": "#E5ECF6",
              "width": 0.5
             }
            },
            "type": "bar"
           }
          ],
          "barpolar": [
           {
            "marker": {
             "line": {
              "color": "#E5ECF6",
              "width": 0.5
             }
            },
            "type": "barpolar"
           }
          ],
          "carpet": [
           {
            "aaxis": {
             "endlinecolor": "#2a3f5f",
             "gridcolor": "white",
             "linecolor": "white",
             "minorgridcolor": "white",
             "startlinecolor": "#2a3f5f"
            },
            "baxis": {
             "endlinecolor": "#2a3f5f",
             "gridcolor": "white",
             "linecolor": "white",
             "minorgridcolor": "white",
             "startlinecolor": "#2a3f5f"
            },
            "type": "carpet"
           }
          ],
          "choropleth": [
           {
            "colorbar": {
             "outlinewidth": 0,
             "ticks": ""
            },
            "type": "choropleth"
           }
          ],
          "contour": [
           {
            "colorbar": {
             "outlinewidth": 0,
             "ticks": ""
            },
            "colorscale": [
             [
              0,
              "#0d0887"
             ],
             [
              0.1111111111111111,
              "#46039f"
             ],
             [
              0.2222222222222222,
              "#7201a8"
             ],
             [
              0.3333333333333333,
              "#9c179e"
             ],
             [
              0.4444444444444444,
              "#bd3786"
             ],
             [
              0.5555555555555556,
              "#d8576b"
             ],
             [
              0.6666666666666666,
              "#ed7953"
             ],
             [
              0.7777777777777778,
              "#fb9f3a"
             ],
             [
              0.8888888888888888,
              "#fdca26"
             ],
             [
              1,
              "#f0f921"
             ]
            ],
            "type": "contour"
           }
          ],
          "contourcarpet": [
           {
            "colorbar": {
             "outlinewidth": 0,
             "ticks": ""
            },
            "type": "contourcarpet"
           }
          ],
          "heatmap": [
           {
            "colorbar": {
             "outlinewidth": 0,
             "ticks": ""
            },
            "colorscale": [
             [
              0,
              "#0d0887"
             ],
             [
              0.1111111111111111,
              "#46039f"
             ],
             [
              0.2222222222222222,
              "#7201a8"
             ],
             [
              0.3333333333333333,
              "#9c179e"
             ],
             [
              0.4444444444444444,
              "#bd3786"
             ],
             [
              0.5555555555555556,
              "#d8576b"
             ],
             [
              0.6666666666666666,
              "#ed7953"
             ],
             [
              0.7777777777777778,
              "#fb9f3a"
             ],
             [
              0.8888888888888888,
              "#fdca26"
             ],
             [
              1,
              "#f0f921"
             ]
            ],
            "type": "heatmap"
           }
          ],
          "heatmapgl": [
           {
            "colorbar": {
             "outlinewidth": 0,
             "ticks": ""
            },
            "colorscale": [
             [
              0,
              "#0d0887"
             ],
             [
              0.1111111111111111,
              "#46039f"
             ],
             [
              0.2222222222222222,
              "#7201a8"
             ],
             [
              0.3333333333333333,
              "#9c179e"
             ],
             [
              0.4444444444444444,
              "#bd3786"
             ],
             [
              0.5555555555555556,
              "#d8576b"
             ],
             [
              0.6666666666666666,
              "#ed7953"
             ],
             [
              0.7777777777777778,
              "#fb9f3a"
             ],
             [
              0.8888888888888888,
              "#fdca26"
             ],
             [
              1,
              "#f0f921"
             ]
            ],
            "type": "heatmapgl"
           }
          ],
          "histogram": [
           {
            "marker": {
             "colorbar": {
              "outlinewidth": 0,
              "ticks": ""
             }
            },
            "type": "histogram"
           }
          ],
          "histogram2d": [
           {
            "colorbar": {
             "outlinewidth": 0,
             "ticks": ""
            },
            "colorscale": [
             [
              0,
              "#0d0887"
             ],
             [
              0.1111111111111111,
              "#46039f"
             ],
             [
              0.2222222222222222,
              "#7201a8"
             ],
             [
              0.3333333333333333,
              "#9c179e"
             ],
             [
              0.4444444444444444,
              "#bd3786"
             ],
             [
              0.5555555555555556,
              "#d8576b"
             ],
             [
              0.6666666666666666,
              "#ed7953"
             ],
             [
              0.7777777777777778,
              "#fb9f3a"
             ],
             [
              0.8888888888888888,
              "#fdca26"
             ],
             [
              1,
              "#f0f921"
             ]
            ],
            "type": "histogram2d"
           }
          ],
          "histogram2dcontour": [
           {
            "colorbar": {
             "outlinewidth": 0,
             "ticks": ""
            },
            "colorscale": [
             [
              0,
              "#0d0887"
             ],
             [
              0.1111111111111111,
              "#46039f"
             ],
             [
              0.2222222222222222,
              "#7201a8"
             ],
             [
              0.3333333333333333,
              "#9c179e"
             ],
             [
              0.4444444444444444,
              "#bd3786"
             ],
             [
              0.5555555555555556,
              "#d8576b"
             ],
             [
              0.6666666666666666,
              "#ed7953"
             ],
             [
              0.7777777777777778,
              "#fb9f3a"
             ],
             [
              0.8888888888888888,
              "#fdca26"
             ],
             [
              1,
              "#f0f921"
             ]
            ],
            "type": "histogram2dcontour"
           }
          ],
          "mesh3d": [
           {
            "colorbar": {
             "outlinewidth": 0,
             "ticks": ""
            },
            "type": "mesh3d"
           }
          ],
          "parcoords": [
           {
            "line": {
             "colorbar": {
              "outlinewidth": 0,
              "ticks": ""
             }
            },
            "type": "parcoords"
           }
          ],
          "pie": [
           {
            "automargin": true,
            "type": "pie"
           }
          ],
          "scatter": [
           {
            "marker": {
             "colorbar": {
              "outlinewidth": 0,
              "ticks": ""
             }
            },
            "type": "scatter"
           }
          ],
          "scatter3d": [
           {
            "line": {
             "colorbar": {
              "outlinewidth": 0,
              "ticks": ""
             }
            },
            "marker": {
             "colorbar": {
              "outlinewidth": 0,
              "ticks": ""
             }
            },
            "type": "scatter3d"
           }
          ],
          "scattercarpet": [
           {
            "marker": {
             "colorbar": {
              "outlinewidth": 0,
              "ticks": ""
             }
            },
            "type": "scattercarpet"
           }
          ],
          "scattergeo": [
           {
            "marker": {
             "colorbar": {
              "outlinewidth": 0,
              "ticks": ""
             }
            },
            "type": "scattergeo"
           }
          ],
          "scattergl": [
           {
            "marker": {
             "colorbar": {
              "outlinewidth": 0,
              "ticks": ""
             }
            },
            "type": "scattergl"
           }
          ],
          "scattermapbox": [
           {
            "marker": {
             "colorbar": {
              "outlinewidth": 0,
              "ticks": ""
             }
            },
            "type": "scattermapbox"
           }
          ],
          "scatterpolar": [
           {
            "marker": {
             "colorbar": {
              "outlinewidth": 0,
              "ticks": ""
             }
            },
            "type": "scatterpolar"
           }
          ],
          "scatterpolargl": [
           {
            "marker": {
             "colorbar": {
              "outlinewidth": 0,
              "ticks": ""
             }
            },
            "type": "scatterpolargl"
           }
          ],
          "scatterternary": [
           {
            "marker": {
             "colorbar": {
              "outlinewidth": 0,
              "ticks": ""
             }
            },
            "type": "scatterternary"
           }
          ],
          "surface": [
           {
            "colorbar": {
             "outlinewidth": 0,
             "ticks": ""
            },
            "colorscale": [
             [
              0,
              "#0d0887"
             ],
             [
              0.1111111111111111,
              "#46039f"
             ],
             [
              0.2222222222222222,
              "#7201a8"
             ],
             [
              0.3333333333333333,
              "#9c179e"
             ],
             [
              0.4444444444444444,
              "#bd3786"
             ],
             [
              0.5555555555555556,
              "#d8576b"
             ],
             [
              0.6666666666666666,
              "#ed7953"
             ],
             [
              0.7777777777777778,
              "#fb9f3a"
             ],
             [
              0.8888888888888888,
              "#fdca26"
             ],
             [
              1,
              "#f0f921"
             ]
            ],
            "type": "surface"
           }
          ],
          "table": [
           {
            "cells": {
             "fill": {
              "color": "#EBF0F8"
             },
             "line": {
              "color": "white"
             }
            },
            "header": {
             "fill": {
              "color": "#C8D4E3"
             },
             "line": {
              "color": "white"
             }
            },
            "type": "table"
           }
          ]
         },
         "layout": {
          "annotationdefaults": {
           "arrowcolor": "#2a3f5f",
           "arrowhead": 0,
           "arrowwidth": 1
          },
          "coloraxis": {
           "colorbar": {
            "outlinewidth": 0,
            "ticks": ""
           }
          },
          "colorscale": {
           "diverging": [
            [
             0,
             "#8e0152"
            ],
            [
             0.1,
             "#c51b7d"
            ],
            [
             0.2,
             "#de77ae"
            ],
            [
             0.3,
             "#f1b6da"
            ],
            [
             0.4,
             "#fde0ef"
            ],
            [
             0.5,
             "#f7f7f7"
            ],
            [
             0.6,
             "#e6f5d0"
            ],
            [
             0.7,
             "#b8e186"
            ],
            [
             0.8,
             "#7fbc41"
            ],
            [
             0.9,
             "#4d9221"
            ],
            [
             1,
             "#276419"
            ]
           ],
           "sequential": [
            [
             0,
             "#0d0887"
            ],
            [
             0.1111111111111111,
             "#46039f"
            ],
            [
             0.2222222222222222,
             "#7201a8"
            ],
            [
             0.3333333333333333,
             "#9c179e"
            ],
            [
             0.4444444444444444,
             "#bd3786"
            ],
            [
             0.5555555555555556,
             "#d8576b"
            ],
            [
             0.6666666666666666,
             "#ed7953"
            ],
            [
             0.7777777777777778,
             "#fb9f3a"
            ],
            [
             0.8888888888888888,
             "#fdca26"
            ],
            [
             1,
             "#f0f921"
            ]
           ],
           "sequentialminus": [
            [
             0,
             "#0d0887"
            ],
            [
             0.1111111111111111,
             "#46039f"
            ],
            [
             0.2222222222222222,
             "#7201a8"
            ],
            [
             0.3333333333333333,
             "#9c179e"
            ],
            [
             0.4444444444444444,
             "#bd3786"
            ],
            [
             0.5555555555555556,
             "#d8576b"
            ],
            [
             0.6666666666666666,
             "#ed7953"
            ],
            [
             0.7777777777777778,
             "#fb9f3a"
            ],
            [
             0.8888888888888888,
             "#fdca26"
            ],
            [
             1,
             "#f0f921"
            ]
           ]
          },
          "colorway": [
           "#636efa",
           "#EF553B",
           "#00cc96",
           "#ab63fa",
           "#FFA15A",
           "#19d3f3",
           "#FF6692",
           "#B6E880",
           "#FF97FF",
           "#FECB52"
          ],
          "font": {
           "color": "#2a3f5f"
          },
          "geo": {
           "bgcolor": "white",
           "lakecolor": "white",
           "landcolor": "#E5ECF6",
           "showlakes": true,
           "showland": true,
           "subunitcolor": "white"
          },
          "hoverlabel": {
           "align": "left"
          },
          "hovermode": "closest",
          "mapbox": {
           "style": "light"
          },
          "paper_bgcolor": "white",
          "plot_bgcolor": "#E5ECF6",
          "polar": {
           "angularaxis": {
            "gridcolor": "white",
            "linecolor": "white",
            "ticks": ""
           },
           "bgcolor": "#E5ECF6",
           "radialaxis": {
            "gridcolor": "white",
            "linecolor": "white",
            "ticks": ""
           }
          },
          "scene": {
           "xaxis": {
            "backgroundcolor": "#E5ECF6",
            "gridcolor": "white",
            "gridwidth": 2,
            "linecolor": "white",
            "showbackground": true,
            "ticks": "",
            "zerolinecolor": "white"
           },
           "yaxis": {
            "backgroundcolor": "#E5ECF6",
            "gridcolor": "white",
            "gridwidth": 2,
            "linecolor": "white",
            "showbackground": true,
            "ticks": "",
            "zerolinecolor": "white"
           },
           "zaxis": {
            "backgroundcolor": "#E5ECF6",
            "gridcolor": "white",
            "gridwidth": 2,
            "linecolor": "white",
            "showbackground": true,
            "ticks": "",
            "zerolinecolor": "white"
           }
          },
          "shapedefaults": {
           "line": {
            "color": "#2a3f5f"
           }
          },
          "ternary": {
           "aaxis": {
            "gridcolor": "white",
            "linecolor": "white",
            "ticks": ""
           },
           "baxis": {
            "gridcolor": "white",
            "linecolor": "white",
            "ticks": ""
           },
           "bgcolor": "#E5ECF6",
           "caxis": {
            "gridcolor": "white",
            "linecolor": "white",
            "ticks": ""
           }
          },
          "title": {
           "x": 0.05
          },
          "xaxis": {
           "automargin": true,
           "gridcolor": "white",
           "linecolor": "white",
           "ticks": "",
           "title": {
            "standoff": 15
           },
           "zerolinecolor": "white",
           "zerolinewidth": 2
          },
          "yaxis": {
           "automargin": true,
           "gridcolor": "white",
           "linecolor": "white",
           "ticks": "",
           "title": {
            "standoff": 15
           },
           "zerolinecolor": "white",
           "zerolinewidth": 2
          }
         }
        },
        "title": {
         "text": "Grafico 2"
        },
        "xaxis": {
         "anchor": "y",
         "domain": [
          0,
          0.94
         ],
         "tickfont": {
          "size": 14
         }
        },
        "yaxis": {
         "anchor": "x",
         "autorange": false,
         "domain": [
          0,
          1
         ],
         "range": [
          0,
          1.2
         ],
         "showticklabels": false
        },
        "yaxis2": {
         "anchor": "x",
         "autorange": false,
         "overlaying": "y",
         "range": [
          -10,
          2
         ],
         "showticklabels": false,
         "side": "right"
        }
       }
      },
      "text/html": [
       "<div>\n",
       "        \n",
       "        \n",
       "            <div id=\"8bd34220-d1fc-45ad-ac6b-8ccacfd5c4da\" class=\"plotly-graph-div\" style=\"height:525px; width:100%;\"></div>\n",
       "            <script type=\"text/javascript\">\n",
       "                require([\"plotly\"], function(Plotly) {\n",
       "                    window.PLOTLYENV=window.PLOTLYENV || {};\n",
       "                    \n",
       "                if (document.getElementById(\"8bd34220-d1fc-45ad-ac6b-8ccacfd5c4da\")) {\n",
       "                    Plotly.newPlot(\n",
       "                        '8bd34220-d1fc-45ad-ac6b-8ccacfd5c4da',\n",
       "                        [{\"marker\": {\"color\": \"blue\", \"line\": {\"color\": \"rgb(248, 248, 249)\", \"width\": 2}}, \"name\": \"% Classe 1\", \"text\": [\"67%\", \"58%\", \"66%\", \"72%\", \"71%\", \"75%\", \"69%\"], \"textfont\": {\"size\": 16}, \"textposition\": \"inside\", \"type\": \"bar\", \"x\": [\"(0.0034200000000000003, 0.103]\", \"(0.103, 0.205]\", \"(0.205, 0.34]\", \"(0.34, 0.516]\", \"(0.516, 0.628]\", \"(0.628, 0.789]\", \"(0.789, 0.944]\"], \"y\": [0.67, 0.58, 0.66, 0.72, 0.71, 0.75, 0.69]}, {\"marker\": {\"color\": \"darkblue\", \"line\": {\"color\": \"rgb(248, 248, 249)\", \"width\": 2}}, \"name\": \"% Classe 0\", \"text\": [\"33%\", \"42%\", \"34%\", \"28%\", \"29%\", \"25%\", \"31%\"], \"textfont\": {\"size\": 16}, \"textposition\": \"inside\", \"type\": \"bar\", \"x\": [\"(0.0034200000000000003, 0.103]\", \"(0.103, 0.205]\", \"(0.205, 0.34]\", \"(0.34, 0.516]\", \"(0.516, 0.628]\", \"(0.628, 0.789]\", \"(0.789, 0.944]\"], \"y\": [0.33, 0.42, 0.34, 0.28, 0.29, 0.25, 0.31]}, {\"marker\": {\"color\": \"white\"}, \"mode\": \"lines+text\", \"showlegend\": false, \"text\": [\"14%\", \"14%\", \"14%\", \"14%\", \"14%\", \"14%\", \"14%\"], \"textfont\": {\"color\": \"gray\", \"size\": 13}, \"textposition\": \"top center\", \"type\": \"scatter\", \"x\": [\"(0.0034200000000000003, 0.103]\", \"(0.103, 0.205]\", \"(0.205, 0.34]\", \"(0.34, 0.516]\", \"(0.516, 0.628]\", \"(0.628, 0.789]\", \"(0.789, 0.944]\"], \"xaxis\": \"x\", \"y\": [0.14, 0.14, 0.14, 0.14, 0.14, 0.14, 0.14], \"yaxis\": \"y2\"}],\n",
       "                        {\"annotations\": [{\"align\": \"center\", \"arrowcolor\": \"#636363\", \"arrowhead\": 2, \"arrowsize\": 1, \"arrowwidth\": 2, \"ax\": 90, \"ay\": 0, \"bgcolor\": \"gray\", \"bordercolor\": \"#c7c7c7\", \"borderpad\": 4, \"borderwidth\": 2, \"font\": {\"color\": \"white\"}, \"opacity\": 0.8, \"showarrow\": true, \"text\": \"% classe 1 geral: 20%\", \"x\": 6.25, \"xref\": \"x\", \"y\": 0.2, \"yref\": \"y\"}], \"barmode\": \"stack\", \"legend\": {\"title\": {\"text\": \" \"}, \"x\": 0.78, \"y\": 0.9}, \"plot_bgcolor\": \"white\", \"template\": {\"data\": {\"bar\": [{\"error_x\": {\"color\": \"#2a3f5f\"}, \"error_y\": {\"color\": \"#2a3f5f\"}, \"marker\": {\"line\": {\"color\": \"#E5ECF6\", \"width\": 0.5}}, \"type\": \"bar\"}], \"barpolar\": [{\"marker\": {\"line\": {\"color\": \"#E5ECF6\", \"width\": 0.5}}, \"type\": \"barpolar\"}], \"carpet\": [{\"aaxis\": {\"endlinecolor\": \"#2a3f5f\", \"gridcolor\": \"white\", \"linecolor\": \"white\", \"minorgridcolor\": \"white\", \"startlinecolor\": \"#2a3f5f\"}, \"baxis\": {\"endlinecolor\": \"#2a3f5f\", \"gridcolor\": \"white\", \"linecolor\": \"white\", \"minorgridcolor\": \"white\", \"startlinecolor\": \"#2a3f5f\"}, \"type\": \"carpet\"}], \"choropleth\": [{\"colorbar\": {\"outlinewidth\": 0, \"ticks\": \"\"}, \"type\": \"choropleth\"}], \"contour\": [{\"colorbar\": {\"outlinewidth\": 0, \"ticks\": \"\"}, \"colorscale\": [[0.0, \"#0d0887\"], [0.1111111111111111, \"#46039f\"], [0.2222222222222222, \"#7201a8\"], [0.3333333333333333, \"#9c179e\"], [0.4444444444444444, \"#bd3786\"], [0.5555555555555556, \"#d8576b\"], [0.6666666666666666, \"#ed7953\"], [0.7777777777777778, \"#fb9f3a\"], [0.8888888888888888, \"#fdca26\"], [1.0, \"#f0f921\"]], \"type\": \"contour\"}], \"contourcarpet\": [{\"colorbar\": {\"outlinewidth\": 0, \"ticks\": \"\"}, \"type\": \"contourcarpet\"}], \"heatmap\": [{\"colorbar\": {\"outlinewidth\": 0, \"ticks\": \"\"}, \"colorscale\": [[0.0, \"#0d0887\"], [0.1111111111111111, \"#46039f\"], [0.2222222222222222, \"#7201a8\"], [0.3333333333333333, \"#9c179e\"], [0.4444444444444444, \"#bd3786\"], [0.5555555555555556, \"#d8576b\"], [0.6666666666666666, \"#ed7953\"], [0.7777777777777778, \"#fb9f3a\"], [0.8888888888888888, \"#fdca26\"], [1.0, \"#f0f921\"]], \"type\": \"heatmap\"}], \"heatmapgl\": [{\"colorbar\": {\"outlinewidth\": 0, \"ticks\": \"\"}, \"colorscale\": [[0.0, \"#0d0887\"], [0.1111111111111111, \"#46039f\"], [0.2222222222222222, \"#7201a8\"], [0.3333333333333333, \"#9c179e\"], [0.4444444444444444, \"#bd3786\"], [0.5555555555555556, \"#d8576b\"], [0.6666666666666666, \"#ed7953\"], [0.7777777777777778, \"#fb9f3a\"], [0.8888888888888888, \"#fdca26\"], [1.0, \"#f0f921\"]], \"type\": \"heatmapgl\"}], \"histogram\": [{\"marker\": {\"colorbar\": {\"outlinewidth\": 0, \"ticks\": \"\"}}, \"type\": \"histogram\"}], \"histogram2d\": [{\"colorbar\": {\"outlinewidth\": 0, \"ticks\": \"\"}, \"colorscale\": [[0.0, \"#0d0887\"], [0.1111111111111111, \"#46039f\"], [0.2222222222222222, \"#7201a8\"], [0.3333333333333333, \"#9c179e\"], [0.4444444444444444, \"#bd3786\"], [0.5555555555555556, \"#d8576b\"], [0.6666666666666666, \"#ed7953\"], [0.7777777777777778, \"#fb9f3a\"], [0.8888888888888888, \"#fdca26\"], [1.0, \"#f0f921\"]], \"type\": \"histogram2d\"}], \"histogram2dcontour\": [{\"colorbar\": {\"outlinewidth\": 0, \"ticks\": \"\"}, \"colorscale\": [[0.0, \"#0d0887\"], [0.1111111111111111, \"#46039f\"], [0.2222222222222222, \"#7201a8\"], [0.3333333333333333, \"#9c179e\"], [0.4444444444444444, \"#bd3786\"], [0.5555555555555556, \"#d8576b\"], [0.6666666666666666, \"#ed7953\"], [0.7777777777777778, \"#fb9f3a\"], [0.8888888888888888, \"#fdca26\"], [1.0, \"#f0f921\"]], \"type\": \"histogram2dcontour\"}], \"mesh3d\": [{\"colorbar\": {\"outlinewidth\": 0, \"ticks\": \"\"}, \"type\": \"mesh3d\"}], \"parcoords\": [{\"line\": {\"colorbar\": {\"outlinewidth\": 0, \"ticks\": \"\"}}, \"type\": \"parcoords\"}], \"pie\": [{\"automargin\": true, \"type\": \"pie\"}], \"scatter\": [{\"marker\": {\"colorbar\": {\"outlinewidth\": 0, \"ticks\": \"\"}}, \"type\": \"scatter\"}], \"scatter3d\": [{\"line\": {\"colorbar\": {\"outlinewidth\": 0, \"ticks\": \"\"}}, \"marker\": {\"colorbar\": {\"outlinewidth\": 0, \"ticks\": \"\"}}, \"type\": \"scatter3d\"}], \"scattercarpet\": [{\"marker\": {\"colorbar\": {\"outlinewidth\": 0, \"ticks\": \"\"}}, \"type\": \"scattercarpet\"}], \"scattergeo\": [{\"marker\": {\"colorbar\": {\"outlinewidth\": 0, \"ticks\": \"\"}}, \"type\": \"scattergeo\"}], \"scattergl\": [{\"marker\": {\"colorbar\": {\"outlinewidth\": 0, \"ticks\": \"\"}}, \"type\": \"scattergl\"}], \"scattermapbox\": [{\"marker\": {\"colorbar\": {\"outlinewidth\": 0, \"ticks\": \"\"}}, \"type\": \"scattermapbox\"}], \"scatterpolar\": [{\"marker\": {\"colorbar\": {\"outlinewidth\": 0, \"ticks\": \"\"}}, \"type\": \"scatterpolar\"}], \"scatterpolargl\": [{\"marker\": {\"colorbar\": {\"outlinewidth\": 0, \"ticks\": \"\"}}, \"type\": \"scatterpolargl\"}], \"scatterternary\": [{\"marker\": {\"colorbar\": {\"outlinewidth\": 0, \"ticks\": \"\"}}, \"type\": \"scatterternary\"}], \"surface\": [{\"colorbar\": {\"outlinewidth\": 0, \"ticks\": \"\"}, \"colorscale\": [[0.0, \"#0d0887\"], [0.1111111111111111, \"#46039f\"], [0.2222222222222222, \"#7201a8\"], [0.3333333333333333, \"#9c179e\"], [0.4444444444444444, \"#bd3786\"], [0.5555555555555556, \"#d8576b\"], [0.6666666666666666, \"#ed7953\"], [0.7777777777777778, \"#fb9f3a\"], [0.8888888888888888, \"#fdca26\"], [1.0, \"#f0f921\"]], \"type\": \"surface\"}], \"table\": [{\"cells\": {\"fill\": {\"color\": \"#EBF0F8\"}, \"line\": {\"color\": \"white\"}}, \"header\": {\"fill\": {\"color\": \"#C8D4E3\"}, \"line\": {\"color\": \"white\"}}, \"type\": \"table\"}]}, \"layout\": {\"annotationdefaults\": {\"arrowcolor\": \"#2a3f5f\", \"arrowhead\": 0, \"arrowwidth\": 1}, \"coloraxis\": {\"colorbar\": {\"outlinewidth\": 0, \"ticks\": \"\"}}, \"colorscale\": {\"diverging\": [[0, \"#8e0152\"], [0.1, \"#c51b7d\"], [0.2, \"#de77ae\"], [0.3, \"#f1b6da\"], [0.4, \"#fde0ef\"], [0.5, \"#f7f7f7\"], [0.6, \"#e6f5d0\"], [0.7, \"#b8e186\"], [0.8, \"#7fbc41\"], [0.9, \"#4d9221\"], [1, \"#276419\"]], \"sequential\": [[0.0, \"#0d0887\"], [0.1111111111111111, \"#46039f\"], [0.2222222222222222, \"#7201a8\"], [0.3333333333333333, \"#9c179e\"], [0.4444444444444444, \"#bd3786\"], [0.5555555555555556, \"#d8576b\"], [0.6666666666666666, \"#ed7953\"], [0.7777777777777778, \"#fb9f3a\"], [0.8888888888888888, \"#fdca26\"], [1.0, \"#f0f921\"]], \"sequentialminus\": [[0.0, \"#0d0887\"], [0.1111111111111111, \"#46039f\"], [0.2222222222222222, \"#7201a8\"], [0.3333333333333333, \"#9c179e\"], [0.4444444444444444, \"#bd3786\"], [0.5555555555555556, \"#d8576b\"], [0.6666666666666666, \"#ed7953\"], [0.7777777777777778, \"#fb9f3a\"], [0.8888888888888888, \"#fdca26\"], [1.0, \"#f0f921\"]]}, \"colorway\": [\"#636efa\", \"#EF553B\", \"#00cc96\", \"#ab63fa\", \"#FFA15A\", \"#19d3f3\", \"#FF6692\", \"#B6E880\", \"#FF97FF\", \"#FECB52\"], \"font\": {\"color\": \"#2a3f5f\"}, \"geo\": {\"bgcolor\": \"white\", \"lakecolor\": \"white\", \"landcolor\": \"#E5ECF6\", \"showlakes\": true, \"showland\": true, \"subunitcolor\": \"white\"}, \"hoverlabel\": {\"align\": \"left\"}, \"hovermode\": \"closest\", \"mapbox\": {\"style\": \"light\"}, \"paper_bgcolor\": \"white\", \"plot_bgcolor\": \"#E5ECF6\", \"polar\": {\"angularaxis\": {\"gridcolor\": \"white\", \"linecolor\": \"white\", \"ticks\": \"\"}, \"bgcolor\": \"#E5ECF6\", \"radialaxis\": {\"gridcolor\": \"white\", \"linecolor\": \"white\", \"ticks\": \"\"}}, \"scene\": {\"xaxis\": {\"backgroundcolor\": \"#E5ECF6\", \"gridcolor\": \"white\", \"gridwidth\": 2, \"linecolor\": \"white\", \"showbackground\": true, \"ticks\": \"\", \"zerolinecolor\": \"white\"}, \"yaxis\": {\"backgroundcolor\": \"#E5ECF6\", \"gridcolor\": \"white\", \"gridwidth\": 2, \"linecolor\": \"white\", \"showbackground\": true, \"ticks\": \"\", \"zerolinecolor\": \"white\"}, \"zaxis\": {\"backgroundcolor\": \"#E5ECF6\", \"gridcolor\": \"white\", \"gridwidth\": 2, \"linecolor\": \"white\", \"showbackground\": true, \"ticks\": \"\", \"zerolinecolor\": \"white\"}}, \"shapedefaults\": {\"line\": {\"color\": \"#2a3f5f\"}}, \"ternary\": {\"aaxis\": {\"gridcolor\": \"white\", \"linecolor\": \"white\", \"ticks\": \"\"}, \"baxis\": {\"gridcolor\": \"white\", \"linecolor\": \"white\", \"ticks\": \"\"}, \"bgcolor\": \"#E5ECF6\", \"caxis\": {\"gridcolor\": \"white\", \"linecolor\": \"white\", \"ticks\": \"\"}}, \"title\": {\"x\": 0.05}, \"xaxis\": {\"automargin\": true, \"gridcolor\": \"white\", \"linecolor\": \"white\", \"ticks\": \"\", \"title\": {\"standoff\": 15}, \"zerolinecolor\": \"white\", \"zerolinewidth\": 2}, \"yaxis\": {\"automargin\": true, \"gridcolor\": \"white\", \"linecolor\": \"white\", \"ticks\": \"\", \"title\": {\"standoff\": 15}, \"zerolinecolor\": \"white\", \"zerolinewidth\": 2}}}, \"title\": {\"text\": \"Grafico 2\"}, \"xaxis\": {\"anchor\": \"y\", \"domain\": [0.0, 0.94], \"tickfont\": {\"size\": 14}}, \"yaxis\": {\"anchor\": \"x\", \"autorange\": false, \"domain\": [0.0, 1.0], \"range\": [0, 1.2], \"showticklabels\": false}, \"yaxis2\": {\"anchor\": \"x\", \"autorange\": false, \"overlaying\": \"y\", \"range\": [-10, 2], \"showticklabels\": false, \"side\": \"right\"}},\n",
       "                        {\"responsive\": true}\n",
       "                    ).then(function(){\n",
       "                            \n",
       "var gd = document.getElementById('8bd34220-d1fc-45ad-ac6b-8ccacfd5c4da');\n",
       "var x = new MutationObserver(function (mutations, observer) {{\n",
       "        var display = window.getComputedStyle(gd).display;\n",
       "        if (!display || display === 'none') {{\n",
       "            console.log([gd, 'removed!']);\n",
       "            Plotly.purge(gd);\n",
       "            observer.disconnect();\n",
       "        }}\n",
       "}});\n",
       "\n",
       "// Listen for the removal of the full notebook cells\n",
       "var notebookContainer = gd.closest('#notebook-container');\n",
       "if (notebookContainer) {{\n",
       "    x.observe(notebookContainer, {childList: true});\n",
       "}}\n",
       "\n",
       "// Listen for the clearing of the current output cell\n",
       "var outputEl = gd.closest('.output');\n",
       "if (outputEl) {{\n",
       "    x.observe(outputEl, {childList: true});\n",
       "}}\n",
       "\n",
       "                        })\n",
       "                };\n",
       "                });\n",
       "            </script>\n",
       "        </div>"
      ]
     },
     "metadata": {},
     "output_type": "display_data"
    }
   ],
   "source": [
    "stacked_barplot_probs(train_table)"
   ]
  },
  {
   "cell_type": "code",
   "execution_count": 110,
   "metadata": {
    "collapsed": true
   },
   "outputs": [],
   "source": [
    "# #import matplotlib.pyplot as plt\n",
    "# #plt.style.use('ggplot')\n",
    "\n",
    "# def plots_prob_groups (train_table, test_table, figsize_1 = 15, figsize_2= 14, fontsize_inside= 16):\n",
    "\n",
    "#     tables = [train_table, test_table]\n",
    "#     fig = plt.figure(figsize=(figsize_1,figsize_2))\n",
    "#     for index, table in enumerate(tables):\n",
    "#         ax = fig.add_subplot(2, 1, index+1)\n",
    "#         #plot\n",
    "#         A = table.P_1\n",
    "#         B = 1- table.P_1\n",
    "#         bar_l = range(len(table.index))\n",
    "#         bar_width = 0.5\n",
    "#         #tick_pos = [i + (bar_width / 2) for i in bar_l]\n",
    "\n",
    "#         ax1 = ax.bar(bar_l, A, width=bar_width,label=\"A\", color=\"#e87109\")\n",
    "#         ax2 = ax.bar(bar_l, B, bottom = A,width=bar_width,label=\"B\", color=\"#3842f7\")\n",
    "        \n",
    "#         # visual elements\n",
    "#         fontsize_axis = 13\n",
    "#         ax.set_xlabel(\"Groups\", fontsize=18)\n",
    "#         ax.set_xticklabels(train_table.index, rotation = 0)\n",
    "#         ax.set_yticklabels(labels = range(1), color='white')\n",
    "#         #ax.set_yticks(range(len(train_table.index)))\n",
    "#         ax.set_xticks(range(len(train_table.index)))\n",
    "#         ax.legend(['Prob_1','Prob_0'],bbox_to_anchor=(1, 0.9),fontsize=fontsize_axis)\n",
    "#         plt.yticks(fontsize=fontsize_axis)\n",
    "#         plt.xticks(fontsize=fontsize_axis)\n",
    "#         ax.set_ylim(0,1.13)\n",
    "#         i = 0\n",
    "\n",
    "#         #plotting texts inside bars\n",
    "#         for r1, r2 in zip(ax1, ax2):\n",
    "#             h1 = np.round(r1.get_height(),decimals=2)\n",
    "#             h2 = np.round(r2.get_height(),decimals=2)\n",
    "#             plt.text(r1.get_x() + r1.get_width() / 2., h1 / 2., h1, ha=\"center\", va=\"center\", color=\"white\", fontsize=fontsize_inside, fontweight=\"bold\")\n",
    "#             plt.text(r2.get_x() + r2.get_width() / 2., h1 + h2 /2., h2, ha=\"center\", va=\"center\", color=\"white\", fontsize=fontsize_inside, fontweight=\"bold\")\n",
    "#             plt.text(r1.get_x() + r1.get_width() / 2, h1+h2 +0.05, '{:.0%}'.format(np.round(table.P_total[i],2)), ha=\"center\", va=\"center\", color=\"gray\", fontsize=13)\n",
    "#             i += 1\n",
    "\n",
    "#     plt.subplots_adjust(wspace=0.2, hspace=0.2)\n",
    "\n",
    "#     plt.show()\n",
    "        \n",
    "       "
   ]
  },
  {
   "cell_type": "code",
   "execution_count": 111,
   "metadata": {},
   "outputs": [
    {
     "name": "stdout",
     "output_type": "stream",
     "text": [
      "original bins: [ 0.0044222   0.10299859  0.20452673  0.33989183  0.51575841  0.62815722\n",
      "  0.78905976  0.94410692]\n",
      "modified bins: [ 0.          0.10299859  0.20452673  0.33989183  0.51575841  0.62815722\n",
      "  0.78905976  1.        ]\n"
     ]
    },
    {
     "data": {
      "image/png": "[encoded data removed]",
      "text/plain": [
       "<matplotlib.figure.Figure at 0xd557978>"
      ]
     },
     "metadata": {},
     "output_type": "display_data"
    }
   ],
   "source": [
    "train_table, test_table, train_group, test_group = probability_groups(7, dados1.prob_treino, dados1.prob_resp, dados2.prob_teste, dados2.pred_teste)\n",
    "plots_prob_groups (train_table, test_table)"
   ]
  },
  {
   "cell_type": "code",
   "execution_count": 91,
   "metadata": {},
   "outputs": [
    {
     "name": "stdout",
     "output_type": "stream",
     "text": [
      "                  N_0  N_1  total   P_1  P_total\n",
      "prob_treino                                     \n",
      "(0.00342, 0.179]   23   40     63  0.63     0.25\n",
      "(0.179, 0.427]     23   39     62  0.63     0.25\n",
      "(0.427, 0.666]     14   48     62  0.77     0.25\n",
      "(0.666, 0.944]     19   44     63  0.70     0.25\n",
      "\n",
      "\n",
      "            N_0  N_1  total   P_1  P_total\n",
      "prob_teste                                \n",
      "0            15   21     36  0.58     0.14\n",
      "1            18   44     62  0.71     0.25\n",
      "2            26   43     69  0.62     0.28\n",
      "3            20   63     83  0.76     0.33\n",
      "\n",
      "\n",
      "0    (0.00342, 0.179]\n",
      "1    (0.00342, 0.179]\n",
      "2    (0.00342, 0.179]\n",
      "3    (0.00342, 0.179]\n",
      "4    (0.00342, 0.179]\n",
      "Name: prob_treino, dtype: category\n",
      "Categories (4, interval[float64]): [(0.00342, 0.179] < (0.179, 0.427] < (0.427, 0.666] < (0.666, 0.944]]\n",
      "\n",
      "\n",
      "0    2\n",
      "1    2\n",
      "2    1\n",
      "3    3\n",
      "4    0\n",
      "Name: prob_teste, dtype: int64\n",
      "\n",
      "\n"
     ]
    }
   ],
   "source": [
    "print(train_table)\n",
    "print('\\n')\n",
    "print(test_table)\n",
    "print('\\n')\n",
    "print(train_group.head())\n",
    "print('\\n')\n",
    "print(test_group.head())\n",
    "print('\\n')"
   ]
  }
 ],
 "metadata": {
  "kernelspec": {
   "display_name": "Python 3",
   "language": "python",
   "name": "python3"
  },
  "language_info": {
   "codemirror_mode": {
    "name": "ipython",
    "version": 3
   },
   "file_extension": ".py",
   "mimetype": "text/x-python",
   "name": "python",
   "nbconvert_exporter": "python",
   "pygments_lexer": "ipython3",
   "version": "3.7.1"
  },
  "toc": {
   "base_numbering": 1,
   "nav_menu": {},
   "number_sections": true,
   "sideBar": true,
   "skip_h1_title": false,
   "title_cell": "Table of Contents",
   "title_sidebar": "Contents",
   "toc_cell": true,
   "toc_position": {
    "height": "calc(100% - 180px)",
    "left": "10px",
    "top": "150px",
    "width": "165px"
   },
   "toc_section_display": true,
   "toc_window_display": true
  }
 },
 "nbformat": 4,
 "nbformat_minor": 2
}
